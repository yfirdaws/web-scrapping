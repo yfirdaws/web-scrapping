{
 "cells": [
  {
   "cell_type": "code",
   "execution_count": 8,
   "id": "0f38fb6d-068e-4d80-9742-95f0df573ee3",
   "metadata": {},
   "outputs": [],
   "source": [
    "import requests as r\n",
    "from bs4 import BeautifulSoup\n",
    "import pandas as pd\n",
    "import csv\n",
    "from time import sleep\n",
    "from random import randint\n",
    "import numpy as np\n",
    "from selenium import webdriver\n",
    "from webdriver_manager.chrome import ChromeDriverManager"
   ]
  },
  {
   "cell_type": "code",
   "execution_count": 9,
   "id": "a92d42a8-7ffd-41cf-8536-08cb1be6163a",
   "metadata": {},
   "outputs": [],
   "source": [
    "headers = dict()\n",
    "headers[\n",
    "    \"User-Agent\"\n",
    "] = \"Mozilla/5.0 (Windows NT 10.0; Win64; x64) AppleWebKit/537.36 (KHTML, like Gecko) Chrome/74.0.3729.169 Safari/537.36\"\n"
   ]
  },
  {
   "cell_type": "code",
   "execution_count": 10,
   "id": "0f1bcb9d-028d-412b-b89f-9ef6bfb34b97",
   "metadata": {},
   "outputs": [
    {
     "name": "stderr",
     "output_type": "stream",
     "text": [
      "\n",
      "\n",
      "====== WebDriver manager ======\n",
      "Current google-chrome version is 91.0.4472\n",
      "Get LATEST driver version for 91.0.4472\n",
      "Driver [C:\\Users\\yfird\\.wdm\\drivers\\chromedriver\\win32\\91.0.4472.101\\chromedriver.exe] found in cache\n"
     ]
    }
   ],
   "source": [
    "driver = webdriver.Chrome(ChromeDriverManager().install())"
   ]
  },
  {
   "cell_type": "code",
   "execution_count": 11,
   "id": "efa2ff32-56d1-4e6a-83bc-097c514c0fdc",
   "metadata": {},
   "outputs": [],
   "source": [
    "results=()"
   ]
  },
  {
   "cell_type": "code",
   "execution_count": 16,
   "id": "9944f9de-7f56-4b1f-aac7-435c030a7d4c",
   "metadata": {
    "tags": []
   },
   "outputs": [
    {
     "ename": "SyntaxError",
     "evalue": "invalid syntax (<ipython-input-16-0c5acd768081>, line 10)",
     "output_type": "error",
     "traceback": [
      "\u001b[1;36m  File \u001b[1;32m\"<ipython-input-16-0c5acd768081>\"\u001b[1;36m, line \u001b[1;32m10\u001b[0m\n\u001b[1;33m    for item in items:\u001b[0m\n\u001b[1;37m                     ^\u001b[0m\n\u001b[1;31mSyntaxError\u001b[0m\u001b[1;31m:\u001b[0m invalid syntax\n"
     ]
    }
   ],
   "source": [
    "for page in range(1,21):\n",
    "    url=\"https://www.amazon.com/nollywood-movies/s?k=nollywood+movies&page={}\".format(page)\n",
    "    driver.get(url)\n",
    "    wiki_page_request= driver.page_source\n",
    "    soup = BeautifulSoup(wiki_page_request, 'lxml')\n",
    "    items= soup.find_all(\"div\",class_=\"sg-row\")\n",
    "    sleep(randint(2, 5)\n",
    "    #print (items.text)\n",
    "    \n",
    "    for item in items:\n",
    "        try:\n",
    "            Title=item.find('span', {'class':'a-size-medium a-color-base a-text-normal'}).text.strip()\n",
    "        except:\n",
    "               Title=None\n",
    "       #print(Title)\n",
    "        try:\n",
    "            Director=item.find_all('li')[1].text.strip()\n",
    "        except:\n",
    "             Director=None\n",
    "       #print(Director)\n",
    "        try:\n",
    "            Cast= item.find('li').text.strip()\n",
    "        except:\n",
    "            Cast=None\n",
    "        #rint(Cast)\n",
    "        try:\n",
    "            Year=item.find('div', {'class':'a-row'}).find('span',).text.strip()\n",
    "        except:\n",
    "            Year=None\n",
    "        #rint(Year)\n",
    "        \n",
    "\n",
    "\n",
    "\n"
   ]
  },
  {
   "cell_type": "code",
   "execution_count": null,
   "id": "2bc6b120-5b7b-4dd5-be69-d76667946d82",
   "metadata": {},
   "outputs": [],
   "source": [
    "movies=pd.DataFrame(results, index=[0])"
   ]
  },
  {
   "cell_type": "code",
   "execution_count": null,
   "id": "17b9696c-19bf-47c5-b40a-676ea98eaec8",
   "metadata": {},
   "outputs": [],
   "source": [
    "movies.head()"
   ]
  },
  {
   "cell_type": "code",
   "execution_count": null,
   "id": "7969ef3c-5936-45f6-8b46-6da517cedaa5",
   "metadata": {},
   "outputs": [],
   "source": [
    "temp_df = pd.DataFrame([[Title,Director,Cast,Year]], columns=['Title','Director','Cast','Year'])\n",
    "results = temp_df\n",
    "results.head()"
   ]
  },
  {
   "cell_type": "code",
   "execution_count": null,
   "id": "dfbc3dcf-79bb-4919-8e1a-01993347b3a5",
   "metadata": {},
   "outputs": [],
   "source": [
    "\n",
    "#NavigableString, which represents text found in the HTML document.\n",
    "#Doctype object, which contains information about the type of the document.\n",
    "#Tag object, which contains other nested tags.\n"
   ]
  },
  {
   "cell_type": "code",
   "execution_count": 21,
   "id": "18ba5e7f-299c-4ced-a698-a45ed24b8269",
   "metadata": {
    "collapsed": true,
    "jupyter": {
     "outputs_hidden": true
    },
    "tags": []
   },
   "outputs": [
    {
     "name": "stdout",
     "output_type": "stream",
     "text": [
      "https://www.amazon.com/nollywood-movies/s?k=nollywood+movies&qid=1624372441&ref=sr_pg_1\n",
      "https://www.amazon.com/nollywood-movies/s?k=nollywood+movies&qid=1624372441&ref=sr_pg_2\n",
      "https://www.amazon.com/nollywood-movies/s?k=nollywood+movies&qid=1624372441&ref=sr_pg_3\n",
      "https://www.amazon.com/nollywood-movies/s?k=nollywood+movies&qid=1624372441&ref=sr_pg_4\n",
      "https://www.amazon.com/nollywood-movies/s?k=nollywood+movies&qid=1624372441&ref=sr_pg_5\n",
      "https://www.amazon.com/nollywood-movies/s?k=nollywood+movies&qid=1624372441&ref=sr_pg_6\n",
      "https://www.amazon.com/nollywood-movies/s?k=nollywood+movies&qid=1624372441&ref=sr_pg_7\n",
      "https://www.amazon.com/nollywood-movies/s?k=nollywood+movies&qid=1624372441&ref=sr_pg_8\n",
      "https://www.amazon.com/nollywood-movies/s?k=nollywood+movies&qid=1624372441&ref=sr_pg_9\n",
      "https://www.amazon.com/nollywood-movies/s?k=nollywood+movies&qid=1624372441&ref=sr_pg_10\n",
      "https://www.amazon.com/nollywood-movies/s?k=nollywood+movies&qid=1624372441&ref=sr_pg_11\n",
      "https://www.amazon.com/nollywood-movies/s?k=nollywood+movies&qid=1624372441&ref=sr_pg_12\n",
      "https://www.amazon.com/nollywood-movies/s?k=nollywood+movies&qid=1624372441&ref=sr_pg_13\n",
      "https://www.amazon.com/nollywood-movies/s?k=nollywood+movies&qid=1624372441&ref=sr_pg_14\n",
      "https://www.amazon.com/nollywood-movies/s?k=nollywood+movies&qid=1624372441&ref=sr_pg_15\n",
      "https://www.amazon.com/nollywood-movies/s?k=nollywood+movies&qid=1624372441&ref=sr_pg_16\n",
      "https://www.amazon.com/nollywood-movies/s?k=nollywood+movies&qid=1624372441&ref=sr_pg_17\n",
      "https://www.amazon.com/nollywood-movies/s?k=nollywood+movies&qid=1624372441&ref=sr_pg_18\n",
      "https://www.amazon.com/nollywood-movies/s?k=nollywood+movies&qid=1624372441&ref=sr_pg_19\n",
      "https://www.amazon.com/nollywood-movies/s?k=nollywood+movies&qid=1624372441&ref=sr_pg_20\n"
     ]
    }
   ],
   "source": [
    "for page in range(1,21):\n",
    "    url=\"https://www.amazon.com/nollywood-movies/s?k=nollywood+movies&qid=1624372441&ref=sr_pg_{}\".format(page)\n",
    "    print(url)\n"
   ]
  },
  {
   "cell_type": "code",
   "execution_count": null,
   "id": "664ba520-fb03-4862-8ff7-f5e0e2ff248f",
   "metadata": {},
   "outputs": [],
   "source": []
  }
 ],
 "metadata": {
  "kernelspec": {
   "display_name": "Python 3",
   "language": "python",
   "name": "python3"
  },
  "language_info": {
   "codemirror_mode": {
    "name": "ipython",
    "version": 3
   },
   "file_extension": ".py",
   "mimetype": "text/x-python",
   "name": "python",
   "nbconvert_exporter": "python",
   "pygments_lexer": "ipython3",
   "version": "3.7.3"
  }
 },
 "nbformat": 4,
 "nbformat_minor": 5
}
