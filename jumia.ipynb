{
 "cells": [
  {
   "cell_type": "code",
   "execution_count": 61,
   "id": "869ddce0-e397-43e0-b742-682e52e48d18",
   "metadata": {},
   "outputs": [],
   "source": [
    "import requests\n",
    "from requests import get\n",
    "from bs4 import BeautifulSoup\n",
    "import pandas as pd\n",
    "import numpy as np\n",
    "from selenium import webdriver\n",
    "from webdriver_manager.chrome import ChromeDriverManager\n"
   ]
  },
  {
   "cell_type": "code",
   "execution_count": 105,
   "id": "aa59d0e7-cdbe-43d1-9ea4-3cc4d38fbeaf",
   "metadata": {},
   "outputs": [
    {
     "name": "stderr",
     "output_type": "stream",
     "text": [
      "\n",
      "\n",
      "====== WebDriver manager ======\n",
      "Current google-chrome version is 91.0.4472\n",
      "Get LATEST driver version for 91.0.4472\n",
      "Driver [C:\\Users\\yfird\\.wdm\\drivers\\chromedriver\\win32\\91.0.4472.101\\chromedriver.exe] found in cache\n"
     ]
    }
   ],
   "source": [
    "headers = {\"Accept-Language\": \"en-US, en;q=0.5\"}\n",
    "driver = webdriver.Chrome(ChromeDriverManager().install())"
   ]
  },
  {
   "cell_type": "code",
   "execution_count": 7,
   "id": "b9f0409c-d2a5-4008-be87-95bdb72c265a",
   "metadata": {},
   "outputs": [
    {
     "name": "stdout",
     "output_type": "stream",
     "text": [
      "https://www.jumia.com.ng/food-cupboard-supplies/?page=1#catalog-listing\n",
      "https://www.jumia.com.ng/food-cupboard-supplies/?page=2#catalog-listing\n",
      "https://www.jumia.com.ng/food-cupboard-supplies/?page=3#catalog-listing\n",
      "https://www.jumia.com.ng/food-cupboard-supplies/?page=4#catalog-listing\n",
      "https://www.jumia.com.ng/food-cupboard-supplies/?page=5#catalog-listing\n",
      "https://www.jumia.com.ng/food-cupboard-supplies/?page=6#catalog-listing\n",
      "https://www.jumia.com.ng/food-cupboard-supplies/?page=7#catalog-listing\n",
      "https://www.jumia.com.ng/food-cupboard-supplies/?page=8#catalog-listing\n",
      "https://www.jumia.com.ng/food-cupboard-supplies/?page=9#catalog-listing\n",
      "https://www.jumia.com.ng/food-cupboard-supplies/?page=10#catalog-listing\n",
      "https://www.jumia.com.ng/food-cupboard-supplies/?page=11#catalog-listing\n",
      "https://www.jumia.com.ng/food-cupboard-supplies/?page=12#catalog-listing\n",
      "https://www.jumia.com.ng/food-cupboard-supplies/?page=13#catalog-listing\n",
      "https://www.jumia.com.ng/food-cupboard-supplies/?page=14#catalog-listing\n",
      "https://www.jumia.com.ng/food-cupboard-supplies/?page=15#catalog-listing\n",
      "https://www.jumia.com.ng/food-cupboard-supplies/?page=16#catalog-listing\n",
      "https://www.jumia.com.ng/food-cupboard-supplies/?page=17#catalog-listing\n",
      "https://www.jumia.com.ng/food-cupboard-supplies/?page=18#catalog-listing\n",
      "https://www.jumia.com.ng/food-cupboard-supplies/?page=19#catalog-listing\n",
      "https://www.jumia.com.ng/food-cupboard-supplies/?page=20#catalog-listing\n",
      "https://www.jumia.com.ng/food-cupboard-supplies/?page=21#catalog-listing\n",
      "https://www.jumia.com.ng/food-cupboard-supplies/?page=22#catalog-listing\n",
      "https://www.jumia.com.ng/food-cupboard-supplies/?page=23#catalog-listing\n",
      "https://www.jumia.com.ng/food-cupboard-supplies/?page=24#catalog-listing\n",
      "https://www.jumia.com.ng/food-cupboard-supplies/?page=25#catalog-listing\n",
      "https://www.jumia.com.ng/food-cupboard-supplies/?page=26#catalog-listing\n",
      "https://www.jumia.com.ng/food-cupboard-supplies/?page=27#catalog-listing\n",
      "https://www.jumia.com.ng/food-cupboard-supplies/?page=28#catalog-listing\n",
      "https://www.jumia.com.ng/food-cupboard-supplies/?page=29#catalog-listing\n",
      "https://www.jumia.com.ng/food-cupboard-supplies/?page=30#catalog-listing\n",
      "https://www.jumia.com.ng/food-cupboard-supplies/?page=31#catalog-listing\n",
      "https://www.jumia.com.ng/food-cupboard-supplies/?page=32#catalog-listing\n",
      "https://www.jumia.com.ng/food-cupboard-supplies/?page=33#catalog-listing\n",
      "https://www.jumia.com.ng/food-cupboard-supplies/?page=34#catalog-listing\n",
      "https://www.jumia.com.ng/food-cupboard-supplies/?page=35#catalog-listing\n",
      "https://www.jumia.com.ng/food-cupboard-supplies/?page=36#catalog-listing\n",
      "https://www.jumia.com.ng/food-cupboard-supplies/?page=37#catalog-listing\n",
      "https://www.jumia.com.ng/food-cupboard-supplies/?page=38#catalog-listing\n",
      "https://www.jumia.com.ng/food-cupboard-supplies/?page=39#catalog-listing\n",
      "https://www.jumia.com.ng/food-cupboard-supplies/?page=40#catalog-listing\n",
      "https://www.jumia.com.ng/food-cupboard-supplies/?page=41#catalog-listing\n",
      "https://www.jumia.com.ng/food-cupboard-supplies/?page=42#catalog-listing\n",
      "https://www.jumia.com.ng/food-cupboard-supplies/?page=43#catalog-listing\n",
      "https://www.jumia.com.ng/food-cupboard-supplies/?page=44#catalog-listing\n",
      "https://www.jumia.com.ng/food-cupboard-supplies/?page=45#catalog-listing\n",
      "https://www.jumia.com.ng/food-cupboard-supplies/?page=46#catalog-listing\n",
      "https://www.jumia.com.ng/food-cupboard-supplies/?page=47#catalog-listing\n",
      "https://www.jumia.com.ng/food-cupboard-supplies/?page=48#catalog-listing\n",
      "https://www.jumia.com.ng/food-cupboard-supplies/?page=49#catalog-listing\n"
     ]
    }
   ],
   "source": [
    "#checking url is working\n",
    "page=1\n",
    "while page !=50:\n",
    "    url=f\"https://www.jumia.com.ng/food-cupboard-supplies/?page={page}#catalog-listing\"\n",
    "    print(url)\n",
    "    page=page +1"
   ]
  },
  {
   "cell_type": "code",
   "execution_count": 72,
   "id": "32888126-af05-4a3b-9822-6ab68641039f",
   "metadata": {},
   "outputs": [],
   "source": [
    "page=1\n",
    "Name=[]\n",
    "Price=[]\n",
    "while page !=50:\n",
    "    url=f\"https://www.jumia.com.ng/food-cupboard-supplies/?page={page}#catalog-listing\"\n",
    "    driver.get(url)\n",
    "    results = driver.page_source\n",
    "    soup = BeautifulSoup(results, \"html.parser\")\n",
    "\n",
    "    products=soup.find_all('div', class_=\"info\")\n",
    "    for item in products:\n",
    "        name=item.h3.text\n",
    "        Name.append(name)\n",
    "        #price\n",
    "        price=item.find('div',class_='prc')\n",
    "        if price is not None:\n",
    "             price= price.text.strip()      \n",
    "        else:\n",
    "             price = 'NaN'\n",
    "               \n",
    "        Price.append(price)\n",
    "        \n",
    "    page=page +1\n"
   ]
  },
  {
   "cell_type": "code",
   "execution_count": 73,
   "id": "4d228cea-6dfe-4f9a-bdfe-0acc966191cf",
   "metadata": {},
   "outputs": [],
   "source": [
    "Groceries=pd.DataFrame({\n",
    "    'Name':Name,\n",
    "    'Price':Price\n",
    "})"
   ]
  },
  {
   "cell_type": "code",
   "execution_count": 74,
   "id": "3d8add9c-8c7e-49cf-8481-eca0d558dc9a",
   "metadata": {},
   "outputs": [
    {
     "data": {
      "text/html": [
       "<div>\n",
       "<style scoped>\n",
       "    .dataframe tbody tr th:only-of-type {\n",
       "        vertical-align: middle;\n",
       "    }\n",
       "\n",
       "    .dataframe tbody tr th {\n",
       "        vertical-align: top;\n",
       "    }\n",
       "\n",
       "    .dataframe thead th {\n",
       "        text-align: right;\n",
       "    }\n",
       "</style>\n",
       "<table border=\"1\" class=\"dataframe\">\n",
       "  <thead>\n",
       "    <tr style=\"text-align: right;\">\n",
       "      <th></th>\n",
       "      <th>Name</th>\n",
       "      <th>Price</th>\n",
       "    </tr>\n",
       "  </thead>\n",
       "  <tbody>\n",
       "    <tr>\n",
       "      <th>0</th>\n",
       "      <td>Indomie INDOMITABLE INDOMIE PACK- 70g (1carton)</td>\n",
       "      <td>₦ 2,750</td>\n",
       "    </tr>\n",
       "    <tr>\n",
       "      <th>1</th>\n",
       "      <td>Indomie ONION CHICKEN- 70g (1 Carton)</td>\n",
       "      <td>₦ 2,950</td>\n",
       "    </tr>\n",
       "    <tr>\n",
       "      <th>2</th>\n",
       "      <td>Knorr Beef Cubes 50x8g</td>\n",
       "      <td>₦ 600</td>\n",
       "    </tr>\n",
       "    <tr>\n",
       "      <th>3</th>\n",
       "      <td>Devon King'S Pure Vegetable Oil (10L)</td>\n",
       "      <td>₦ 12,500</td>\n",
       "    </tr>\n",
       "    <tr>\n",
       "      <th>4</th>\n",
       "      <td>Devon King'S Pure Vegetable Oil -3LitersÃ—3</td>\n",
       "      <td>₦ 11,500</td>\n",
       "    </tr>\n",
       "  </tbody>\n",
       "</table>\n",
       "</div>"
      ],
      "text/plain": [
       "                                              Name     Price\n",
       "0  Indomie INDOMITABLE INDOMIE PACK- 70g (1carton)   ₦ 2,750\n",
       "1            Indomie ONION CHICKEN- 70g (1 Carton)   ₦ 2,950\n",
       "2                           Knorr Beef Cubes 50x8g     ₦ 600\n",
       "3            Devon King'S Pure Vegetable Oil (10L)  ₦ 12,500\n",
       "4      Devon King'S Pure Vegetable Oil -3LitersÃ—3  ₦ 11,500"
      ]
     },
     "execution_count": 74,
     "metadata": {},
     "output_type": "execute_result"
    }
   ],
   "source": [
    "Groceries.head()"
   ]
  },
  {
   "cell_type": "code",
   "execution_count": 75,
   "id": "619d0399-19ed-47c6-a81b-24fd83fb80b9",
   "metadata": {},
   "outputs": [
    {
     "data": {
      "text/plain": [
       "(2344, 2)"
      ]
     },
     "execution_count": 75,
     "metadata": {},
     "output_type": "execute_result"
    }
   ],
   "source": [
    "Groceries.shape"
   ]
  },
  {
   "cell_type": "code",
   "execution_count": 76,
   "id": "200a7b3d-95f1-4248-b7f0-225cb49186e9",
   "metadata": {},
   "outputs": [
    {
     "data": {
      "text/plain": [
       "Name     False\n",
       "Price    False\n",
       "dtype: bool"
      ]
     },
     "execution_count": 76,
     "metadata": {},
     "output_type": "execute_result"
    }
   ],
   "source": [
    "Groceries.isnull().any()"
   ]
  },
  {
   "cell_type": "code",
   "execution_count": 77,
   "id": "13a4cd7d-a648-4238-b253-d4a813072c68",
   "metadata": {},
   "outputs": [
    {
     "data": {
      "text/html": [
       "<div>\n",
       "<style scoped>\n",
       "    .dataframe tbody tr th:only-of-type {\n",
       "        vertical-align: middle;\n",
       "    }\n",
       "\n",
       "    .dataframe tbody tr th {\n",
       "        vertical-align: top;\n",
       "    }\n",
       "\n",
       "    .dataframe thead th {\n",
       "        text-align: right;\n",
       "    }\n",
       "</style>\n",
       "<table border=\"1\" class=\"dataframe\">\n",
       "  <thead>\n",
       "    <tr style=\"text-align: right;\">\n",
       "      <th></th>\n",
       "      <th>Name</th>\n",
       "      <th>Price</th>\n",
       "    </tr>\n",
       "  </thead>\n",
       "  <tbody>\n",
       "    <tr>\n",
       "      <th>2339</th>\n",
       "      <td>Goya Extra Virgin Olive Oil - 500ml</td>\n",
       "      <td>₦ 3,550</td>\n",
       "    </tr>\n",
       "    <tr>\n",
       "      <th>2340</th>\n",
       "      <td>Power Oil 2.6L PET Bottle Pure Vegetable Cooki...</td>\n",
       "      <td>₦ 5,000 - ₦ 24,000</td>\n",
       "    </tr>\n",
       "    <tr>\n",
       "      <th>2341</th>\n",
       "      <td>Tesco Pure Sunflower Oil 5 Litrs</td>\n",
       "      <td>₦ 7,500</td>\n",
       "    </tr>\n",
       "    <tr>\n",
       "      <th>2342</th>\n",
       "      <td>Sarah Coloured Prawn Crackers - 3 Packs</td>\n",
       "      <td>₦ 1,700</td>\n",
       "    </tr>\n",
       "    <tr>\n",
       "      <th>2343</th>\n",
       "      <td>Pegasus Fine Pink Himalayan Pink Salt 750g</td>\n",
       "      <td>₦ 4,900</td>\n",
       "    </tr>\n",
       "  </tbody>\n",
       "</table>\n",
       "</div>"
      ],
      "text/plain": [
       "                                                   Name               Price\n",
       "2339                Goya Extra Virgin Olive Oil - 500ml             ₦ 3,550\n",
       "2340  Power Oil 2.6L PET Bottle Pure Vegetable Cooki...  ₦ 5,000 - ₦ 24,000\n",
       "2341                   Tesco Pure Sunflower Oil 5 Litrs             ₦ 7,500\n",
       "2342            Sarah Coloured Prawn Crackers - 3 Packs             ₦ 1,700\n",
       "2343         Pegasus Fine Pink Himalayan Pink Salt 750g             ₦ 4,900"
      ]
     },
     "execution_count": 77,
     "metadata": {},
     "output_type": "execute_result"
    }
   ],
   "source": [
    "Groceries.tail()"
   ]
  },
  {
   "cell_type": "code",
   "execution_count": 78,
   "id": "836a9d47-537a-41ae-8dec-02ed30e70841",
   "metadata": {},
   "outputs": [
    {
     "data": {
      "text/plain": [
       "1"
      ]
     },
     "execution_count": 78,
     "metadata": {},
     "output_type": "execute_result"
    }
   ],
   "source": [
    "Groceries.duplicated().any().sum()"
   ]
  },
  {
   "cell_type": "code",
   "execution_count": 79,
   "id": "5bf59969-a416-4f5a-97b0-167b4b4d6360",
   "metadata": {},
   "outputs": [
    {
     "data": {
      "text/plain": [
       "0       <class 'str'>\n",
       "1       <class 'str'>\n",
       "2       <class 'str'>\n",
       "3       <class 'str'>\n",
       "4       <class 'str'>\n",
       "            ...      \n",
       "2339    <class 'str'>\n",
       "2340    <class 'str'>\n",
       "2341    <class 'str'>\n",
       "2342    <class 'str'>\n",
       "2343    <class 'str'>\n",
       "Name: Price, Length: 2344, dtype: object"
      ]
     },
     "execution_count": 79,
     "metadata": {},
     "output_type": "execute_result"
    }
   ],
   "source": [
    "Groceries['Price'].apply(type)"
   ]
  },
  {
   "cell_type": "code",
   "execution_count": 81,
   "id": "e17b7f07-788b-4af4-af0a-6980531dbbde",
   "metadata": {},
   "outputs": [],
   "source": [
    "df[\"Price\"] = df[\"Price\"].str.replace('₦', '')"
   ]
  },
  {
   "cell_type": "code",
   "execution_count": 85,
   "id": "a6f02401-16d6-4f5e-aa81-6a09500c9b04",
   "metadata": {},
   "outputs": [],
   "source": [
    "df[\"Price\"] = df[\"Price\"].str.replace(',', '')"
   ]
  },
  {
   "cell_type": "code",
   "execution_count": 86,
   "id": "a8fe7998-0da1-492d-9c9b-1fe4451d45c2",
   "metadata": {},
   "outputs": [
    {
     "data": {
      "text/plain": [
       "0     <div class=\"prc\"> 2750</div>\n",
       "1     <div class=\"prc\"> 2950</div>\n",
       "2      <div class=\"prc\"> 600</div>\n",
       "3    <div class=\"prc\"> 12500</div>\n",
       "4    <div class=\"prc\"> 11500</div>\n",
       "Name: Price, dtype: object"
      ]
     },
     "execution_count": 86,
     "metadata": {},
     "output_type": "execute_result"
    }
   ],
   "source": [
    "df[\"Price\"].head()"
   ]
  },
  {
   "cell_type": "code",
   "execution_count": 88,
   "id": "9a155d87-1824-4587-a467-54635eecff94",
   "metadata": {},
   "outputs": [
    {
     "data": {
      "text/html": [
       "<div>\n",
       "<style scoped>\n",
       "    .dataframe tbody tr th:only-of-type {\n",
       "        vertical-align: middle;\n",
       "    }\n",
       "\n",
       "    .dataframe tbody tr th {\n",
       "        vertical-align: top;\n",
       "    }\n",
       "\n",
       "    .dataframe thead th {\n",
       "        text-align: right;\n",
       "    }\n",
       "</style>\n",
       "<table border=\"1\" class=\"dataframe\">\n",
       "  <thead>\n",
       "    <tr style=\"text-align: right;\">\n",
       "      <th></th>\n",
       "      <th>Name</th>\n",
       "      <th>Price</th>\n",
       "    </tr>\n",
       "  </thead>\n",
       "  <tbody>\n",
       "    <tr>\n",
       "      <th>0</th>\n",
       "      <td>Indomie INDOMITABLE INDOMIE PACK- 70g (1carton)</td>\n",
       "      <td>₦ 2,750</td>\n",
       "    </tr>\n",
       "    <tr>\n",
       "      <th>1</th>\n",
       "      <td>Indomie ONION CHICKEN- 70g (1 Carton)</td>\n",
       "      <td>₦ 2,950</td>\n",
       "    </tr>\n",
       "    <tr>\n",
       "      <th>2</th>\n",
       "      <td>Knorr Beef Cubes 50x8g</td>\n",
       "      <td>₦ 600</td>\n",
       "    </tr>\n",
       "    <tr>\n",
       "      <th>3</th>\n",
       "      <td>Devon King'S Pure Vegetable Oil (10L)</td>\n",
       "      <td>₦ 12,500</td>\n",
       "    </tr>\n",
       "    <tr>\n",
       "      <th>4</th>\n",
       "      <td>Devon King'S Pure Vegetable Oil -3LitersÃ—3</td>\n",
       "      <td>₦ 11,500</td>\n",
       "    </tr>\n",
       "  </tbody>\n",
       "</table>\n",
       "</div>"
      ],
      "text/plain": [
       "                                              Name     Price\n",
       "0  Indomie INDOMITABLE INDOMIE PACK- 70g (1carton)   ₦ 2,750\n",
       "1            Indomie ONION CHICKEN- 70g (1 Carton)   ₦ 2,950\n",
       "2                           Knorr Beef Cubes 50x8g     ₦ 600\n",
       "3            Devon King'S Pure Vegetable Oil (10L)  ₦ 12,500\n",
       "4      Devon King'S Pure Vegetable Oil -3LitersÃ—3  ₦ 11,500"
      ]
     },
     "execution_count": 88,
     "metadata": {},
     "output_type": "execute_result"
    }
   ],
   "source": [
    "Groceries.head()"
   ]
  },
  {
   "cell_type": "code",
   "execution_count": 89,
   "id": "37bce319-d944-49cc-bfed-4a45c8944caf",
   "metadata": {},
   "outputs": [],
   "source": [
    "Groceries.to_csv('Jumia_Groceries.csv', index=False)"
   ]
  },
  {
   "cell_type": "code",
   "execution_count": 90,
   "id": "87b0a294-fe60-4aec-b169-4cb06750e6a2",
   "metadata": {},
   "outputs": [],
   "source": [
    "df=pd.read_csv('Jumia_Groceries.csv')"
   ]
  },
  {
   "cell_type": "code",
   "execution_count": 92,
   "id": "a5712f07-381b-45fd-86d4-ac09e0fe38ab",
   "metadata": {},
   "outputs": [
    {
     "data": {
      "text/plain": [
       "(2344, 2)"
      ]
     },
     "execution_count": 92,
     "metadata": {},
     "output_type": "execute_result"
    }
   ],
   "source": [
    "df.shape"
   ]
  },
  {
   "cell_type": "code",
   "execution_count": 94,
   "id": "685ea314-4644-44e0-813b-40368ecf653e",
   "metadata": {},
   "outputs": [
    {
     "data": {
      "text/plain": [
       "2"
      ]
     },
     "execution_count": 94,
     "metadata": {},
     "output_type": "execute_result"
    }
   ],
   "source": [
    "df.isnull().any().sum()"
   ]
  },
  {
   "cell_type": "code",
   "execution_count": 95,
   "id": "241b475e-98a7-4cf8-90f9-df6ed7f96031",
   "metadata": {},
   "outputs": [
    {
     "data": {
      "text/html": [
       "<div>\n",
       "<style scoped>\n",
       "    .dataframe tbody tr th:only-of-type {\n",
       "        vertical-align: middle;\n",
       "    }\n",
       "\n",
       "    .dataframe tbody tr th {\n",
       "        vertical-align: top;\n",
       "    }\n",
       "\n",
       "    .dataframe thead th {\n",
       "        text-align: right;\n",
       "    }\n",
       "</style>\n",
       "<table border=\"1\" class=\"dataframe\">\n",
       "  <thead>\n",
       "    <tr style=\"text-align: right;\">\n",
       "      <th></th>\n",
       "      <th>Name</th>\n",
       "      <th>Price</th>\n",
       "    </tr>\n",
       "  </thead>\n",
       "  <tbody>\n",
       "    <tr>\n",
       "      <th>0</th>\n",
       "      <td>False</td>\n",
       "      <td>False</td>\n",
       "    </tr>\n",
       "    <tr>\n",
       "      <th>1</th>\n",
       "      <td>False</td>\n",
       "      <td>False</td>\n",
       "    </tr>\n",
       "    <tr>\n",
       "      <th>2</th>\n",
       "      <td>False</td>\n",
       "      <td>False</td>\n",
       "    </tr>\n",
       "    <tr>\n",
       "      <th>3</th>\n",
       "      <td>False</td>\n",
       "      <td>False</td>\n",
       "    </tr>\n",
       "    <tr>\n",
       "      <th>4</th>\n",
       "      <td>False</td>\n",
       "      <td>False</td>\n",
       "    </tr>\n",
       "    <tr>\n",
       "      <th>...</th>\n",
       "      <td>...</td>\n",
       "      <td>...</td>\n",
       "    </tr>\n",
       "    <tr>\n",
       "      <th>2339</th>\n",
       "      <td>False</td>\n",
       "      <td>False</td>\n",
       "    </tr>\n",
       "    <tr>\n",
       "      <th>2340</th>\n",
       "      <td>False</td>\n",
       "      <td>False</td>\n",
       "    </tr>\n",
       "    <tr>\n",
       "      <th>2341</th>\n",
       "      <td>False</td>\n",
       "      <td>False</td>\n",
       "    </tr>\n",
       "    <tr>\n",
       "      <th>2342</th>\n",
       "      <td>False</td>\n",
       "      <td>False</td>\n",
       "    </tr>\n",
       "    <tr>\n",
       "      <th>2343</th>\n",
       "      <td>False</td>\n",
       "      <td>False</td>\n",
       "    </tr>\n",
       "  </tbody>\n",
       "</table>\n",
       "<p>2344 rows × 2 columns</p>\n",
       "</div>"
      ],
      "text/plain": [
       "       Name  Price\n",
       "0     False  False\n",
       "1     False  False\n",
       "2     False  False\n",
       "3     False  False\n",
       "4     False  False\n",
       "...     ...    ...\n",
       "2339  False  False\n",
       "2340  False  False\n",
       "2341  False  False\n",
       "2342  False  False\n",
       "2343  False  False\n",
       "\n",
       "[2344 rows x 2 columns]"
      ]
     },
     "execution_count": 95,
     "metadata": {},
     "output_type": "execute_result"
    }
   ],
   "source": [
    "df.isnull()"
   ]
  },
  {
   "cell_type": "code",
   "execution_count": 96,
   "id": "23c9bcf4-c4e6-4615-a947-14a2540d5320",
   "metadata": {},
   "outputs": [],
   "source": [
    "df[\"Price\"] = df[\"Price\"].str.replace('₦', '')  #remove price sign"
   ]
  },
  {
   "cell_type": "code",
   "execution_count": 97,
   "id": "5a92456e-c16b-4c64-a8ba-e5cc522c5bc9",
   "metadata": {},
   "outputs": [
    {
     "data": {
      "text/plain": [
       "0      2,750\n",
       "1      2,950\n",
       "2        600\n",
       "3     12,500\n",
       "4     11,500\n",
       "Name: Price, dtype: object"
      ]
     },
     "execution_count": 97,
     "metadata": {},
     "output_type": "execute_result"
    }
   ],
   "source": [
    "df[\"Price\"].head()"
   ]
  },
  {
   "cell_type": "code",
   "execution_count": 98,
   "id": "20847a64-9a94-4004-9b33-47081ca153cb",
   "metadata": {},
   "outputs": [
    {
     "data": {
      "text/html": [
       "<div>\n",
       "<style scoped>\n",
       "    .dataframe tbody tr th:only-of-type {\n",
       "        vertical-align: middle;\n",
       "    }\n",
       "\n",
       "    .dataframe tbody tr th {\n",
       "        vertical-align: top;\n",
       "    }\n",
       "\n",
       "    .dataframe thead th {\n",
       "        text-align: right;\n",
       "    }\n",
       "</style>\n",
       "<table border=\"1\" class=\"dataframe\">\n",
       "  <thead>\n",
       "    <tr style=\"text-align: right;\">\n",
       "      <th></th>\n",
       "      <th>Name</th>\n",
       "      <th>Price</th>\n",
       "    </tr>\n",
       "  </thead>\n",
       "  <tbody>\n",
       "    <tr>\n",
       "      <th>0</th>\n",
       "      <td>Indomie INDOMITABLE INDOMIE PACK- 70g (1carton)</td>\n",
       "      <td>2,750</td>\n",
       "    </tr>\n",
       "    <tr>\n",
       "      <th>1</th>\n",
       "      <td>Indomie ONION CHICKEN- 70g (1 Carton)</td>\n",
       "      <td>2,950</td>\n",
       "    </tr>\n",
       "    <tr>\n",
       "      <th>2</th>\n",
       "      <td>Knorr Beef Cubes 50x8g</td>\n",
       "      <td>600</td>\n",
       "    </tr>\n",
       "    <tr>\n",
       "      <th>3</th>\n",
       "      <td>Devon King'S Pure Vegetable Oil (10L)</td>\n",
       "      <td>12,500</td>\n",
       "    </tr>\n",
       "    <tr>\n",
       "      <th>4</th>\n",
       "      <td>Devon King'S Pure Vegetable Oil -3LitersÃ—3</td>\n",
       "      <td>11,500</td>\n",
       "    </tr>\n",
       "  </tbody>\n",
       "</table>\n",
       "</div>"
      ],
      "text/plain": [
       "                                              Name    Price\n",
       "0  Indomie INDOMITABLE INDOMIE PACK- 70g (1carton)    2,750\n",
       "1            Indomie ONION CHICKEN- 70g (1 Carton)    2,950\n",
       "2                           Knorr Beef Cubes 50x8g      600\n",
       "3            Devon King'S Pure Vegetable Oil (10L)   12,500\n",
       "4      Devon King'S Pure Vegetable Oil -3LitersÃ—3   11,500"
      ]
     },
     "execution_count": 98,
     "metadata": {},
     "output_type": "execute_result"
    }
   ],
   "source": [
    "df.head()"
   ]
  },
  {
   "cell_type": "code",
   "execution_count": 99,
   "id": "a96b4748-914f-4903-bca5-e041cd150533",
   "metadata": {},
   "outputs": [],
   "source": [
    "nan_value=float(\"NaN\")\n",
    "df.replace(\"\", nan_value, inplace=True)"
   ]
  },
  {
   "cell_type": "code",
   "execution_count": 100,
   "id": "fab55ef0-caf9-48bc-a248-fac4efab535c",
   "metadata": {},
   "outputs": [],
   "source": [
    "df.dropna(subset = [\"Name\"], inplace=True)"
   ]
  },
  {
   "cell_type": "code",
   "execution_count": 101,
   "id": "41345029-c35d-42fe-a32c-861b5831319f",
   "metadata": {},
   "outputs": [
    {
     "data": {
      "text/plain": [
       "(1960, 2)"
      ]
     },
     "execution_count": 101,
     "metadata": {},
     "output_type": "execute_result"
    }
   ],
   "source": [
    "df.shape"
   ]
  },
  {
   "cell_type": "code",
   "execution_count": 104,
   "id": "a6564fa9-53aa-476e-989f-8eb68a4fb8c9",
   "metadata": {},
   "outputs": [],
   "source": [
    "df.to_csv('Jumia_Groceries_clean.csv', index=False)"
   ]
  },
  {
   "cell_type": "code",
   "execution_count": null,
   "id": "af5c4c51-d18a-49bb-a2bc-20e5903385d0",
   "metadata": {},
   "outputs": [],
   "source": []
  }
 ],
 "metadata": {
  "kernelspec": {
   "display_name": "Python 3",
   "language": "python",
   "name": "python3"
  },
  "language_info": {
   "codemirror_mode": {
    "name": "ipython",
    "version": 3
   },
   "file_extension": ".py",
   "mimetype": "text/x-python",
   "name": "python",
   "nbconvert_exporter": "python",
   "pygments_lexer": "ipython3",
   "version": "3.7.3"
  }
 },
 "nbformat": 4,
 "nbformat_minor": 5
}
