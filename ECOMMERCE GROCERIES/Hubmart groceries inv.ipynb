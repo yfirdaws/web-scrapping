{
 "cells": [
  {
   "cell_type": "code",
   "execution_count": null,
   "id": "2137a28d-672d-435f-bc5d-8c2f1fb3148d",
   "metadata": {},
   "outputs": [],
   "source": []
  },
  {
   "cell_type": "code",
   "execution_count": 1,
   "id": "50c8714d-777b-4f67-9c40-2bb536e37657",
   "metadata": {},
   "outputs": [],
   "source": [
    "import requests\n",
    "from requests import get\n",
    "from bs4 import BeautifulSoup\n",
    "import pandas as pd\n",
    "import numpy as np\n",
    "from selenium import webdriver\n",
    "from webdriver_manager.chrome import ChromeDriverManager"
   ]
  },
  {
   "cell_type": "code",
   "execution_count": 7,
   "id": "f96365ba-fc77-4d92-bfcd-ec81128640ef",
   "metadata": {},
   "outputs": [
    {
     "name": "stderr",
     "output_type": "stream",
     "text": [
      "\n",
      "\n",
      "====== WebDriver manager ======\n",
      "Current google-chrome version is 91.0.4472\n",
      "Get LATEST driver version for 91.0.4472\n",
      "Driver [C:\\Users\\yfird\\.wdm\\drivers\\chromedriver\\win32\\91.0.4472.101\\chromedriver.exe] found in cache\n"
     ]
    }
   ],
   "source": [
    "headers = {\"Accept-Language\": \"en-US, en;q=0.5\"}\n",
    "driver = webdriver.Chrome(ChromeDriverManager().install())"
   ]
  },
  {
   "cell_type": "code",
   "execution_count": 8,
   "id": "029a0d35-b8fc-4363-a451-8128057e667a",
   "metadata": {},
   "outputs": [],
   "source": [
    "pages=np.arange(1,8)\n",
    "Name=[]\n",
    "Price=[]\n",
    "for page in pages:\n",
    "    urls=[\"https://hubmart.com/product-category/groceries/page/{}/\".format(page),\"https://hubmart.com/product-category/beverages-groceries/page/{}/\".format(page),\"https://hubmart.com/product-category/fresh-food/page/{}/\".format(page)]\n",
    "    for url in urls:\n",
    "        driver.get(url)\n",
    "        results = driver.page_source\n",
    "        soup = BeautifulSoup(results,\"lxml\")\n",
    "\n",
    "        products=soup.find_all('div', class_=\"product-inner product-item__inner\")\n",
    "        for item in products:\n",
    "            name=item.find('h2', class_=\"woocommerce-loop-product__title\").text.strip()\n",
    "            Name.append(name)\n",
    "            #print(Name)\n",
    "            #price\n",
    "            price=item.find('span',class_=\"woocommerce-Price-amount amount\")\n",
    "            if price is not None:\n",
    "                 price= price.text.strip()      \n",
    "            else:\n",
    "                 price = None\n",
    "            Price.append(price)\n",
    "            #print(Price)\n",
    "\n",
    "\n"
   ]
  },
  {
   "cell_type": "code",
   "execution_count": 16,
   "id": "abdc4626-a007-4970-a547-e405120a1dd9",
   "metadata": {},
   "outputs": [],
   "source": [
    "items=pd.DataFrame({\n",
    "    'Name':Name,\n",
    "    'Price':Price\n",
    "})"
   ]
  },
  {
   "cell_type": "code",
   "execution_count": 17,
   "id": "3d68cde0-9fa6-4a75-af1f-8ea2b404cbdd",
   "metadata": {},
   "outputs": [
    {
     "data": {
      "text/html": [
       "<div>\n",
       "<style scoped>\n",
       "    .dataframe tbody tr th:only-of-type {\n",
       "        vertical-align: middle;\n",
       "    }\n",
       "\n",
       "    .dataframe tbody tr th {\n",
       "        vertical-align: top;\n",
       "    }\n",
       "\n",
       "    .dataframe thead th {\n",
       "        text-align: right;\n",
       "    }\n",
       "</style>\n",
       "<table border=\"1\" class=\"dataframe\">\n",
       "  <thead>\n",
       "    <tr style=\"text-align: right;\">\n",
       "      <th></th>\n",
       "      <th>Name</th>\n",
       "      <th>Price</th>\n",
       "    </tr>\n",
       "  </thead>\n",
       "  <tbody>\n",
       "    <tr>\n",
       "      <th>0</th>\n",
       "      <td>EVA WATER  1.5L</td>\n",
       "      <td>₦120</td>\n",
       "    </tr>\n",
       "    <tr>\n",
       "      <th>1</th>\n",
       "      <td>FUNTIME COCONUT CHIPS 30G</td>\n",
       "      <td>₦85</td>\n",
       "    </tr>\n",
       "    <tr>\n",
       "      <th>2</th>\n",
       "      <td>NESTLE PURE LIFE WATER 150CL</td>\n",
       "      <td>₦110</td>\n",
       "    </tr>\n",
       "    <tr>\n",
       "      <th>3</th>\n",
       "      <td>NESTLE PURE LIFE WATER 60CL</td>\n",
       "      <td>₦65</td>\n",
       "    </tr>\n",
       "    <tr>\n",
       "      <th>4</th>\n",
       "      <td>EVA WATER 50CL</td>\n",
       "      <td>₦65</td>\n",
       "    </tr>\n",
       "  </tbody>\n",
       "</table>\n",
       "</div>"
      ],
      "text/plain": [
       "                           Name Price\n",
       "0               EVA WATER  1.5L  ₦120\n",
       "1     FUNTIME COCONUT CHIPS 30G   ₦85\n",
       "2  NESTLE PURE LIFE WATER 150CL  ₦110\n",
       "3   NESTLE PURE LIFE WATER 60CL   ₦65\n",
       "4                EVA WATER 50CL   ₦65"
      ]
     },
     "execution_count": 17,
     "metadata": {},
     "output_type": "execute_result"
    }
   ],
   "source": [
    "items.head()"
   ]
  },
  {
   "cell_type": "code",
   "execution_count": 18,
   "id": "d90f4d1f-9f44-47dc-b136-f0d4937f0a73",
   "metadata": {},
   "outputs": [
    {
     "data": {
      "text/plain": [
       "(372, 2)"
      ]
     },
     "execution_count": 18,
     "metadata": {},
     "output_type": "execute_result"
    }
   ],
   "source": [
    "items.shape"
   ]
  },
  {
   "cell_type": "code",
   "execution_count": 29,
   "id": "3ff75870-0ef6-4896-bd75-c6beef86f26f",
   "metadata": {},
   "outputs": [
    {
     "data": {
      "text/plain": [
       "0"
      ]
     },
     "execution_count": 29,
     "metadata": {},
     "output_type": "execute_result"
    }
   ],
   "source": [
    "items.isnull().any().sum()"
   ]
  },
  {
   "cell_type": "code",
   "execution_count": 22,
   "id": "294c1359-8ab3-4e6d-935e-6a8bdca68890",
   "metadata": {},
   "outputs": [
    {
     "data": {
      "text/html": [
       "<div>\n",
       "<style scoped>\n",
       "    .dataframe tbody tr th:only-of-type {\n",
       "        vertical-align: middle;\n",
       "    }\n",
       "\n",
       "    .dataframe tbody tr th {\n",
       "        vertical-align: top;\n",
       "    }\n",
       "\n",
       "    .dataframe thead th {\n",
       "        text-align: right;\n",
       "    }\n",
       "</style>\n",
       "<table border=\"1\" class=\"dataframe\">\n",
       "  <thead>\n",
       "    <tr style=\"text-align: right;\">\n",
       "      <th></th>\n",
       "      <th>Name</th>\n",
       "      <th>Price</th>\n",
       "    </tr>\n",
       "  </thead>\n",
       "  <tbody>\n",
       "    <tr>\n",
       "      <th>0</th>\n",
       "      <td>EVA WATER  1.5L</td>\n",
       "      <td>₦120</td>\n",
       "    </tr>\n",
       "    <tr>\n",
       "      <th>1</th>\n",
       "      <td>FUNTIME COCONUT CHIPS 30G</td>\n",
       "      <td>₦85</td>\n",
       "    </tr>\n",
       "    <tr>\n",
       "      <th>2</th>\n",
       "      <td>NESTLE PURE LIFE WATER 150CL</td>\n",
       "      <td>₦110</td>\n",
       "    </tr>\n",
       "    <tr>\n",
       "      <th>3</th>\n",
       "      <td>NESTLE PURE LIFE WATER 60CL</td>\n",
       "      <td>₦65</td>\n",
       "    </tr>\n",
       "    <tr>\n",
       "      <th>4</th>\n",
       "      <td>EVA WATER 50CL</td>\n",
       "      <td>₦65</td>\n",
       "    </tr>\n",
       "    <tr>\n",
       "      <th>...</th>\n",
       "      <td>...</td>\n",
       "      <td>...</td>\n",
       "    </tr>\n",
       "    <tr>\n",
       "      <th>367</th>\n",
       "      <td>BLACK &amp; DECKER 0.6L AUTO RICE COOKER RC650-B5</td>\n",
       "      <td>₦13,965</td>\n",
       "    </tr>\n",
       "    <tr>\n",
       "      <th>368</th>\n",
       "      <td>Chicken pie</td>\n",
       "      <td>₦450</td>\n",
       "    </tr>\n",
       "    <tr>\n",
       "      <th>369</th>\n",
       "      <td>EVA WATER  1.5L</td>\n",
       "      <td>₦120</td>\n",
       "    </tr>\n",
       "    <tr>\n",
       "      <th>370</th>\n",
       "      <td>FUNTIME COCONUT CHIPS 30G</td>\n",
       "      <td>₦85</td>\n",
       "    </tr>\n",
       "    <tr>\n",
       "      <th>371</th>\n",
       "      <td>COCA COLA PET 50CL</td>\n",
       "      <td>₦100</td>\n",
       "    </tr>\n",
       "  </tbody>\n",
       "</table>\n",
       "<p>371 rows × 2 columns</p>\n",
       "</div>"
      ],
      "text/plain": [
       "                                              Name    Price\n",
       "0                                  EVA WATER  1.5L     ₦120\n",
       "1                        FUNTIME COCONUT CHIPS 30G      ₦85\n",
       "2                     NESTLE PURE LIFE WATER 150CL     ₦110\n",
       "3                      NESTLE PURE LIFE WATER 60CL      ₦65\n",
       "4                                   EVA WATER 50CL      ₦65\n",
       "..                                             ...      ...\n",
       "367  BLACK & DECKER 0.6L AUTO RICE COOKER RC650-B5  ₦13,965\n",
       "368                                    Chicken pie     ₦450\n",
       "369                                EVA WATER  1.5L     ₦120\n",
       "370                      FUNTIME COCONUT CHIPS 30G      ₦85\n",
       "371                             COCA COLA PET 50CL     ₦100\n",
       "\n",
       "[371 rows x 2 columns]"
      ]
     },
     "execution_count": 22,
     "metadata": {},
     "output_type": "execute_result"
    }
   ],
   "source": [
    "items.dropna(axis=0)"
   ]
  },
  {
   "cell_type": "code",
   "execution_count": 31,
   "id": "ff28d8d8-5418-4f3e-80ad-79b641be5645",
   "metadata": {},
   "outputs": [
    {
     "data": {
      "text/plain": [
       "1"
      ]
     },
     "execution_count": 31,
     "metadata": {},
     "output_type": "execute_result"
    }
   ],
   "source": [
    "items.duplicated().any().sum()"
   ]
  },
  {
   "cell_type": "code",
   "execution_count": 27,
   "id": "4eb850ee-3511-46de-bb03-1d15a6a8d3fa",
   "metadata": {},
   "outputs": [],
   "source": [
    "nan_value=float(\"NaN\")\n",
    "items.replace(\"\", nan_value, inplace=True)"
   ]
  },
  {
   "cell_type": "code",
   "execution_count": 28,
   "id": "a6ed9dce-127e-42d5-bfdd-bbdb4a56df93",
   "metadata": {},
   "outputs": [],
   "source": [
    "items.dropna(subset = [\"Price\"], inplace=True)"
   ]
  },
  {
   "cell_type": "code",
   "execution_count": 35,
   "id": "86892143-f1d8-4491-9fbf-8b02dc2e362a",
   "metadata": {},
   "outputs": [],
   "source": [
    "items.drop_duplicates(subset=['Name'], keep='last',inplace=True)"
   ]
  },
  {
   "cell_type": "code",
   "execution_count": 36,
   "id": "85a88512-918d-454a-9c5f-dfc83f3c95b7",
   "metadata": {},
   "outputs": [
    {
     "data": {
      "text/plain": [
       "(333, 2)"
      ]
     },
     "execution_count": 36,
     "metadata": {},
     "output_type": "execute_result"
    }
   ],
   "source": [
    "items.shape\n"
   ]
  },
  {
   "cell_type": "code",
   "execution_count": 38,
   "id": "4bc563ce-e189-4f49-bec5-8f89a8718f3f",
   "metadata": {},
   "outputs": [],
   "source": [
    "items.to_csv(\"Hubmart groceries.csv\",index=False)"
   ]
  },
  {
   "cell_type": "code",
   "execution_count": null,
   "id": "a17cde46-f05f-457a-be9b-77bd62c1c344",
   "metadata": {},
   "outputs": [],
   "source": []
  }
 ],
 "metadata": {
  "kernelspec": {
   "display_name": "Python 3",
   "language": "python",
   "name": "python3"
  },
  "language_info": {
   "codemirror_mode": {
    "name": "ipython",
    "version": 3
   },
   "file_extension": ".py",
   "mimetype": "text/x-python",
   "name": "python",
   "nbconvert_exporter": "python",
   "pygments_lexer": "ipython3",
   "version": "3.7.3"
  }
 },
 "nbformat": 4,
 "nbformat_minor": 5
}
