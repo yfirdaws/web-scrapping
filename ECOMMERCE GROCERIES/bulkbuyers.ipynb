{
 "cells": [
  {
   "cell_type": "code",
   "execution_count": 1,
   "id": "5c65a4bb-72dc-43e2-bc30-d41a03467c35",
   "metadata": {},
   "outputs": [],
   "source": [
    "import requests\n",
    "from requests import get\n",
    "from bs4 import BeautifulSoup\n",
    "import pandas as pd\n",
    "import numpy as np\n",
    "from selenium import webdriver\n",
    "from webdriver_manager.chrome import ChromeDriverManager"
   ]
  },
  {
   "cell_type": "code",
   "execution_count": 2,
   "id": "f8b167ce-d69f-4eae-9cca-502a81519710",
   "metadata": {},
   "outputs": [
    {
     "name": "stderr",
     "output_type": "stream",
     "text": [
      "\n",
      "\n",
      "====== WebDriver manager ======\n",
      "Current google-chrome version is 91.0.4472\n",
      "Get LATEST driver version for 91.0.4472\n",
      "Driver [C:\\Users\\yfird\\.wdm\\drivers\\chromedriver\\win32\\91.0.4472.101\\chromedriver.exe] found in cache\n"
     ]
    }
   ],
   "source": [
    "headers = {\"Accept-Language\": \"en-US, en;q=0.5\"}\n",
    "driver = webdriver.Chrome(ChromeDriverManager().install())"
   ]
  },
  {
   "cell_type": "code",
   "execution_count": 4,
   "id": "c5f0fc99-2a91-45a7-aeba-76e39756fcad",
   "metadata": {},
   "outputs": [],
   "source": [
    "page=1\n",
    "Name=[]\n",
    "Price=[]\n",
    "Desc=[]\n",
    "while page !=10:\n",
    "    url=\"https://www.bulkbuyersconnect.com/product/list?page={}\".format(page)\n",
    "    driver.get(url)\n",
    "    results = driver.page_source\n",
    "    soup = BeautifulSoup(results, \"html.parser\")\n",
    "\n",
    "    products=soup.find_all('article', class_=\"single_product\")\n",
    "    for item in products:\n",
    "        name=item.h3.text\n",
    "        Name.append(name)\n",
    "        #price\n",
    "        price=item.find('span',class_='current_price')\n",
    "        if price is not None:\n",
    "             price= price.text.strip()      \n",
    "        else:\n",
    "             price = 'NaN'\n",
    "               \n",
    "        Price.append(price)\n",
    "        \n",
    "        desc=item.find('div','product_desc').p\n",
    "        if desc is not None:\n",
    "             desc= desc.text.strip()      \n",
    "        else:\n",
    "             desc = 'NaN'\n",
    "               \n",
    "        Desc.append(desc)\n",
    "        \n",
    "        \n",
    "        \n",
    "    page=page +1"
   ]
  },
  {
   "cell_type": "code",
   "execution_count": 8,
   "id": "78682819-cf82-4077-bc80-0a89c4d3434d",
   "metadata": {},
   "outputs": [],
   "source": [
    "items=pd.DataFrame({\n",
    "    'Name':Name,\n",
    "    'Price':Price,\n",
    "    'Description':Desc\n",
    "})"
   ]
  },
  {
   "cell_type": "code",
   "execution_count": 9,
   "id": "fe034edc-78ff-416c-a084-399702302bfc",
   "metadata": {},
   "outputs": [
    {
     "data": {
      "text/html": [
       "<div>\n",
       "<style scoped>\n",
       "    .dataframe tbody tr th:only-of-type {\n",
       "        vertical-align: middle;\n",
       "    }\n",
       "\n",
       "    .dataframe tbody tr th {\n",
       "        vertical-align: top;\n",
       "    }\n",
       "\n",
       "    .dataframe thead th {\n",
       "        text-align: right;\n",
       "    }\n",
       "</style>\n",
       "<table border=\"1\" class=\"dataframe\">\n",
       "  <thead>\n",
       "    <tr style=\"text-align: right;\">\n",
       "      <th></th>\n",
       "      <th>Name</th>\n",
       "      <th>Price</th>\n",
       "      <th>Description</th>\n",
       "    </tr>\n",
       "  </thead>\n",
       "  <tbody>\n",
       "    <tr>\n",
       "      <th>0</th>\n",
       "      <td>Tomatoes</td>\n",
       "      <td>₦3,300</td>\n",
       "      <td>1 plastic basket</td>\n",
       "    </tr>\n",
       "    <tr>\n",
       "      <th>1</th>\n",
       "      <td>Tomatoes</td>\n",
       "      <td>₦1,700</td>\n",
       "      <td>Half of a Plastic Basket</td>\n",
       "    </tr>\n",
       "    <tr>\n",
       "      <th>2</th>\n",
       "      <td>Pepper (Shombo)</td>\n",
       "      <td>₦1,300</td>\n",
       "      <td>Half of a Plastic Basket</td>\n",
       "    </tr>\n",
       "    <tr>\n",
       "      <th>3</th>\n",
       "      <td>Pepper (Shombo)</td>\n",
       "      <td>₦2,500</td>\n",
       "      <td>1 Plastic basket</td>\n",
       "    </tr>\n",
       "    <tr>\n",
       "      <th>4</th>\n",
       "      <td>Pepper</td>\n",
       "      <td>₦1,300</td>\n",
       "      <td>Half of a Plastic Basket</td>\n",
       "    </tr>\n",
       "  </tbody>\n",
       "</table>\n",
       "</div>"
      ],
      "text/plain": [
       "              Name   Price               Description\n",
       "0         Tomatoes  ₦3,300          1 plastic basket\n",
       "1         Tomatoes  ₦1,700  Half of a Plastic Basket\n",
       "2  Pepper (Shombo)  ₦1,300  Half of a Plastic Basket\n",
       "3  Pepper (Shombo)  ₦2,500          1 Plastic basket\n",
       "4           Pepper  ₦1,300  Half of a Plastic Basket"
      ]
     },
     "execution_count": 9,
     "metadata": {},
     "output_type": "execute_result"
    }
   ],
   "source": [
    "items.head()"
   ]
  },
  {
   "cell_type": "code",
   "execution_count": 12,
   "id": "e427822e-335d-4cb6-8e84-4d5d0d5a84d2",
   "metadata": {},
   "outputs": [],
   "source": [
    "items['Name']=items[\"Name\"]+\" \"+items[\"Description\"] #combiing name and description\n"
   ]
  },
  {
   "cell_type": "code",
   "execution_count": 13,
   "id": "2a05682d-ca8c-4a38-9166-0dcedf7d12ef",
   "metadata": {},
   "outputs": [
    {
     "data": {
      "text/html": [
       "<div>\n",
       "<style scoped>\n",
       "    .dataframe tbody tr th:only-of-type {\n",
       "        vertical-align: middle;\n",
       "    }\n",
       "\n",
       "    .dataframe tbody tr th {\n",
       "        vertical-align: top;\n",
       "    }\n",
       "\n",
       "    .dataframe thead th {\n",
       "        text-align: right;\n",
       "    }\n",
       "</style>\n",
       "<table border=\"1\" class=\"dataframe\">\n",
       "  <thead>\n",
       "    <tr style=\"text-align: right;\">\n",
       "      <th></th>\n",
       "      <th>Name</th>\n",
       "      <th>Price</th>\n",
       "      <th>Description</th>\n",
       "    </tr>\n",
       "  </thead>\n",
       "  <tbody>\n",
       "    <tr>\n",
       "      <th>0</th>\n",
       "      <td>Tomatoes 1 plastic basket</td>\n",
       "      <td>₦3,300</td>\n",
       "      <td>1 plastic basket</td>\n",
       "    </tr>\n",
       "    <tr>\n",
       "      <th>1</th>\n",
       "      <td>Tomatoes Half of a Plastic Basket</td>\n",
       "      <td>₦1,700</td>\n",
       "      <td>Half of a Plastic Basket</td>\n",
       "    </tr>\n",
       "    <tr>\n",
       "      <th>2</th>\n",
       "      <td>Pepper (Shombo) Half of a Plastic Basket</td>\n",
       "      <td>₦1,300</td>\n",
       "      <td>Half of a Plastic Basket</td>\n",
       "    </tr>\n",
       "    <tr>\n",
       "      <th>3</th>\n",
       "      <td>Pepper (Shombo) 1 Plastic basket</td>\n",
       "      <td>₦2,500</td>\n",
       "      <td>1 Plastic basket</td>\n",
       "    </tr>\n",
       "    <tr>\n",
       "      <th>4</th>\n",
       "      <td>Pepper Half of a Plastic Basket</td>\n",
       "      <td>₦1,300</td>\n",
       "      <td>Half of a Plastic Basket</td>\n",
       "    </tr>\n",
       "  </tbody>\n",
       "</table>\n",
       "</div>"
      ],
      "text/plain": [
       "                                       Name   Price               Description\n",
       "0                 Tomatoes 1 plastic basket  ₦3,300          1 plastic basket\n",
       "1         Tomatoes Half of a Plastic Basket  ₦1,700  Half of a Plastic Basket\n",
       "2  Pepper (Shombo) Half of a Plastic Basket  ₦1,300  Half of a Plastic Basket\n",
       "3          Pepper (Shombo) 1 Plastic basket  ₦2,500          1 Plastic basket\n",
       "4           Pepper Half of a Plastic Basket  ₦1,300  Half of a Plastic Basket"
      ]
     },
     "execution_count": 13,
     "metadata": {},
     "output_type": "execute_result"
    }
   ],
   "source": [
    "items.head()"
   ]
  },
  {
   "cell_type": "code",
   "execution_count": 15,
   "id": "5e98837f-b5ee-4419-aeb6-1918f1e8d3c2",
   "metadata": {},
   "outputs": [],
   "source": [
    "del items[\"Description\"]"
   ]
  },
  {
   "cell_type": "code",
   "execution_count": 16,
   "id": "a8f3414d-3070-405a-b96a-47958d4d5537",
   "metadata": {},
   "outputs": [
    {
     "data": {
      "text/html": [
       "<div>\n",
       "<style scoped>\n",
       "    .dataframe tbody tr th:only-of-type {\n",
       "        vertical-align: middle;\n",
       "    }\n",
       "\n",
       "    .dataframe tbody tr th {\n",
       "        vertical-align: top;\n",
       "    }\n",
       "\n",
       "    .dataframe thead th {\n",
       "        text-align: right;\n",
       "    }\n",
       "</style>\n",
       "<table border=\"1\" class=\"dataframe\">\n",
       "  <thead>\n",
       "    <tr style=\"text-align: right;\">\n",
       "      <th></th>\n",
       "      <th>Name</th>\n",
       "      <th>Price</th>\n",
       "    </tr>\n",
       "  </thead>\n",
       "  <tbody>\n",
       "    <tr>\n",
       "      <th>0</th>\n",
       "      <td>Tomatoes 1 plastic basket</td>\n",
       "      <td>₦3,300</td>\n",
       "    </tr>\n",
       "    <tr>\n",
       "      <th>1</th>\n",
       "      <td>Tomatoes Half of a Plastic Basket</td>\n",
       "      <td>₦1,700</td>\n",
       "    </tr>\n",
       "    <tr>\n",
       "      <th>2</th>\n",
       "      <td>Pepper (Shombo) Half of a Plastic Basket</td>\n",
       "      <td>₦1,300</td>\n",
       "    </tr>\n",
       "    <tr>\n",
       "      <th>3</th>\n",
       "      <td>Pepper (Shombo) 1 Plastic basket</td>\n",
       "      <td>₦2,500</td>\n",
       "    </tr>\n",
       "    <tr>\n",
       "      <th>4</th>\n",
       "      <td>Pepper Half of a Plastic Basket</td>\n",
       "      <td>₦1,300</td>\n",
       "    </tr>\n",
       "  </tbody>\n",
       "</table>\n",
       "</div>"
      ],
      "text/plain": [
       "                                       Name   Price\n",
       "0                 Tomatoes 1 plastic basket  ₦3,300\n",
       "1         Tomatoes Half of a Plastic Basket  ₦1,700\n",
       "2  Pepper (Shombo) Half of a Plastic Basket  ₦1,300\n",
       "3          Pepper (Shombo) 1 Plastic basket  ₦2,500\n",
       "4           Pepper Half of a Plastic Basket  ₦1,300"
      ]
     },
     "execution_count": 16,
     "metadata": {},
     "output_type": "execute_result"
    }
   ],
   "source": [
    "items.head()"
   ]
  },
  {
   "cell_type": "code",
   "execution_count": 18,
   "id": "3029236f-386e-4113-a5c4-2f3d7a8703a4",
   "metadata": {},
   "outputs": [
    {
     "data": {
      "text/plain": [
       "(80, 2)"
      ]
     },
     "execution_count": 18,
     "metadata": {},
     "output_type": "execute_result"
    }
   ],
   "source": [
    "items.shape"
   ]
  },
  {
   "cell_type": "code",
   "execution_count": 19,
   "id": "9fbd18d6-709b-4530-9be3-8420e2b5811a",
   "metadata": {},
   "outputs": [
    {
     "name": "stdout",
     "output_type": "stream",
     "text": [
      "<class 'pandas.core.frame.DataFrame'>\n",
      "RangeIndex: 80 entries, 0 to 79\n",
      "Data columns (total 2 columns):\n",
      " #   Column  Non-Null Count  Dtype \n",
      "---  ------  --------------  ----- \n",
      " 0   Name    80 non-null     object\n",
      " 1   Price   80 non-null     object\n",
      "dtypes: object(2)\n",
      "memory usage: 1.4+ KB\n"
     ]
    }
   ],
   "source": [
    "items.info()"
   ]
  },
  {
   "cell_type": "code",
   "execution_count": 20,
   "id": "206b56cf-4a5a-4b6f-aa4a-1fafa1131334",
   "metadata": {},
   "outputs": [],
   "source": [
    "items.to_csv(\"bulk buyers inventory.csv\",index=False)"
   ]
  },
  {
   "cell_type": "code",
   "execution_count": 22,
   "id": "ba299b48-3a07-4174-a5f6-288d0c5205b4",
   "metadata": {},
   "outputs": [
    {
     "data": {
      "text/plain": [
       "False"
      ]
     },
     "execution_count": 22,
     "metadata": {},
     "output_type": "execute_result"
    }
   ],
   "source": [
    "items.duplicated().any()"
   ]
  },
  {
   "cell_type": "code",
   "execution_count": null,
   "id": "9021c70b-789d-468b-aa7a-afe28a8739a4",
   "metadata": {},
   "outputs": [],
   "source": []
  }
 ],
 "metadata": {
  "kernelspec": {
   "display_name": "Python 3",
   "language": "python",
   "name": "python3"
  },
  "language_info": {
   "codemirror_mode": {
    "name": "ipython",
    "version": 3
   },
   "file_extension": ".py",
   "mimetype": "text/x-python",
   "name": "python",
   "nbconvert_exporter": "python",
   "pygments_lexer": "ipython3",
   "version": "3.7.3"
  }
 },
 "nbformat": 4,
 "nbformat_minor": 5
}
