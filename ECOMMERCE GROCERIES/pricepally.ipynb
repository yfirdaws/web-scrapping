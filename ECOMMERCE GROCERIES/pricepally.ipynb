{
 "cells": [
  {
   "cell_type": "code",
   "execution_count": 4,
   "id": "e6ffa619-74b9-43ae-8f11-ca998ec2de11",
   "metadata": {},
   "outputs": [],
   "source": [
    "import requests\n",
    "from requests import get\n",
    "from bs4 import BeautifulSoup\n",
    "import pandas as pd\n",
    "import numpy as np\n",
    "from selenium import webdriver\n",
    "from webdriver_manager.chrome import ChromeDriverManager"
   ]
  },
  {
   "cell_type": "code",
   "execution_count": 9,
   "id": "c313cd60-f17d-4145-a88d-67ed28592da4",
   "metadata": {},
   "outputs": [
    {
     "name": "stderr",
     "output_type": "stream",
     "text": [
      "\n",
      "\n",
      "====== WebDriver manager ======\n",
      "Current google-chrome version is 91.0.4472\n",
      "Get LATEST driver version for 91.0.4472\n",
      "Driver [C:\\Users\\yfird\\.wdm\\drivers\\chromedriver\\win32\\91.0.4472.101\\chromedriver.exe] found in cache\n"
     ]
    }
   ],
   "source": [
    "headers = {\"Accept-Language\": \"en-US, en;q=0.5\"}\n",
    "driver = webdriver.Chrome(ChromeDriverManager().install())"
   ]
  },
  {
   "cell_type": "code",
   "execution_count": 10,
   "id": "ef9c7385-342a-4ddb-b69a-4fbec5dbe00d",
   "metadata": {},
   "outputs": [],
   "source": [
    "page=1\n",
    "Name=[]\n",
    "Price=[]\n",
    "while page !=30:\n",
    "    url=f\"https://pricepally.com/products/all?page={page}\"\n",
    "    driver.get(url)\n",
    "    results = driver.page_source\n",
    "    soup = BeautifulSoup(results, \"html.parser\")\n",
    "\n",
    "    products=soup.find_all('div', class_=\"pally-text\")\n",
    "    for item in products:\n",
    "    \n",
    "        name=item.find('p',class_='mb-1')\n",
    "        if name is not None:\n",
    "             name=name.text.strip()      \n",
    "        else:\n",
    "             name = 'NaN'\n",
    "               \n",
    "        Name.append(name)\n",
    "        \n",
    "        price=item.h6.text\n",
    "        Price.append(price)\n",
    "        \n",
    "    page=page +1"
   ]
  },
  {
   "cell_type": "code",
   "execution_count": 11,
   "id": "15e9eca2-f2d0-4436-ad2f-bee53d915bd0",
   "metadata": {},
   "outputs": [],
   "source": [
    "items=pd.DataFrame({\n",
    "    'Name':Name,\n",
    "    'Price':Price\n",
    "})"
   ]
  },
  {
   "cell_type": "code",
   "execution_count": 12,
   "id": "c58fea39-03cc-4c50-89f7-aa9214a91e9b",
   "metadata": {},
   "outputs": [
    {
     "data": {
      "text/html": [
       "<div>\n",
       "<style scoped>\n",
       "    .dataframe tbody tr th:only-of-type {\n",
       "        vertical-align: middle;\n",
       "    }\n",
       "\n",
       "    .dataframe tbody tr th {\n",
       "        vertical-align: top;\n",
       "    }\n",
       "\n",
       "    .dataframe thead th {\n",
       "        text-align: right;\n",
       "    }\n",
       "</style>\n",
       "<table border=\"1\" class=\"dataframe\">\n",
       "  <thead>\n",
       "    <tr style=\"text-align: right;\">\n",
       "      <th></th>\n",
       "      <th>Name</th>\n",
       "      <th>Price</th>\n",
       "    </tr>\n",
       "  </thead>\n",
       "  <tbody>\n",
       "    <tr>\n",
       "      <th>0</th>\n",
       "      <td>Eja Egun (Big) - 10p...</td>\n",
       "      <td>₦2,200.00</td>\n",
       "    </tr>\n",
       "    <tr>\n",
       "      <th>1</th>\n",
       "      <td>Ube (African Pear)-S...</td>\n",
       "      <td>₦1,750.00</td>\n",
       "    </tr>\n",
       "    <tr>\n",
       "      <th>2</th>\n",
       "      <td>Beans Oloyin (25kg)</td>\n",
       "      <td>₦18,500.00</td>\n",
       "    </tr>\n",
       "    <tr>\n",
       "      <th>3</th>\n",
       "      <td>Rosemary Leave (Spic...</td>\n",
       "      <td>₦800.00</td>\n",
       "    </tr>\n",
       "    <tr>\n",
       "      <th>4</th>\n",
       "      <td>Pure Groundnut (Pean...</td>\n",
       "      <td>₦6,000.00</td>\n",
       "    </tr>\n",
       "  </tbody>\n",
       "</table>\n",
       "</div>"
      ],
      "text/plain": [
       "                      Name       Price\n",
       "0  Eja Egun (Big) - 10p...   ₦2,200.00\n",
       "1  Ube (African Pear)-S...   ₦1,750.00\n",
       "2      Beans Oloyin (25kg)  ₦18,500.00\n",
       "3  Rosemary Leave (Spic...     ₦800.00\n",
       "4  Pure Groundnut (Pean...   ₦6,000.00"
      ]
     },
     "execution_count": 12,
     "metadata": {},
     "output_type": "execute_result"
    }
   ],
   "source": [
    "items.head()"
   ]
  },
  {
   "cell_type": "code",
   "execution_count": 13,
   "id": "1b3c22b4-de1a-482d-b90e-e8f3998b9631",
   "metadata": {},
   "outputs": [
    {
     "data": {
      "text/plain": [
       "(613, 2)"
      ]
     },
     "execution_count": 13,
     "metadata": {},
     "output_type": "execute_result"
    }
   ],
   "source": [
    "items.shape"
   ]
  },
  {
   "cell_type": "code",
   "execution_count": 15,
   "id": "65df019b-c9a3-482c-8c14-33a174eb0ed0",
   "metadata": {},
   "outputs": [
    {
     "name": "stdout",
     "output_type": "stream",
     "text": [
      "<class 'pandas.core.frame.DataFrame'>\n",
      "RangeIndex: 613 entries, 0 to 612\n",
      "Data columns (total 2 columns):\n",
      " #   Column  Non-Null Count  Dtype \n",
      "---  ------  --------------  ----- \n",
      " 0   Name    613 non-null    object\n",
      " 1   Price   613 non-null    object\n",
      "dtypes: object(2)\n",
      "memory usage: 9.7+ KB\n"
     ]
    }
   ],
   "source": [
    "items.info()"
   ]
  },
  {
   "cell_type": "code",
   "execution_count": 18,
   "id": "01c68910-fe0d-4f83-9198-65b389f17ae1",
   "metadata": {},
   "outputs": [],
   "source": [
    "items.to_csv(\"Pricepally_Inventory.csv\", index=False)"
   ]
  },
  {
   "cell_type": "code",
   "execution_count": null,
   "id": "3a5b4a46-cce8-4a50-946a-ffb17f8c6f76",
   "metadata": {},
   "outputs": [],
   "source": []
  }
 ],
 "metadata": {
  "kernelspec": {
   "display_name": "Python 3",
   "language": "python",
   "name": "python3"
  },
  "language_info": {
   "codemirror_mode": {
    "name": "ipython",
    "version": 3
   },
   "file_extension": ".py",
   "mimetype": "text/x-python",
   "name": "python",
   "nbconvert_exporter": "python",
   "pygments_lexer": "ipython3",
   "version": "3.7.3"
  }
 },
 "nbformat": 4,
 "nbformat_minor": 5
}
