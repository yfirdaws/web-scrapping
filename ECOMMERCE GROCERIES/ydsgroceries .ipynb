{
 "cells": [
  {
   "cell_type": "code",
   "execution_count": 1,
   "id": "6e4015a6-009d-4a88-b07b-2bfa0bea3bda",
   "metadata": {},
   "outputs": [],
   "source": [
    "import requests\n",
    "from requests import get\n",
    "from bs4 import BeautifulSoup\n",
    "import pandas as pd\n",
    "import numpy as np\n",
    "from selenium import webdriver\n",
    "from webdriver_manager.chrome import ChromeDriverManager"
   ]
  },
  {
   "cell_type": "code",
   "execution_count": 2,
   "id": "d3e76e40-57eb-490d-a669-a322f16e92e1",
   "metadata": {},
   "outputs": [
    {
     "name": "stderr",
     "output_type": "stream",
     "text": [
      "\n",
      "\n",
      "====== WebDriver manager ======\n",
      "Current google-chrome version is 91.0.4472\n",
      "Get LATEST driver version for 91.0.4472\n",
      "Driver [C:\\Users\\yfird\\.wdm\\drivers\\chromedriver\\win32\\91.0.4472.101\\chromedriver.exe] found in cache\n"
     ]
    }
   ],
   "source": [
    "headers = {\"Accept-Language\": \"en-US, en;q=0.5\"}\n",
    "driver = webdriver.Chrome(ChromeDriverManager().install())"
   ]
  },
  {
   "cell_type": "code",
   "execution_count": 3,
   "id": "50431588-ea7e-4040-830e-5c055befd265",
   "metadata": {},
   "outputs": [],
   "source": [
    "page=1\n",
    "Name=[]\n",
    "Price=[]\n",
    "while page !=10:\n",
    "    urls=[\"https://ydsgroceries.com/fresh-food.html?p={}\".format(page)]\n",
    "    for url in urls:\n",
    "        driver.get(url)\n",
    "        results = driver.page_source\n",
    "        soup = BeautifulSoup(results,\"lxml\")\n",
    "\n",
    "        products=soup.find_all('div', class_=\"product details product-item-details\")\n",
    "        for item in products:\n",
    "            name=item.find('strong', class_=\"product name product-item-name\").a.text.strip('\\n')\n",
    "            Name.append(name)\n",
    "            #print(Name)\n",
    "            #price\n",
    "            price=item.find('span',class_=\"price\")\n",
    "            if price is not None:\n",
    "                 price= price.text.strip()      \n",
    "            else:\n",
    "                 price = 'NaN'\n",
    "            Price.append(price)\n",
    "            #print(Price)\n",
    "\n",
    "\n",
    "        page=page+1"
   ]
  },
  {
   "cell_type": "code",
   "execution_count": 4,
   "id": "f2fded41-1c3e-4647-8877-7c4ae8515b1a",
   "metadata": {},
   "outputs": [],
   "source": [
    "items=pd.DataFrame({\n",
    "    'Name':Name,\n",
    "    'Price':Price\n",
    "})"
   ]
  },
  {
   "cell_type": "code",
   "execution_count": 5,
   "id": "9c65a206-5f32-40fc-9956-7e98dc6d87b5",
   "metadata": {},
   "outputs": [
    {
     "data": {
      "text/html": [
       "<div>\n",
       "<style scoped>\n",
       "    .dataframe tbody tr th:only-of-type {\n",
       "        vertical-align: middle;\n",
       "    }\n",
       "\n",
       "    .dataframe tbody tr th {\n",
       "        vertical-align: top;\n",
       "    }\n",
       "\n",
       "    .dataframe thead th {\n",
       "        text-align: right;\n",
       "    }\n",
       "</style>\n",
       "<table border=\"1\" class=\"dataframe\">\n",
       "  <thead>\n",
       "    <tr style=\"text-align: right;\">\n",
       "      <th></th>\n",
       "      <th>Name</th>\n",
       "      <th>Price</th>\n",
       "    </tr>\n",
       "  </thead>\n",
       "  <tbody>\n",
       "    <tr>\n",
       "      <th>0</th>\n",
       "      <td>Bag of Potatoe...</td>\n",
       "      <td>₦20,000.00</td>\n",
       "    </tr>\n",
       "    <tr>\n",
       "      <th>1</th>\n",
       "      <td>Organic chicke...</td>\n",
       "      <td>₦3,500.00</td>\n",
       "    </tr>\n",
       "    <tr>\n",
       "      <th>2</th>\n",
       "      <td>Organic Chicke...</td>\n",
       "      <td>₦2,500.00</td>\n",
       "    </tr>\n",
       "    <tr>\n",
       "      <th>3</th>\n",
       "      <td>Organic Broile...</td>\n",
       "      <td>₦2,500.00</td>\n",
       "    </tr>\n",
       "    <tr>\n",
       "      <th>4</th>\n",
       "      <td>Organic broile...</td>\n",
       "      <td>₦2,500.00</td>\n",
       "    </tr>\n",
       "  </tbody>\n",
       "</table>\n",
       "</div>"
      ],
      "text/plain": [
       "                                                Name       Price\n",
       "0                                  Bag of Potatoe...  ₦20,000.00\n",
       "1                                  Organic chicke...   ₦3,500.00\n",
       "2                                  Organic Chicke...   ₦2,500.00\n",
       "3                                  Organic Broile...   ₦2,500.00\n",
       "4                                  Organic broile...   ₦2,500.00"
      ]
     },
     "execution_count": 5,
     "metadata": {},
     "output_type": "execute_result"
    }
   ],
   "source": [
    "items.head()"
   ]
  },
  {
   "cell_type": "code",
   "execution_count": 6,
   "id": "d959d548-a64e-42a8-a0ac-0ae1c3f15d28",
   "metadata": {},
   "outputs": [
    {
     "data": {
      "text/plain": [
       "(77, 2)"
      ]
     },
     "execution_count": 6,
     "metadata": {},
     "output_type": "execute_result"
    }
   ],
   "source": [
    "items.shape"
   ]
  },
  {
   "cell_type": "code",
   "execution_count": 7,
   "id": "f8fa37b4-25f8-4f6c-a965-708bc4eaf2e3",
   "metadata": {},
   "outputs": [
    {
     "name": "stdout",
     "output_type": "stream",
     "text": [
      "<class 'pandas.core.frame.DataFrame'>\n",
      "RangeIndex: 77 entries, 0 to 76\n",
      "Data columns (total 2 columns):\n",
      " #   Column  Non-Null Count  Dtype \n",
      "---  ------  --------------  ----- \n",
      " 0   Name    77 non-null     object\n",
      " 1   Price   77 non-null     object\n",
      "dtypes: object(2)\n",
      "memory usage: 1.3+ KB\n"
     ]
    }
   ],
   "source": [
    "items.info()"
   ]
  },
  {
   "cell_type": "code",
   "execution_count": 8,
   "id": "c239927b-b107-4f12-92c5-1c7526648854",
   "metadata": {},
   "outputs": [],
   "source": [
    "items[\"Price\"] = [x[:-3] for x in items[\"Price\"]] #removes eerythig after . in price.last three characters"
   ]
  },
  {
   "cell_type": "code",
   "execution_count": 9,
   "id": "d5b0d0a8-468b-4599-84f0-045c7ae81183",
   "metadata": {},
   "outputs": [],
   "source": [
    "items.to_csv(\"ydsgroceries invetory.csv\",index=False)"
   ]
  },
  {
   "cell_type": "code",
   "execution_count": null,
   "id": "9ae65bc4-89a6-4ccc-9ad6-b77dcfd645be",
   "metadata": {},
   "outputs": [],
   "source": []
  }
 ],
 "metadata": {
  "kernelspec": {
   "display_name": "Python 3",
   "language": "python",
   "name": "python3"
  },
  "language_info": {
   "codemirror_mode": {
    "name": "ipython",
    "version": 3
   },
   "file_extension": ".py",
   "mimetype": "text/x-python",
   "name": "python",
   "nbconvert_exporter": "python",
   "pygments_lexer": "ipython3",
   "version": "3.7.3"
  }
 },
 "nbformat": 4,
 "nbformat_minor": 5
}
