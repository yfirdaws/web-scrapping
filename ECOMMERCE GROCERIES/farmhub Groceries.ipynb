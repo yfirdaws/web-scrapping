{
 "cells": [
  {
   "cell_type": "code",
   "execution_count": 1,
   "id": "8bd61cad-f1e4-4b1d-bdea-05acde8da27a",
   "metadata": {},
   "outputs": [],
   "source": [
    "import requests\n",
    "from requests import get\n",
    "from bs4 import BeautifulSoup\n",
    "import pandas as pd\n",
    "import numpy as np\n",
    "from selenium import webdriver\n",
    "from webdriver_manager.chrome import ChromeDriverManager"
   ]
  },
  {
   "cell_type": "code",
   "execution_count": 2,
   "id": "4433537f-0f9d-4bd7-a23e-9f6df8d555d4",
   "metadata": {},
   "outputs": [
    {
     "name": "stderr",
     "output_type": "stream",
     "text": [
      "\n",
      "\n",
      "====== WebDriver manager ======\n",
      "Current google-chrome version is 91.0.4472\n",
      "Get LATEST driver version for 91.0.4472\n",
      "Driver [C:\\Users\\yfird\\.wdm\\drivers\\chromedriver\\win32\\91.0.4472.101\\chromedriver.exe] found in cache\n"
     ]
    }
   ],
   "source": [
    "headers = {\"Accept-Language\": \"en-US, en;q=0.5\"}\n",
    "driver = webdriver.Chrome(ChromeDriverManager().install())"
   ]
  },
  {
   "cell_type": "code",
   "execution_count": 19,
   "id": "ac5b87c9-5d8d-465a-afce-729e02d0eb25",
   "metadata": {},
   "outputs": [],
   "source": [
    "page=0\n",
    "Name=[]\n",
    "Price=[]\n",
    "while page !=3:\n",
    "    url=\"https://retail.farmhubng.com/shop/?page={}\".format(page)\n",
    "    driver.get(url)\n",
    "    results = driver.page_source\n",
    "    soup = BeautifulSoup(results,\"lxml\")\n",
    "\n",
    "    products=soup.find_all('div', class_=\"title\")\n",
    "    for item in products:\n",
    "        for h in soup.find_all('h3', class_=\"h6 text-uppercase no-margin-bottom\"): \n",
    "            name=h.findAll('a')[1].text.strip()\n",
    "        Name.append(name)\n",
    "        #print(Name)\n",
    "        #price\n",
    "        price=item.find('span',class_=\"price text-muted\")\n",
    "        if price is not None:\n",
    "             price= price.text.strip()      \n",
    "        else:\n",
    "             price = 'NaN'\n",
    "        Price.append(price)\n",
    "        #print(Price)\n",
    "\n",
    "\n",
    "    page=page+1"
   ]
  },
  {
   "cell_type": "code",
   "execution_count": 20,
   "id": "eb042a67-3b6d-4c36-8e0e-a885d7d75156",
   "metadata": {},
   "outputs": [],
   "source": [
    "items=pd.DataFrame({\n",
    "    'Name':Name,\n",
    "    'Price':Price\n",
    "})"
   ]
  },
  {
   "cell_type": "code",
   "execution_count": 21,
   "id": "d0569bec-2076-4c7b-b120-3c4f2951b2de",
   "metadata": {},
   "outputs": [
    {
     "data": {
      "text/html": [
       "<div>\n",
       "<style scoped>\n",
       "    .dataframe tbody tr th:only-of-type {\n",
       "        vertical-align: middle;\n",
       "    }\n",
       "\n",
       "    .dataframe tbody tr th {\n",
       "        vertical-align: top;\n",
       "    }\n",
       "\n",
       "    .dataframe thead th {\n",
       "        text-align: right;\n",
       "    }\n",
       "</style>\n",
       "<table border=\"1\" class=\"dataframe\">\n",
       "  <thead>\n",
       "    <tr style=\"text-align: right;\">\n",
       "      <th></th>\n",
       "      <th>Name</th>\n",
       "      <th>Price</th>\n",
       "    </tr>\n",
       "  </thead>\n",
       "  <tbody>\n",
       "    <tr>\n",
       "      <th>0</th>\n",
       "      <td>Smoked Chicken (Full)</td>\n",
       "      <td>N300.00 / kilo</td>\n",
       "    </tr>\n",
       "    <tr>\n",
       "      <th>1</th>\n",
       "      <td>Smoked Chicken (Full)</td>\n",
       "      <td>N400.00 / kilo</td>\n",
       "    </tr>\n",
       "    <tr>\n",
       "      <th>2</th>\n",
       "      <td>Smoked Chicken (Full)</td>\n",
       "      <td>N400.00 / kilo</td>\n",
       "    </tr>\n",
       "    <tr>\n",
       "      <th>3</th>\n",
       "      <td>Smoked Chicken (Full)</td>\n",
       "      <td>N500.00 / kilo</td>\n",
       "    </tr>\n",
       "    <tr>\n",
       "      <th>4</th>\n",
       "      <td>Smoked Chicken (Full)</td>\n",
       "      <td>N500.00 / kilo</td>\n",
       "    </tr>\n",
       "  </tbody>\n",
       "</table>\n",
       "</div>"
      ],
      "text/plain": [
       "                    Name           Price\n",
       "0  Smoked Chicken (Full)  N300.00 / kilo\n",
       "1  Smoked Chicken (Full)  N400.00 / kilo\n",
       "2  Smoked Chicken (Full)  N400.00 / kilo\n",
       "3  Smoked Chicken (Full)  N500.00 / kilo\n",
       "4  Smoked Chicken (Full)  N500.00 / kilo"
      ]
     },
     "execution_count": 21,
     "metadata": {},
     "output_type": "execute_result"
    }
   ],
   "source": [
    "items.head()"
   ]
  },
  {
   "cell_type": "code",
   "execution_count": 22,
   "id": "3cc9710f-a882-462c-8996-93224b741b4e",
   "metadata": {},
   "outputs": [
    {
     "data": {
      "text/plain": [
       "(31, 2)"
      ]
     },
     "execution_count": 22,
     "metadata": {},
     "output_type": "execute_result"
    }
   ],
   "source": [
    "items.shape"
   ]
  },
  {
   "cell_type": "code",
   "execution_count": 23,
   "id": "269cce38-2c82-492b-aec3-cedbf4b44b22",
   "metadata": {},
   "outputs": [],
   "source": [
    "new=items[\"Price\"].str.split(\"/ \", n = 1, expand = True)"
   ]
  },
  {
   "cell_type": "code",
   "execution_count": 33,
   "id": "f3f17492-b4fd-4992-ae51-b3b5df63da1a",
   "metadata": {},
   "outputs": [],
   "source": [
    "items['measuremet']=\"One\" +\" \"+ new[1]"
   ]
  },
  {
   "cell_type": "code",
   "execution_count": 26,
   "id": "fea50537-6b01-40cb-925a-6b3e1d2caf16",
   "metadata": {},
   "outputs": [],
   "source": [
    "items['Price']=new[0]"
   ]
  },
  {
   "cell_type": "code",
   "execution_count": 27,
   "id": "42db3c2e-6f77-475b-a9ce-145bba8ea82d",
   "metadata": {},
   "outputs": [
    {
     "data": {
      "text/plain": [
       "0       N300.00 \n",
       "1       N400.00 \n",
       "2       N400.00 \n",
       "3       N500.00 \n",
       "4       N500.00 \n",
       "5      N1600.00 \n",
       "6      N1600.00 \n",
       "7      N1800.00 \n",
       "8      N1800.00 \n",
       "9      N2000.00 \n",
       "10     N2000.00 \n",
       "11     N2500.00 \n",
       "12     N3500.00 \n",
       "13     N3700.00 \n",
       "14     N4000.00 \n",
       "15     N4000.00 \n",
       "16     N4000.00 \n",
       "17     N4000.00 \n",
       "18     N5000.00 \n",
       "19     N5000.00 \n",
       "20     N5500.00 \n",
       "21     N5500.00 \n",
       "22     N5500.00 \n",
       "23     N5500.00 \n",
       "24     N6000.00 \n",
       "25     N6500.00 \n",
       "26     N6500.00 \n",
       "27     N6500.00 \n",
       "28    N10000.00 \n",
       "29    N20000.00 \n",
       "30    N35000.00 \n",
       "Name: Price, dtype: object"
      ]
     },
     "execution_count": 27,
     "metadata": {},
     "output_type": "execute_result"
    }
   ],
   "source": [
    "items['Price']"
   ]
  },
  {
   "cell_type": "code",
   "execution_count": 34,
   "id": "21b0a6bc-0105-4587-a52d-7b567d1fab78",
   "metadata": {},
   "outputs": [
    {
     "data": {
      "text/html": [
       "<div>\n",
       "<style scoped>\n",
       "    .dataframe tbody tr th:only-of-type {\n",
       "        vertical-align: middle;\n",
       "    }\n",
       "\n",
       "    .dataframe tbody tr th {\n",
       "        vertical-align: top;\n",
       "    }\n",
       "\n",
       "    .dataframe thead th {\n",
       "        text-align: right;\n",
       "    }\n",
       "</style>\n",
       "<table border=\"1\" class=\"dataframe\">\n",
       "  <thead>\n",
       "    <tr style=\"text-align: right;\">\n",
       "      <th></th>\n",
       "      <th>Name</th>\n",
       "      <th>Price</th>\n",
       "      <th>measuremet</th>\n",
       "    </tr>\n",
       "  </thead>\n",
       "  <tbody>\n",
       "    <tr>\n",
       "      <th>0</th>\n",
       "      <td>Smoked Chicken (Full)</td>\n",
       "      <td>N300.00</td>\n",
       "      <td>One kilo</td>\n",
       "    </tr>\n",
       "    <tr>\n",
       "      <th>1</th>\n",
       "      <td>Smoked Chicken (Full)</td>\n",
       "      <td>N400.00</td>\n",
       "      <td>One kilo</td>\n",
       "    </tr>\n",
       "    <tr>\n",
       "      <th>2</th>\n",
       "      <td>Smoked Chicken (Full)</td>\n",
       "      <td>N400.00</td>\n",
       "      <td>One kilo</td>\n",
       "    </tr>\n",
       "    <tr>\n",
       "      <th>3</th>\n",
       "      <td>Smoked Chicken (Full)</td>\n",
       "      <td>N500.00</td>\n",
       "      <td>One kilo</td>\n",
       "    </tr>\n",
       "    <tr>\n",
       "      <th>4</th>\n",
       "      <td>Smoked Chicken (Full)</td>\n",
       "      <td>N500.00</td>\n",
       "      <td>One kilo</td>\n",
       "    </tr>\n",
       "  </tbody>\n",
       "</table>\n",
       "</div>"
      ],
      "text/plain": [
       "                    Name     Price measuremet\n",
       "0  Smoked Chicken (Full)  N300.00    One kilo\n",
       "1  Smoked Chicken (Full)  N400.00    One kilo\n",
       "2  Smoked Chicken (Full)  N400.00    One kilo\n",
       "3  Smoked Chicken (Full)  N500.00    One kilo\n",
       "4  Smoked Chicken (Full)  N500.00    One kilo"
      ]
     },
     "execution_count": 34,
     "metadata": {},
     "output_type": "execute_result"
    }
   ],
   "source": [
    "items.head()"
   ]
  },
  {
   "cell_type": "code",
   "execution_count": 36,
   "id": "90f63897-72e7-4ebf-bdc5-6cdff4d7f7e3",
   "metadata": {},
   "outputs": [],
   "source": [
    "items[\"Price\"] = [x[:-3] for x in items[\"Price\"]]"
   ]
  },
  {
   "cell_type": "code",
   "execution_count": 37,
   "id": "ae49268a-09ea-4cbe-987e-c656f906e7a0",
   "metadata": {},
   "outputs": [
    {
     "data": {
      "text/html": [
       "<div>\n",
       "<style scoped>\n",
       "    .dataframe tbody tr th:only-of-type {\n",
       "        vertical-align: middle;\n",
       "    }\n",
       "\n",
       "    .dataframe tbody tr th {\n",
       "        vertical-align: top;\n",
       "    }\n",
       "\n",
       "    .dataframe thead th {\n",
       "        text-align: right;\n",
       "    }\n",
       "</style>\n",
       "<table border=\"1\" class=\"dataframe\">\n",
       "  <thead>\n",
       "    <tr style=\"text-align: right;\">\n",
       "      <th></th>\n",
       "      <th>Name</th>\n",
       "      <th>Price</th>\n",
       "      <th>measuremet</th>\n",
       "    </tr>\n",
       "  </thead>\n",
       "  <tbody>\n",
       "    <tr>\n",
       "      <th>26</th>\n",
       "      <td>Smoked Ram Meat (1/2)</td>\n",
       "      <td>N6500.</td>\n",
       "      <td>One bundle</td>\n",
       "    </tr>\n",
       "    <tr>\n",
       "      <th>27</th>\n",
       "      <td>Smoked Ram Meat (1/2)</td>\n",
       "      <td>N6500.</td>\n",
       "      <td>One bundle</td>\n",
       "    </tr>\n",
       "    <tr>\n",
       "      <th>28</th>\n",
       "      <td>Smoked Ram Meat (1/2)</td>\n",
       "      <td>N10000.</td>\n",
       "      <td>One portion</td>\n",
       "    </tr>\n",
       "    <tr>\n",
       "      <th>29</th>\n",
       "      <td>Smoked Ram Meat (1/2)</td>\n",
       "      <td>N20000.</td>\n",
       "      <td>One portion</td>\n",
       "    </tr>\n",
       "    <tr>\n",
       "      <th>30</th>\n",
       "      <td>Smoked Ram Meat (1/2)</td>\n",
       "      <td>N35000.</td>\n",
       "      <td>One unit</td>\n",
       "    </tr>\n",
       "  </tbody>\n",
       "</table>\n",
       "</div>"
      ],
      "text/plain": [
       "                     Name    Price   measuremet\n",
       "26  Smoked Ram Meat (1/2)   N6500.   One bundle\n",
       "27  Smoked Ram Meat (1/2)   N6500.   One bundle\n",
       "28  Smoked Ram Meat (1/2)  N10000.  One portion\n",
       "29  Smoked Ram Meat (1/2)  N20000.  One portion\n",
       "30  Smoked Ram Meat (1/2)  N35000.     One unit"
      ]
     },
     "execution_count": 37,
     "metadata": {},
     "output_type": "execute_result"
    }
   ],
   "source": [
    "items.tail()"
   ]
  },
  {
   "cell_type": "code",
   "execution_count": 38,
   "id": "4c4609ea-de6d-4cdc-ae39-99a0196b5efd",
   "metadata": {},
   "outputs": [],
   "source": [
    "items.to_csv(\"farmhub_Groceries.csv\",index=False)"
   ]
  },
  {
   "cell_type": "code",
   "execution_count": null,
   "id": "d8c59473-784e-455a-b293-119c1d30ecfb",
   "metadata": {},
   "outputs": [],
   "source": []
  }
 ],
 "metadata": {
  "kernelspec": {
   "display_name": "Python 3",
   "language": "python",
   "name": "python3"
  },
  "language_info": {
   "codemirror_mode": {
    "name": "ipython",
    "version": 3
   },
   "file_extension": ".py",
   "mimetype": "text/x-python",
   "name": "python",
   "nbconvert_exporter": "python",
   "pygments_lexer": "ipython3",
   "version": "3.7.3"
  }
 },
 "nbformat": 4,
 "nbformat_minor": 5
}
