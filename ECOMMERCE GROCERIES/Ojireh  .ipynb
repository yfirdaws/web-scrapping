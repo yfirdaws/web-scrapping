{
 "cells": [
  {
   "cell_type": "code",
   "execution_count": 1,
   "id": "4b175468-76e6-43fc-8c8a-5ee08cc19f6c",
   "metadata": {},
   "outputs": [],
   "source": [
    "import requests\n",
    "from requests import get\n",
    "from bs4 import BeautifulSoup\n",
    "import pandas as pd\n",
    "import numpy as np\n",
    "from selenium import webdriver\n",
    "from webdriver_manager.chrome import ChromeDriverManager\n"
   ]
  },
  {
   "cell_type": "code",
   "execution_count": 2,
   "id": "4a74a7db-58b1-4528-a805-9c19883cde14",
   "metadata": {},
   "outputs": [
    {
     "name": "stderr",
     "output_type": "stream",
     "text": [
      "\n",
      "\n",
      "====== WebDriver manager ======\n",
      "Current google-chrome version is 91.0.4472\n",
      "Get LATEST driver version for 91.0.4472\n",
      "Driver [C:\\Users\\yfird\\.wdm\\drivers\\chromedriver\\win32\\91.0.4472.101\\chromedriver.exe] found in cache\n"
     ]
    }
   ],
   "source": [
    "headers = {\"Accept-Language\": \"en-US, en;q=0.5\"}\n",
    "driver = webdriver.Chrome(ChromeDriverManager().install())"
   ]
  },
  {
   "cell_type": "code",
   "execution_count": 9,
   "id": "ed642d8a-4632-4b2f-86da-ba2b7875440f",
   "metadata": {},
   "outputs": [],
   "source": [
    "page=1\n",
    "Name=[]\n",
    "Price=[]\n",
    "while page !=27:\n",
    "    url=f\"https://ojireh.com/shop-now.html?p={page}\"\n",
    "    driver.get(url)\n",
    "    results = driver.page_source\n",
    "    soup = BeautifulSoup(results, \"html.parser\")\n",
    "\n",
    "    products=soup.find_all('div', class_=\"product details product-item-details\")\n",
    "    for item in products:\n",
    "        name=item.find('a',class_='product-item-link').text.strip() \n",
    "        Name.append(name)\n",
    "        #price\n",
    "        price=item.find('span',class_='price')\n",
    "        if price is not None:\n",
    "             price= price.text.strip()      \n",
    "        else:\n",
    "             price = 'NaN'\n",
    "               \n",
    "        Price.append(price)\n",
    "        \n",
    "    page=page +1"
   ]
  },
  {
   "cell_type": "code",
   "execution_count": 12,
   "id": "82b407c2-e24a-4384-ad8d-e5195d7209ef",
   "metadata": {},
   "outputs": [],
   "source": [
    "Groceries=pd.DataFrame({\n",
    "    'Name':Name,\n",
    "    'Price':Price\n",
    "})"
   ]
  },
  {
   "cell_type": "code",
   "execution_count": 13,
   "id": "7751c75a-e25e-4d9e-ab37-78e320408e44",
   "metadata": {},
   "outputs": [
    {
     "data": {
      "text/html": [
       "<div>\n",
       "<style scoped>\n",
       "    .dataframe tbody tr th:only-of-type {\n",
       "        vertical-align: middle;\n",
       "    }\n",
       "\n",
       "    .dataframe tbody tr th {\n",
       "        vertical-align: top;\n",
       "    }\n",
       "\n",
       "    .dataframe thead th {\n",
       "        text-align: right;\n",
       "    }\n",
       "</style>\n",
       "<table border=\"1\" class=\"dataframe\">\n",
       "  <thead>\n",
       "    <tr style=\"text-align: right;\">\n",
       "      <th></th>\n",
       "      <th>Name</th>\n",
       "      <th>Price</th>\n",
       "    </tr>\n",
       "  </thead>\n",
       "  <tbody>\n",
       "    <tr>\n",
       "      <th>0</th>\n",
       "      <td>FRESH MINCED BEEF 1KG</td>\n",
       "      <td>₦1,820.00</td>\n",
       "    </tr>\n",
       "    <tr>\n",
       "      <th>1</th>\n",
       "      <td>A.LEGAL MACEDOINE MIXED VEGETABLES 400g</td>\n",
       "      <td>₦885.00</td>\n",
       "    </tr>\n",
       "    <tr>\n",
       "      <th>2</th>\n",
       "      <td>AACE BLACK PEPPER POWDER 70g</td>\n",
       "      <td>₦760.00</td>\n",
       "    </tr>\n",
       "    <tr>\n",
       "      <th>3</th>\n",
       "      <td>AACE FOODS SPICE GINGER POWDER 80g</td>\n",
       "      <td>₦760.00</td>\n",
       "    </tr>\n",
       "    <tr>\n",
       "      <th>4</th>\n",
       "      <td>AACE PEPPER SOUP SPICE</td>\n",
       "      <td>₦760.00</td>\n",
       "    </tr>\n",
       "  </tbody>\n",
       "</table>\n",
       "</div>"
      ],
      "text/plain": [
       "                                      Name      Price\n",
       "0                    FRESH MINCED BEEF 1KG  ₦1,820.00\n",
       "1  A.LEGAL MACEDOINE MIXED VEGETABLES 400g    ₦885.00\n",
       "2             AACE BLACK PEPPER POWDER 70g    ₦760.00\n",
       "3       AACE FOODS SPICE GINGER POWDER 80g    ₦760.00\n",
       "4                   AACE PEPPER SOUP SPICE    ₦760.00"
      ]
     },
     "execution_count": 13,
     "metadata": {},
     "output_type": "execute_result"
    }
   ],
   "source": [
    "Groceries.head()"
   ]
  },
  {
   "cell_type": "code",
   "execution_count": 14,
   "id": "d716670c-f2a4-42ca-8633-67dfd16e5399",
   "metadata": {},
   "outputs": [
    {
     "data": {
      "text/plain": [
       "0                      FRESH MINCED BEEF 1KG\n",
       "1    A.LEGAL MACEDOINE MIXED VEGETABLES 400g\n",
       "2               AACE BLACK PEPPER POWDER 70g\n",
       "3         AACE FOODS SPICE GINGER POWDER 80g\n",
       "4                     AACE PEPPER SOUP SPICE\n",
       "Name: Name, dtype: object"
      ]
     },
     "execution_count": 14,
     "metadata": {},
     "output_type": "execute_result"
    }
   ],
   "source": [
    "Groceries['Name'].head()"
   ]
  },
  {
   "cell_type": "code",
   "execution_count": 19,
   "id": "b6497d93-c467-4336-bd9e-423f529e5018",
   "metadata": {},
   "outputs": [
    {
     "data": {
      "text/plain": [
       "0"
      ]
     },
     "execution_count": 19,
     "metadata": {},
     "output_type": "execute_result"
    }
   ],
   "source": [
    "Groceries.isnull().any().sum()"
   ]
  },
  {
   "cell_type": "code",
   "execution_count": 20,
   "id": "bdcb9b59-e26e-4612-a1d5-adf26e729cf2",
   "metadata": {},
   "outputs": [
    {
     "data": {
      "text/plain": [
       "(742, 2)"
      ]
     },
     "execution_count": 20,
     "metadata": {},
     "output_type": "execute_result"
    }
   ],
   "source": [
    "Groceries.shape"
   ]
  },
  {
   "cell_type": "code",
   "execution_count": 21,
   "id": "fba05085-6e48-46a1-9faf-cfaf322d5f32",
   "metadata": {},
   "outputs": [],
   "source": [
    "Groceries.to_csv('Ojireh_Groceries.csv', index=False)"
   ]
  },
  {
   "cell_type": "code",
   "execution_count": null,
   "id": "6b16fb74-c750-4bd9-8fc1-513acc72f9bb",
   "metadata": {},
   "outputs": [],
   "source": []
  }
 ],
 "metadata": {
  "kernelspec": {
   "display_name": "Python 3",
   "language": "python",
   "name": "python3"
  },
  "language_info": {
   "codemirror_mode": {
    "name": "ipython",
    "version": 3
   },
   "file_extension": ".py",
   "mimetype": "text/x-python",
   "name": "python",
   "nbconvert_exporter": "python",
   "pygments_lexer": "ipython3",
   "version": "3.7.3"
  }
 },
 "nbformat": 4,
 "nbformat_minor": 5
}
