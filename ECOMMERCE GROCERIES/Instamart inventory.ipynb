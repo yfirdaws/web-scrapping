{
 "cells": [
  {
   "cell_type": "code",
   "execution_count": 1,
   "id": "a2169d61-a976-4472-a9ee-adfef5bbbeeb",
   "metadata": {},
   "outputs": [],
   "source": [
    "import requests\n",
    "from requests import get\n",
    "from bs4 import BeautifulSoup\n",
    "import pandas as pd\n",
    "import numpy as np\n",
    "from selenium import webdriver\n",
    "from webdriver_manager.chrome import ChromeDriverManager"
   ]
  },
  {
   "cell_type": "code",
   "execution_count": 2,
   "id": "bf597fde-d71b-4fbf-9740-a771a74c9b68",
   "metadata": {},
   "outputs": [
    {
     "name": "stderr",
     "output_type": "stream",
     "text": [
      "\n",
      "\n",
      "====== WebDriver manager ======\n",
      "Current google-chrome version is 91.0.4472\n",
      "Get LATEST driver version for 91.0.4472\n",
      "Driver [C:\\Users\\yfird\\.wdm\\drivers\\chromedriver\\win32\\91.0.4472.101\\chromedriver.exe] found in cache\n"
     ]
    }
   ],
   "source": [
    "headers = {\"Accept-Language\": \"en-US, en;q=0.5\"}\n",
    "driver = webdriver.Chrome(ChromeDriverManager().install())"
   ]
  },
  {
   "cell_type": "code",
   "execution_count": 5,
   "id": "87b7d2b1-569d-42ff-b61b-c47a222afcd1",
   "metadata": {},
   "outputs": [],
   "source": [
    "Name=[]\n",
    "Price=[]\n",
    "urls=[\"https://instamartng.co/products/tubers-roots\",\"https://instamartng.co/products/noodles-and-pasta\",\"https://instamartng.co/products/packaged-canned-foods\",\"https://instamartng.co/products/spices-soup-and-stew-ingredients\",\n",
    "       \"https://instamartng.co/products/greek-yoghurt\",\"https://instamartng.co/products/foodstuff\",\"https://instamartng.co/products/fresh-vegetables-leaves\",\"https://instamartng.co/products/fruits\",\n",
    "       \"https://instamartng.co/products/fish-seafood\",\"https://instamartng.co/products/daily-fresh-produce\",\"https://instamartng.co/products/cooking-oils\",\"https://instamartng.co/products/cereals-biscuits\",\n",
    "     \"https://instamartng.co/products/beverages\"]\n",
    "for url in urls:\n",
    "    driver.get(url)\n",
    "    results = driver.page_source\n",
    "    soup = BeautifulSoup(results,\"lxml\")\n",
    "\n",
    "    products=soup.find_all('div', class_=\"woo_product_caption center\")\n",
    "    for item in products:\n",
    "        name=item.find('div', class_=\"woo_title\").h4.text.strip()\n",
    "        Name.append(name)\n",
    "        #print(Name)\n",
    "        #price\n",
    "        price=item.find('div',class_=\"woo_price\").h6\n",
    "        if price is not None:\n",
    "             price= price.text.strip()      \n",
    "        else:\n",
    "             price = 'NaN'\n",
    "        Price.append(price)\n",
    "        #print(Price)\n",
    "\n"
   ]
  },
  {
   "cell_type": "code",
   "execution_count": 6,
   "id": "0e9c9619-8752-40b8-bfa8-e6c5983dd3c5",
   "metadata": {},
   "outputs": [],
   "source": [
    "items=pd.DataFrame({\n",
    "    'Name':Name,\n",
    "    'Price':Price\n",
    "})"
   ]
  },
  {
   "cell_type": "code",
   "execution_count": 7,
   "id": "3e7e53cb-bccf-4056-a9a3-1d59798a1c14",
   "metadata": {},
   "outputs": [
    {
     "data": {
      "text/html": [
       "<div>\n",
       "<style scoped>\n",
       "    .dataframe tbody tr th:only-of-type {\n",
       "        vertical-align: middle;\n",
       "    }\n",
       "\n",
       "    .dataframe tbody tr th {\n",
       "        vertical-align: top;\n",
       "    }\n",
       "\n",
       "    .dataframe thead th {\n",
       "        text-align: right;\n",
       "    }\n",
       "</style>\n",
       "<table border=\"1\" class=\"dataframe\">\n",
       "  <thead>\n",
       "    <tr style=\"text-align: right;\">\n",
       "      <th></th>\n",
       "      <th>Name</th>\n",
       "      <th>Price</th>\n",
       "    </tr>\n",
       "  </thead>\n",
       "  <tbody>\n",
       "    <tr>\n",
       "      <th>0</th>\n",
       "      <td>Coco yam for soup per portion</td>\n",
       "      <td>₦500</td>\n",
       "    </tr>\n",
       "    <tr>\n",
       "      <th>1</th>\n",
       "      <td>Fresh Yam</td>\n",
       "      <td>₦1,200</td>\n",
       "    </tr>\n",
       "    <tr>\n",
       "      <th>2</th>\n",
       "      <td>Ginger root</td>\n",
       "      <td>₦200</td>\n",
       "    </tr>\n",
       "    <tr>\n",
       "      <th>3</th>\n",
       "      <td>Irish Potatoes (medium portion)</td>\n",
       "      <td>₦1,000</td>\n",
       "    </tr>\n",
       "    <tr>\n",
       "      <th>4</th>\n",
       "      <td>Irish potatoes (paint bucket)</td>\n",
       "      <td>₦3,500</td>\n",
       "    </tr>\n",
       "  </tbody>\n",
       "</table>\n",
       "</div>"
      ],
      "text/plain": [
       "                              Name   Price\n",
       "0    Coco yam for soup per portion    ₦500\n",
       "1                        Fresh Yam  ₦1,200\n",
       "2                      Ginger root    ₦200\n",
       "3  Irish Potatoes (medium portion)  ₦1,000\n",
       "4    Irish potatoes (paint bucket)  ₦3,500"
      ]
     },
     "execution_count": 7,
     "metadata": {},
     "output_type": "execute_result"
    }
   ],
   "source": [
    "items.head()"
   ]
  },
  {
   "cell_type": "code",
   "execution_count": 9,
   "id": "94c8f067-7e3f-43aa-b1cc-9c23fbc9309b",
   "metadata": {},
   "outputs": [
    {
     "data": {
      "text/plain": [
       "(183, 2)"
      ]
     },
     "execution_count": 9,
     "metadata": {},
     "output_type": "execute_result"
    }
   ],
   "source": [
    "items.shape"
   ]
  },
  {
   "cell_type": "code",
   "execution_count": 10,
   "id": "1611e7d5-5a37-412d-841f-3e41a23e86b0",
   "metadata": {},
   "outputs": [
    {
     "name": "stdout",
     "output_type": "stream",
     "text": [
      "<class 'pandas.core.frame.DataFrame'>\n",
      "RangeIndex: 183 entries, 0 to 182\n",
      "Data columns (total 2 columns):\n",
      " #   Column  Non-Null Count  Dtype \n",
      "---  ------  --------------  ----- \n",
      " 0   Name    183 non-null    object\n",
      " 1   Price   183 non-null    object\n",
      "dtypes: object(2)\n",
      "memory usage: 3.0+ KB\n"
     ]
    }
   ],
   "source": [
    "items.info()"
   ]
  },
  {
   "cell_type": "code",
   "execution_count": 12,
   "id": "9fb93e11-8606-4fee-9382-1d88d3544d24",
   "metadata": {},
   "outputs": [],
   "source": [
    "items.to_csv(\"Instamart inventory.csv\",index=False)"
   ]
  },
  {
   "cell_type": "code",
   "execution_count": null,
   "id": "49b84e79-d4f7-45e1-a800-1df61ab74966",
   "metadata": {},
   "outputs": [],
   "source": []
  }
 ],
 "metadata": {
  "kernelspec": {
   "display_name": "Python 3",
   "language": "python",
   "name": "python3"
  },
  "language_info": {
   "codemirror_mode": {
    "name": "ipython",
    "version": 3
   },
   "file_extension": ".py",
   "mimetype": "text/x-python",
   "name": "python",
   "nbconvert_exporter": "python",
   "pygments_lexer": "ipython3",
   "version": "3.7.3"
  }
 },
 "nbformat": 4,
 "nbformat_minor": 5
}
