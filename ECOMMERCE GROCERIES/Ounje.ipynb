{
 "cells": [
  {
   "cell_type": "code",
   "execution_count": 1,
   "id": "cb649534-fce6-48e7-a7fc-86748741a506",
   "metadata": {},
   "outputs": [],
   "source": [
    "import requests\n",
    "from requests import get\n",
    "from bs4 import BeautifulSoup\n",
    "import pandas as pd\n",
    "import numpy as np\n",
    "from selenium import webdriver\n",
    "from webdriver_manager.chrome import ChromeDriverManager"
   ]
  },
  {
   "cell_type": "code",
   "execution_count": 2,
   "id": "4b10ae4c-2712-4994-b9d5-be0166539ab7",
   "metadata": {},
   "outputs": [
    {
     "name": "stderr",
     "output_type": "stream",
     "text": [
      "\n",
      "\n",
      "====== WebDriver manager ======\n",
      "Current google-chrome version is 91.0.4472\n",
      "Get LATEST driver version for 91.0.4472\n",
      "Driver [C:\\Users\\yfird\\.wdm\\drivers\\chromedriver\\win32\\91.0.4472.101\\chromedriver.exe] found in cache\n"
     ]
    }
   ],
   "source": [
    "headers = {\"Accept-Language\": \"en-US, en;q=0.5\"}\n",
    "driver = webdriver.Chrome(ChromeDriverManager().install())"
   ]
  },
  {
   "cell_type": "code",
   "execution_count": 24,
   "id": "f09c2671-c265-454f-b7d7-af892c4619c7",
   "metadata": {},
   "outputs": [],
   "source": [
    "page=1\n",
    "Name=[]\n",
    "Price=[]\n",
    "while page !=15:\n",
    "    url=\"https://ounje.ng/shop/page/{}/\".format(page)\n",
    "    driver.get(url)\n",
    "    results = driver.page_source\n",
    "    soup = BeautifulSoup(results,\"lxml\")\n",
    "\n",
    "    products=soup.find_all('div', class_=\"product-info\")\n",
    "    for item in products:\n",
    "        name=item.find('h3', class_=\"product-name product_title\").a.text\n",
    "        Name.append(name)\n",
    "        #print(Name)\n",
    "        #price\n",
    "        price=item.find('bdi')\n",
    "        if price is not None:\n",
    "             price= price.text.strip()      \n",
    "        else:\n",
    "             price = 'NaN'\n",
    "        Price.append(price)\n",
    "        #print(Price)\n",
    "        \n",
    "        \n",
    "    page=page+1"
   ]
  },
  {
   "cell_type": "code",
   "execution_count": null,
   "id": "13c5ca17-76b5-494e-bbbb-d7cda6dbb293",
   "metadata": {},
   "outputs": [],
   "source": []
  },
  {
   "cell_type": "code",
   "execution_count": 25,
   "id": "a82e2af3-cd78-46a8-923f-d2fa87b35895",
   "metadata": {},
   "outputs": [
    {
     "data": {
      "text/plain": [
       "321"
      ]
     },
     "execution_count": 25,
     "metadata": {},
     "output_type": "execute_result"
    }
   ],
   "source": [
    "len(Price)"
   ]
  },
  {
   "cell_type": "code",
   "execution_count": 92,
   "id": "64ace495-9c35-47cb-a5c8-893b2011c096",
   "metadata": {},
   "outputs": [],
   "source": [
    "items=pd.DataFrame({\n",
    "    'Name':Name,\n",
    "    'Price':Price\n",
    "})"
   ]
  },
  {
   "cell_type": "code",
   "execution_count": 93,
   "id": "cc9ad706-916a-43cd-a977-8700069e7b1f",
   "metadata": {},
   "outputs": [
    {
     "data": {
      "text/html": [
       "<div>\n",
       "<style scoped>\n",
       "    .dataframe tbody tr th:only-of-type {\n",
       "        vertical-align: middle;\n",
       "    }\n",
       "\n",
       "    .dataframe tbody tr th {\n",
       "        vertical-align: top;\n",
       "    }\n",
       "\n",
       "    .dataframe thead th {\n",
       "        text-align: right;\n",
       "    }\n",
       "</style>\n",
       "<table border=\"1\" class=\"dataframe\">\n",
       "  <thead>\n",
       "    <tr style=\"text-align: right;\">\n",
       "      <th></th>\n",
       "      <th>Name</th>\n",
       "      <th>Price</th>\n",
       "    </tr>\n",
       "  </thead>\n",
       "  <tbody>\n",
       "    <tr>\n",
       "      <th>0</th>\n",
       "      <td>Groundnut</td>\n",
       "      <td>NaN</td>\n",
       "    </tr>\n",
       "    <tr>\n",
       "      <th>1</th>\n",
       "      <td>Ofada Rice</td>\n",
       "      <td>₦701.00</td>\n",
       "    </tr>\n",
       "    <tr>\n",
       "      <th>2</th>\n",
       "      <td>Chicken Gizzard</td>\n",
       "      <td>₦1,599.00</td>\n",
       "    </tr>\n",
       "    <tr>\n",
       "      <th>3</th>\n",
       "      <td>Goat meat</td>\n",
       "      <td>₦1,698.08</td>\n",
       "    </tr>\n",
       "    <tr>\n",
       "      <th>4</th>\n",
       "      <td>Exeter Corned Beef 200g</td>\n",
       "      <td>₦555.55</td>\n",
       "    </tr>\n",
       "  </tbody>\n",
       "</table>\n",
       "</div>"
      ],
      "text/plain": [
       "                      Name      Price\n",
       "0                Groundnut        NaN\n",
       "1               Ofada Rice    ₦701.00\n",
       "2          Chicken Gizzard  ₦1,599.00\n",
       "3                Goat meat  ₦1,698.08\n",
       "4  Exeter Corned Beef 200g    ₦555.55"
      ]
     },
     "execution_count": 93,
     "metadata": {},
     "output_type": "execute_result"
    }
   ],
   "source": [
    "items.head()"
   ]
  },
  {
   "cell_type": "code",
   "execution_count": 94,
   "id": "75b5fded-aa03-4d42-b46d-946253c61b90",
   "metadata": {},
   "outputs": [
    {
     "data": {
      "text/plain": [
       "(321, 2)"
      ]
     },
     "execution_count": 94,
     "metadata": {},
     "output_type": "execute_result"
    }
   ],
   "source": [
    "items.shape"
   ]
  },
  {
   "cell_type": "code",
   "execution_count": 54,
   "id": "aa6454bb-a03c-4f43-bd4a-1dd814a62e20",
   "metadata": {},
   "outputs": [
    {
     "data": {
      "text/plain": [
       "Name     False\n",
       "Price    False\n",
       "dtype: bool"
      ]
     },
     "execution_count": 54,
     "metadata": {},
     "output_type": "execute_result"
    }
   ],
   "source": [
    "items.isnull().any()"
   ]
  },
  {
   "cell_type": "code",
   "execution_count": 95,
   "id": "9c4ad04d-2ee0-4183-ae03-5f801e362de7",
   "metadata": {},
   "outputs": [],
   "source": [
    "#drop first row\n",
    "items = items.iloc[1:]"
   ]
  },
  {
   "cell_type": "code",
   "execution_count": 36,
   "id": "f131019f-416a-4a55-9c57-04596e241621",
   "metadata": {},
   "outputs": [
    {
     "data": {
      "text/html": [
       "<div>\n",
       "<style scoped>\n",
       "    .dataframe tbody tr th:only-of-type {\n",
       "        vertical-align: middle;\n",
       "    }\n",
       "\n",
       "    .dataframe tbody tr th {\n",
       "        vertical-align: top;\n",
       "    }\n",
       "\n",
       "    .dataframe thead th {\n",
       "        text-align: right;\n",
       "    }\n",
       "</style>\n",
       "<table border=\"1\" class=\"dataframe\">\n",
       "  <thead>\n",
       "    <tr style=\"text-align: right;\">\n",
       "      <th></th>\n",
       "      <th>Name</th>\n",
       "      <th>Price</th>\n",
       "    </tr>\n",
       "  </thead>\n",
       "  <tbody>\n",
       "    <tr>\n",
       "      <th>1</th>\n",
       "      <td>Ofada Rice</td>\n",
       "      <td>₦701.00</td>\n",
       "    </tr>\n",
       "    <tr>\n",
       "      <th>2</th>\n",
       "      <td>Chicken Gizzard</td>\n",
       "      <td>₦1,599.00</td>\n",
       "    </tr>\n",
       "    <tr>\n",
       "      <th>3</th>\n",
       "      <td>Goat meat</td>\n",
       "      <td>₦1,698.08</td>\n",
       "    </tr>\n",
       "    <tr>\n",
       "      <th>4</th>\n",
       "      <td>Exeter Corned Beef 200g</td>\n",
       "      <td>₦555.55</td>\n",
       "    </tr>\n",
       "    <tr>\n",
       "      <th>5</th>\n",
       "      <td>Exeter Corned Beef 340g</td>\n",
       "      <td>₦855.55</td>\n",
       "    </tr>\n",
       "  </tbody>\n",
       "</table>\n",
       "</div>"
      ],
      "text/plain": [
       "                      Name      Price\n",
       "1               Ofada Rice    ₦701.00\n",
       "2          Chicken Gizzard  ₦1,599.00\n",
       "3                Goat meat  ₦1,698.08\n",
       "4  Exeter Corned Beef 200g    ₦555.55\n",
       "5  Exeter Corned Beef 340g    ₦855.55"
      ]
     },
     "execution_count": 36,
     "metadata": {},
     "output_type": "execute_result"
    }
   ],
   "source": [
    "items.head()"
   ]
  },
  {
   "cell_type": "code",
   "execution_count": 55,
   "id": "0aaf947c-ddf9-4f65-b61b-bdbce621da91",
   "metadata": {},
   "outputs": [
    {
     "data": {
      "text/plain": [
       "(321, 2)"
      ]
     },
     "execution_count": 55,
     "metadata": {},
     "output_type": "execute_result"
    }
   ],
   "source": [
    "items.shape"
   ]
  },
  {
   "cell_type": "code",
   "execution_count": 56,
   "id": "6ca620fa-8019-43bf-9c85-ec78da4f407b",
   "metadata": {},
   "outputs": [
    {
     "name": "stdout",
     "output_type": "stream",
     "text": [
      "<class 'pandas.core.frame.DataFrame'>\n",
      "RangeIndex: 321 entries, 0 to 320\n",
      "Data columns (total 2 columns):\n",
      " #   Column  Non-Null Count  Dtype \n",
      "---  ------  --------------  ----- \n",
      " 0   Name    321 non-null    object\n",
      " 1   Price   321 non-null    object\n",
      "dtypes: object(2)\n",
      "memory usage: 5.1+ KB\n"
     ]
    }
   ],
   "source": [
    "items.info()"
   ]
  },
  {
   "cell_type": "code",
   "execution_count": 60,
   "id": "6bb1a0f6-e8fb-4aad-8919-3e303629e797",
   "metadata": {},
   "outputs": [
    {
     "data": {
      "text/html": [
       "<div>\n",
       "<style scoped>\n",
       "    .dataframe tbody tr th:only-of-type {\n",
       "        vertical-align: middle;\n",
       "    }\n",
       "\n",
       "    .dataframe tbody tr th {\n",
       "        vertical-align: top;\n",
       "    }\n",
       "\n",
       "    .dataframe thead th {\n",
       "        text-align: right;\n",
       "    }\n",
       "</style>\n",
       "<table border=\"1\" class=\"dataframe\">\n",
       "  <thead>\n",
       "    <tr style=\"text-align: right;\">\n",
       "      <th></th>\n",
       "      <th>Name</th>\n",
       "      <th>Price</th>\n",
       "    </tr>\n",
       "  </thead>\n",
       "  <tbody>\n",
       "    <tr>\n",
       "      <th>315</th>\n",
       "      <td>Chicken Gizzard</td>\n",
       "      <td>₦1,599.00</td>\n",
       "    </tr>\n",
       "    <tr>\n",
       "      <th>316</th>\n",
       "      <td>Ofada Rice</td>\n",
       "      <td>₦701.00</td>\n",
       "    </tr>\n",
       "    <tr>\n",
       "      <th>318</th>\n",
       "      <td>Garri (White)</td>\n",
       "      <td>₦170.00</td>\n",
       "    </tr>\n",
       "    <tr>\n",
       "      <th>319</th>\n",
       "      <td>Peppersoup Spice</td>\n",
       "      <td>₦100.00</td>\n",
       "    </tr>\n",
       "    <tr>\n",
       "      <th>320</th>\n",
       "      <td>Honeywell Semolina</td>\n",
       "      <td>₦302.00</td>\n",
       "    </tr>\n",
       "  </tbody>\n",
       "</table>\n",
       "</div>"
      ],
      "text/plain": [
       "                   Name      Price\n",
       "315     Chicken Gizzard  ₦1,599.00\n",
       "316          Ofada Rice    ₦701.00\n",
       "318       Garri (White)    ₦170.00\n",
       "319    Peppersoup Spice    ₦100.00\n",
       "320  Honeywell Semolina    ₦302.00"
      ]
     },
     "execution_count": 60,
     "metadata": {},
     "output_type": "execute_result"
    }
   ],
   "source": [
    "items.tail()"
   ]
  },
  {
   "cell_type": "code",
   "execution_count": 96,
   "id": "f7419206-5d35-4779-a235-c65cea43bc89",
   "metadata": {},
   "outputs": [],
   "source": [
    "items = items[~items.Price.str.contains('NaN')]  #creates a variable items that does nt contain any row where price=NaN"
   ]
  },
  {
   "cell_type": "code",
   "execution_count": 62,
   "id": "17a6035f-f25e-459c-a934-83492fd9cf76",
   "metadata": {},
   "outputs": [
    {
     "name": "stdout",
     "output_type": "stream",
     "text": [
      "<class 'pandas.core.frame.DataFrame'>\n",
      "Int64Index: 319 entries, 1 to 320\n",
      "Data columns (total 2 columns):\n",
      " #   Column  Non-Null Count  Dtype \n",
      "---  ------  --------------  ----- \n",
      " 0   Name    319 non-null    object\n",
      " 1   Price   319 non-null    object\n",
      "dtypes: object(2)\n",
      "memory usage: 7.5+ KB\n"
     ]
    }
   ],
   "source": [
    "items.info()"
   ]
  },
  {
   "cell_type": "code",
   "execution_count": 64,
   "id": "0619acfa-5d8a-4db3-b694-30d67f7966d7",
   "metadata": {},
   "outputs": [
    {
     "data": {
      "text/html": [
       "<div>\n",
       "<style scoped>\n",
       "    .dataframe tbody tr th:only-of-type {\n",
       "        vertical-align: middle;\n",
       "    }\n",
       "\n",
       "    .dataframe tbody tr th {\n",
       "        vertical-align: top;\n",
       "    }\n",
       "\n",
       "    .dataframe thead th {\n",
       "        text-align: right;\n",
       "    }\n",
       "</style>\n",
       "<table border=\"1\" class=\"dataframe\">\n",
       "  <thead>\n",
       "    <tr style=\"text-align: right;\">\n",
       "      <th></th>\n",
       "      <th>Name</th>\n",
       "      <th>Price</th>\n",
       "    </tr>\n",
       "  </thead>\n",
       "  <tbody>\n",
       "    <tr>\n",
       "      <th>1</th>\n",
       "      <td>Ofada Rice</td>\n",
       "      <td>₦701.00</td>\n",
       "    </tr>\n",
       "    <tr>\n",
       "      <th>2</th>\n",
       "      <td>Chicken Gizzard</td>\n",
       "      <td>₦1,599.00</td>\n",
       "    </tr>\n",
       "    <tr>\n",
       "      <th>3</th>\n",
       "      <td>Goat meat</td>\n",
       "      <td>₦1,698.08</td>\n",
       "    </tr>\n",
       "    <tr>\n",
       "      <th>4</th>\n",
       "      <td>Exeter Corned Beef 200g</td>\n",
       "      <td>₦555.55</td>\n",
       "    </tr>\n",
       "    <tr>\n",
       "      <th>5</th>\n",
       "      <td>Exeter Corned Beef 340g</td>\n",
       "      <td>₦855.55</td>\n",
       "    </tr>\n",
       "  </tbody>\n",
       "</table>\n",
       "</div>"
      ],
      "text/plain": [
       "                      Name      Price\n",
       "1               Ofada Rice    ₦701.00\n",
       "2          Chicken Gizzard  ₦1,599.00\n",
       "3                Goat meat  ₦1,698.08\n",
       "4  Exeter Corned Beef 200g    ₦555.55\n",
       "5  Exeter Corned Beef 340g    ₦855.55"
      ]
     },
     "execution_count": 64,
     "metadata": {},
     "output_type": "execute_result"
    }
   ],
   "source": [
    "items.head()"
   ]
  },
  {
   "cell_type": "code",
   "execution_count": 97,
   "id": "93725636-5fea-4058-8ce6-38bebb69fde0",
   "metadata": {},
   "outputs": [],
   "source": [
    "items[\"Price\"] = items[\"Price\"].str.replace('₦', '') "
   ]
  },
  {
   "cell_type": "code",
   "execution_count": 66,
   "id": "28f3404b-3678-475d-b444-bc8e89cd0323",
   "metadata": {},
   "outputs": [
    {
     "data": {
      "text/html": [
       "<div>\n",
       "<style scoped>\n",
       "    .dataframe tbody tr th:only-of-type {\n",
       "        vertical-align: middle;\n",
       "    }\n",
       "\n",
       "    .dataframe tbody tr th {\n",
       "        vertical-align: top;\n",
       "    }\n",
       "\n",
       "    .dataframe thead th {\n",
       "        text-align: right;\n",
       "    }\n",
       "</style>\n",
       "<table border=\"1\" class=\"dataframe\">\n",
       "  <thead>\n",
       "    <tr style=\"text-align: right;\">\n",
       "      <th></th>\n",
       "      <th>Name</th>\n",
       "      <th>Price</th>\n",
       "    </tr>\n",
       "  </thead>\n",
       "  <tbody>\n",
       "    <tr>\n",
       "      <th>1</th>\n",
       "      <td>Ofada Rice</td>\n",
       "      <td>701.00</td>\n",
       "    </tr>\n",
       "    <tr>\n",
       "      <th>2</th>\n",
       "      <td>Chicken Gizzard</td>\n",
       "      <td>1,599.00</td>\n",
       "    </tr>\n",
       "    <tr>\n",
       "      <th>3</th>\n",
       "      <td>Goat meat</td>\n",
       "      <td>1,698.08</td>\n",
       "    </tr>\n",
       "    <tr>\n",
       "      <th>4</th>\n",
       "      <td>Exeter Corned Beef 200g</td>\n",
       "      <td>555.55</td>\n",
       "    </tr>\n",
       "    <tr>\n",
       "      <th>5</th>\n",
       "      <td>Exeter Corned Beef 340g</td>\n",
       "      <td>855.55</td>\n",
       "    </tr>\n",
       "  </tbody>\n",
       "</table>\n",
       "</div>"
      ],
      "text/plain": [
       "                      Name     Price\n",
       "1               Ofada Rice    701.00\n",
       "2          Chicken Gizzard  1,599.00\n",
       "3                Goat meat  1,698.08\n",
       "4  Exeter Corned Beef 200g    555.55\n",
       "5  Exeter Corned Beef 340g    855.55"
      ]
     },
     "execution_count": 66,
     "metadata": {},
     "output_type": "execute_result"
    }
   ],
   "source": [
    "items.head()"
   ]
  },
  {
   "cell_type": "code",
   "execution_count": 98,
   "id": "98c421cd-fda1-49e2-8992-f5fb50d21b3c",
   "metadata": {},
   "outputs": [],
   "source": [
    "items[\"Price\"] = [x[:-3] for x in items[\"Price\"]] #removes eerythig after . in price.last three characters"
   ]
  },
  {
   "cell_type": "code",
   "execution_count": 99,
   "id": "1bc6bda0-f3f0-4e6e-9d24-ae795823b204",
   "metadata": {},
   "outputs": [
    {
     "data": {
      "text/plain": [
       "1      701\n",
       "2    1,599\n",
       "3    1,698\n",
       "4      555\n",
       "5      855\n",
       "Name: Price, dtype: object"
      ]
     },
     "execution_count": 99,
     "metadata": {},
     "output_type": "execute_result"
    }
   ],
   "source": [
    "items[\"Price\"].head()"
   ]
  },
  {
   "cell_type": "code",
   "execution_count": 100,
   "id": "0a0c93a6-eb33-4a4c-b062-fc7093104c70",
   "metadata": {},
   "outputs": [],
   "source": [
    "items.to_csv(\"Ounje_Inventory.csv\",index=False)"
   ]
  },
  {
   "cell_type": "code",
   "execution_count": null,
   "id": "66d1526a-e76e-4fba-9a8e-1ad866e4b08a",
   "metadata": {},
   "outputs": [],
   "source": []
  }
 ],
 "metadata": {
  "kernelspec": {
   "display_name": "Python 3",
   "language": "python",
   "name": "python3"
  },
  "language_info": {
   "codemirror_mode": {
    "name": "ipython",
    "version": 3
   },
   "file_extension": ".py",
   "mimetype": "text/x-python",
   "name": "python",
   "nbconvert_exporter": "python",
   "pygments_lexer": "ipython3",
   "version": "3.7.3"
  }
 },
 "nbformat": 4,
 "nbformat_minor": 5
}
