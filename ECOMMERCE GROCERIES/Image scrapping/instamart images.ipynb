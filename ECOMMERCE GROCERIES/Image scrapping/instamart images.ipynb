{
 "cells": [
  {
   "cell_type": "code",
   "execution_count": null,
   "id": "5141d68a-ce46-4bbb-aca7-75542cac40d6",
   "metadata": {},
   "outputs": [],
   "source": []
  },
  {
   "cell_type": "code",
   "execution_count": 5,
   "id": "0388de4e-1543-45f5-be02-93a1141946c8",
   "metadata": {},
   "outputs": [],
   "source": [
    "import requests\n",
    "from requests import get\n",
    "#from bs4 import BeautifulSoup\n",
    "import pandas as pd\n",
    "import numpy as np\n",
    "from selenium import webdriver\n",
    "from webdriver_manager.chrome import ChromeDriverManager\n",
    "from selenium.webdriver.common.keys import Keys\n",
    "from selenium.webdriver.chrome.options import Options\n",
    "from selenium.webdriver.support import expected_conditions as EC\n",
    "from selenium.webdriver.support.ui import WebDriverWait\n",
    "from selenium.webdriver.common.by import By\n",
    "from selenium.common.exceptions import TimeoutException\n",
    "from urllib.request import urlopen\n",
    "from selenium.common.exceptions import StaleElementReferenceException"
   ]
  },
  {
   "cell_type": "code",
   "execution_count": 14,
   "id": "fd04b991-d251-47c7-823f-5d0adcdddd4e",
   "metadata": {},
   "outputs": [
    {
     "name": "stderr",
     "output_type": "stream",
     "text": [
      "\n",
      "\n",
      "====== WebDriver manager ======\n",
      "Current google-chrome version is 91.0.4472\n",
      "Get LATEST driver version for 91.0.4472\n",
      "Driver [C:\\Users\\yfird\\.wdm\\drivers\\chromedriver\\win32\\91.0.4472.101\\chromedriver.exe] found in cache\n"
     ]
    }
   ],
   "source": [
    "headers = {\"Accept-Language\": \"en-US, en;q=0.5\"}\n",
    "opts = Options()\n",
    "opts.headless = False\n",
    "driver = webdriver.Chrome(ChromeDriverManager().install(),options=opts)"
   ]
  },
  {
   "cell_type": "code",
   "execution_count": 15,
   "id": "78c0d130-9b88-43c6-b706-425592d124f5",
   "metadata": {},
   "outputs": [
    {
     "name": "stdout",
     "output_type": "stream",
     "text": [
      "Coco yam for soup per portion\n",
      "https://instamartng.co/product_images/5fc0ef4e46aa2.jpg\n",
      "Fresh Yam\n",
      "https://instamartng.co/product_images/5fb6eddf9e6f7.png\n",
      "Ginger root\n",
      "https://instamartng.co/product_images/5fcf7a37cd679.jpg\n",
      "Irish Potatoes (medium portion)\n",
      "https://instamartng.co/product_images/5fca00672c1a0.jpg\n",
      "Irish potatoes (paint bucket)\n",
      "None\n",
      "Plantain Large (fairly Ripe)\n",
      "None\n",
      "Plantain Small (fairly ripe)\n",
      "None\n",
      "Sweet Potatoes\n",
      "None\n",
      "Unripe Plantain Large\n",
      "None\n",
      "Unripe plantain Small\n",
      "None\n"
     ]
    }
   ],
   "source": [
    "#urls=[\"https://instamartng.co/products/tubers-roots\",\"https://instamartng.co/products/noodles-and-pasta\",\"https://instamartng.co/products/packaged-canned-foods\",\"https://instamartng.co/products/spices-soup-and-stew-ingredients\",\n",
    "   #\"https://instamartng.co/products/greek-yoghurt\",\"https://instamartng.co/products/foodstuff\",\"https://instamartng.co/products/fresh-vegetables-leaves\",\"https://instamartng.co/products/fruits\",\n",
    "   #\"https://instamartng.co/products/fish-seafood\",\"https://instamartng.co/products/daily-fresh-produce\",\"https://instamartng.co/products/cooking-oils\",\"https://instamartng.co/products/cereals-biscuits\",\n",
    " #\"https://instamartng.co/products/beverages\"]\n",
    "urls=[\"https://instamartng.co/products/tubers-roots\"]\n",
    "for url in urls:\n",
    "    attempt = 1\n",
    "    max_attempts=3\n",
    "    try:\n",
    "        driver.get(url)\n",
    "        #driver.find_element_by_tag_name('html').send_keys(Keys.END)\n",
    "    except TimeoutException as ex:\n",
    "        print(ex.Message)\n",
    "        driver.navigate().refresh()\n",
    "\n",
    "    driver.execute_script(\"window.scrollTo(0,document.body.scrollHeight)\")#scrolls through page to ensure pge loads before scraping\n",
    "    WebDriverWait(driver,15)\n",
    "    try:  \n",
    "        products= WebDriverWait(driver,40).until(EC.presence_of_all_elements_located((By.CSS_SELECTOR,\"img.lozad\")))\n",
    "        for p in products:\n",
    "            if p is not None:\n",
    "                file_name=p.get_attribute('alt')\n",
    "            else:\n",
    "                file_name=None\n",
    "            print (file_name)\n",
    "            if p is not None:\n",
    "                img_src=p.get_attribute('src')\n",
    "            else:\n",
    "                img_src=None\n",
    "            print(img_src)\n",
    "            #response = requests.get(img_src)\n",
    "            #file = open(f'{file_name}.jpg', \"wb\")\n",
    "            #file.write(response.content)\n",
    "            #file.close()\n",
    "    except StaleElementReferenceException:\n",
    "        if attempt == max_attempts:\n",
    "                raise\n",
    "        attempt += 1\n",
    "\n"
   ]
  },
  {
   "cell_type": "code",
   "execution_count": null,
   "id": "9601bbe4-d678-4852-a296-0e72665c6dd2",
   "metadata": {},
   "outputs": [],
   "source": []
  }
 ],
 "metadata": {
  "kernelspec": {
   "display_name": "Python 3",
   "language": "python",
   "name": "python3"
  },
  "language_info": {
   "codemirror_mode": {
    "name": "ipython",
    "version": 3
   },
   "file_extension": ".py",
   "mimetype": "text/x-python",
   "name": "python",
   "nbconvert_exporter": "python",
   "pygments_lexer": "ipython3",
   "version": "3.7.3"
  }
 },
 "nbformat": 4,
 "nbformat_minor": 5
}
