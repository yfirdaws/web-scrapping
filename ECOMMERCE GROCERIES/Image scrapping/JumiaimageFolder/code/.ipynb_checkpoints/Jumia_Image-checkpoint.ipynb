{
 "cells": [
  {
   "cell_type": "code",
   "execution_count": 57,
   "id": "1d8d59f8-0308-4fbe-aff0-ccfae490877a",
   "metadata": {},
   "outputs": [],
   "source": [
    "import requests\n",
    "from requests import get\n",
    "#from bs4 import BeautifulSoup\n",
    "import pandas as pd\n",
    "import numpy as np\n",
    "from selenium import webdriver\n",
    "from webdriver_manager.chrome import ChromeDriverManager\n",
    "import time \n",
    "from random import randint\n",
    "from selenium.webdriver.common.keys import Keys\n",
    "from selenium.webdriver.chrome.options import Options\n",
    "from selenium.webdriver.support import expected_conditions as EC\n",
    "from selenium.webdriver.support.ui import WebDriverWait\n",
    "from selenium.webdriver.common.by import By\n",
    "from selenium.common.exceptions import TimeoutException\n",
    "import base64\n",
    "from PIL import Image\n",
    "from io import BytesIO"
   ]
  },
  {
   "cell_type": "code",
   "execution_count": null,
   "id": "d1e6766f-fc69-4fd9-adc5-476114b1a5ee",
   "metadata": {},
   "outputs": [],
   "source": []
  },
  {
   "cell_type": "code",
   "execution_count": 50,
   "id": "9f7bde83-23a7-4352-b4e1-7b9b3dcd09c4",
   "metadata": {},
   "outputs": [
    {
     "name": "stderr",
     "output_type": "stream",
     "text": [
      "\n",
      "\n",
      "====== WebDriver manager ======\n",
      "Current google-chrome version is 91.0.4472\n",
      "Get LATEST driver version for 91.0.4472\n",
      "Driver [C:\\Users\\yfird\\.wdm\\drivers\\chromedriver\\win32\\91.0.4472.101\\chromedriver.exe] found in cache\n"
     ]
    }
   ],
   "source": [
    "headers = {\"Accept-Language\": \"en-US, en;q=0.5\"}\n",
    "opts = Options()\n",
    "opts.headless = False\n",
    "driver = webdriver.Chrome(ChromeDriverManager().install(),options=opts)"
   ]
  },
  {
   "cell_type": "code",
   "execution_count": 56,
   "id": "3e133a55-11f4-4691-84be-6f6d25fe3f75",
   "metadata": {},
   "outputs": [
    {
     "name": "stdout",
     "output_type": "stream",
     "text": [
      "Indomie ONION CHICKEN- 70g (1 Carton)\n",
      "data:image/gif;base64,R0lGODlhAQABAIAAAAAAAP///yH5BAEAAAAALAAAAAABAAEAAAIBRAA7\n"
     ]
    },
    {
     "ename": "AttributeError",
     "evalue": "'bytes' object has no attribute 'save'",
     "output_type": "error",
     "traceback": [
      "\u001b[1;31m---------------------------------------------------------------------------\u001b[0m",
      "\u001b[1;31mAttributeError\u001b[0m                            Traceback (most recent call last)",
      "\u001b[1;32m<ipython-input-56-af40a3f2c62b>\u001b[0m in \u001b[0;36m<module>\u001b[1;34m\u001b[0m\n\u001b[0;32m     30\u001b[0m             \u001b[0mdecoded\u001b[0m \u001b[1;33m=\u001b[0m \u001b[0mbase64\u001b[0m\u001b[1;33m.\u001b[0m\u001b[0mdecodebytes\u001b[0m\u001b[1;33m(\u001b[0m\u001b[0mstring\u001b[0m\u001b[1;33m.\u001b[0m\u001b[0mencode\u001b[0m\u001b[1;33m(\u001b[0m\u001b[1;34m\"ascii\"\u001b[0m\u001b[1;33m)\u001b[0m\u001b[1;33m)\u001b[0m\u001b[1;33m\u001b[0m\u001b[1;33m\u001b[0m\u001b[0m\n\u001b[0;32m     31\u001b[0m             \u001b[0mdecoded_string\u001b[0m \u001b[1;33m=\u001b[0m \u001b[0mbase64\u001b[0m\u001b[1;33m.\u001b[0m\u001b[0mb64decode\u001b[0m\u001b[1;33m(\u001b[0m\u001b[0mdecoded\u001b[0m\u001b[1;33m+\u001b[0m\u001b[1;34mb'=='\u001b[0m\u001b[1;33m)\u001b[0m\u001b[1;33m\u001b[0m\u001b[1;33m\u001b[0m\u001b[0m\n\u001b[1;32m---> 32\u001b[1;33m             \u001b[0mdecoded_string\u001b[0m\u001b[1;33m.\u001b[0m\u001b[0msave\u001b[0m\u001b[1;33m(\u001b[0m\u001b[0mfile_name\u001b[0m\u001b[1;33m,\u001b[0m \u001b[1;34m'JPEG'\u001b[0m\u001b[1;33m)\u001b[0m\u001b[1;33m\u001b[0m\u001b[1;33m\u001b[0m\u001b[0m\n\u001b[0m\u001b[0;32m     33\u001b[0m     \u001b[1;32mexcept\u001b[0m \u001b[0mStaleElementReferenceException\u001b[0m\u001b[1;33m:\u001b[0m\u001b[1;33m\u001b[0m\u001b[1;33m\u001b[0m\u001b[0m\n\u001b[0;32m     34\u001b[0m         \u001b[1;32mif\u001b[0m \u001b[0mattempt\u001b[0m \u001b[1;33m==\u001b[0m \u001b[0mmax_attempts\u001b[0m\u001b[1;33m:\u001b[0m\u001b[1;33m\u001b[0m\u001b[1;33m\u001b[0m\u001b[0m\n",
      "\u001b[1;31mAttributeError\u001b[0m: 'bytes' object has no attribute 'save'"
     ]
    }
   ],
   "source": [
    "page=1\n",
    "while page!=51:\n",
    "    url=\"https://www.jumia.com.ng/food-cupboard-supplies/?page={}#catalog-listing\".format(page)\n",
    "    attempt = 1\n",
    "    max_attempts=3\n",
    "    try:\n",
    "        driver.get(url)\n",
    "        #driver.find_element_by_tag_name('html').send_keys(Keys.END)\n",
    "    except TimeoutException as ex:\n",
    "        print(ex.Message)\n",
    "        driver.navigate().refresh()\n",
    "     \n",
    "    driver.execute_script(\"window.scrollTo(0,document.body.scrollHeight)\")#scrolls through page to ensure pge loads before scraping\n",
    "    WebDriverWait(driver,5)\n",
    "    try:  \n",
    "        products= WebDriverWait(driver,30).until(EC.presence_of_all_elements_located((By.CSS_SELECTOR,\"article.prd._fb.col.c-prd\")))\n",
    "        for p in products:\n",
    "            if p is not None:\n",
    "                file_name=p.find_element_by_tag_name('h3').text.replace('/','-').strip()\n",
    "            else:\n",
    "                file_name=None\n",
    "            print (file_name)\n",
    "            if p is not None:\n",
    "                img = p.find_element_by_tag_name(\"img\")\n",
    "                img_src= img.get_attribute(\"src\")\n",
    "            else:\n",
    "                img_src=None\n",
    "            print(img_src)\n",
    "            string = img_src.split('base64,')[1]\n",
    "            decoded = base64.decodebytes(string.encode(\"ascii\"))\n",
    "            im = Image.open(BytesIO(base64.b64decode(decoded)))\n",
    "            im.save(file_name, 'JPEG')\n",
    "    except StaleElementReferenceException:\n",
    "        if attempt == max_attempts:\n",
    "                raise\n",
    "        attempt += 1\n",
    " \n",
    "    #base64_string =img_src # that monster you saw above\n",
    "   # s=('GET ' + img_src + ' HTTP/1.0\\r\\n\\r\\n')\n",
    "    #decoded_string = base64.b64decode(s)\n",
    "   # decoded_string.save('file_name', 'JPEG')\n",
    "    page=page+1    \n",
    "    \n",
    "    "
   ]
  },
  {
   "cell_type": "code",
   "execution_count": null,
   "id": "6acbd5da-4355-425b-92d2-c6ce581d84ea",
   "metadata": {},
   "outputs": [],
   "source": []
  },
  {
   "cell_type": "code",
   "execution_count": null,
   "id": "b21a5067-2745-402d-986c-5a1851d18673",
   "metadata": {},
   "outputs": [],
   "source": []
  }
 ],
 "metadata": {
  "kernelspec": {
   "display_name": "Python 3",
   "language": "python",
   "name": "python3"
  },
  "language_info": {
   "codemirror_mode": {
    "name": "ipython",
    "version": 3
   },
   "file_extension": ".py",
   "mimetype": "text/x-python",
   "name": "python",
   "nbconvert_exporter": "python",
   "pygments_lexer": "ipython3",
   "version": "3.7.3"
  }
 },
 "nbformat": 4,
 "nbformat_minor": 5
}
