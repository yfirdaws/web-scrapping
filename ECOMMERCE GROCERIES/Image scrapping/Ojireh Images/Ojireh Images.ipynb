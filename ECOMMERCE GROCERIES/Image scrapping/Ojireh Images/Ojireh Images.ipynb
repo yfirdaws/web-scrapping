{
 "cells": [
  {
   "cell_type": "code",
   "execution_count": null,
   "id": "49dce793-5566-454e-9893-cce617dec71e",
   "metadata": {},
   "outputs": [],
   "source": []
  },
  {
   "cell_type": "code",
   "execution_count": null,
   "id": "5f8866d3-b211-4195-b6f6-c031c9af7ccf",
   "metadata": {},
   "outputs": [],
   "source": [
    "import requests\n",
    "from requests import get\n",
    "#from bs4 import BeautifulSoup\n",
    "import pandas as pd\n",
    "import numpy as np\n",
    "from selenium import webdriver\n",
    "from webdriver_manager.chrome import ChromeDriverManager\n",
    "from selenium.webdriver.common.keys import Keys\n",
    "from selenium.webdriver.chrome.options import Options\n",
    "from selenium.webdriver.support import expected_conditions as EC\n",
    "from selenium.webdriver.support.ui import WebDriverWait\n",
    "from selenium.webdriver.common.by import By\n",
    "from selenium.common.exceptions import TimeoutException\n",
    "from urllib.request import urlopen\n",
    "from selenium.common.exceptions import StaleElementReferenceException"
   ]
  },
  {
   "cell_type": "code",
   "execution_count": null,
   "id": "85bba254-47fd-41d2-9643-86d51d620fdc",
   "metadata": {},
   "outputs": [],
   "source": [
    "headers = {\"Accept-Language\": \"en-US, en;q=0.5\"}\n",
    "opts = Options()\n",
    "opts.headless = False\n",
    "driver = webdriver.Chrome(ChromeDriverManager().install(),options=opts)"
   ]
  },
  {
   "cell_type": "code",
   "execution_count": null,
   "id": "19efb863-af59-4688-a748-6ea1884d5cdc",
   "metadata": {},
   "outputs": [],
   "source": [
    "page=1\n",
    "while page!=26:\n",
    "    url=f\"https://ojireh.com/shop-now.html?p={page}\"\n",
    "    attempt = 1\n",
    "    max_attempts=3\n",
    "    try:\n",
    "        driver.get(url)\n",
    "        #driver.find_element_by_tag_name('html').send_keys(Keys.END)\n",
    "    except TimeoutException as ex:\n",
    "        print(ex.Message)\n",
    "        driver.navigate().refresh()\n",
    "     \n",
    "    driver.execute_script(\"window.scrollTo(0,document.body.scrollHeight)\")#scrolls through page to ensure pge loads before scraping\n",
    "    WebDriverWait(driver,5)\n",
    "    try:  \n",
    "        products= WebDriverWait(driver,30).until(EC.presence_of_all_elements_located((By.CSS_SELECTOR,\"img.product-image-photo.default_image\")))\n",
    "        for p in products:\n",
    "            if p is not None:\n",
    "                file_name=p.get_attribute('alt').replace('/','-').strip()\n",
    "                #specialChars = '!#\"$:[]$@%^&*()'\n",
    "                #for specialChar in specialChars:\n",
    "                    #file_name=file_name.replace(specialChar, '')\n",
    "            else:\n",
    "                file_name=None\n",
    "            print (file_name)\n",
    "            if p is not None:\n",
    "                #img = p.find_element_by_tag_name(\"img\")\n",
    "                img_src= p.get_attribute(\"src\")\n",
    "            else:\n",
    "                img_src=None\n",
    "            print(img_src)\n",
    "            response = requests.get(img_src)\n",
    "            file = open(f'{file_name}.jpg', \"wb\")\n",
    "            file.write(response.content)\n",
    "            file.close()\n",
    "    except StaleElementReferenceException:\n",
    "        if attempt == max_attempts:\n",
    "                raise\n",
    "        attempt += 1\n",
    "    page=page+1    \n",
    "    \n",
    "    "
   ]
  },
  {
   "cell_type": "code",
   "execution_count": null,
   "id": "701d228b-595f-4520-816c-e9b92c6ec961",
   "metadata": {},
   "outputs": [],
   "source": []
  }
 ],
 "metadata": {
  "kernelspec": {
   "display_name": "Python 3",
   "language": "python",
   "name": "python3"
  },
  "language_info": {
   "codemirror_mode": {
    "name": "ipython",
    "version": 3
   },
   "file_extension": ".py",
   "mimetype": "text/x-python",
   "name": "python",
   "nbconvert_exporter": "python",
   "pygments_lexer": "ipython3",
   "version": "3.7.3"
  }
 },
 "nbformat": 4,
 "nbformat_minor": 5
}
