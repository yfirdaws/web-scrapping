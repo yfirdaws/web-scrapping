{
 "cells": [
  {
   "cell_type": "code",
   "execution_count": null,
   "id": "57a24e24-942a-43ee-8c13-8b5425d8d49c",
   "metadata": {},
   "outputs": [],
   "source": []
  },
  {
   "cell_type": "code",
   "execution_count": 5,
   "id": "0ddffb1d-e7bb-4b7d-a853-c20e8f9c715e",
   "metadata": {},
   "outputs": [],
   "source": [
    "import requests\n",
    "from requests import get\n",
    "#from bs4 import BeautifulSoup\n",
    "import pandas as pd\n",
    "import numpy as np\n",
    "from selenium import webdriver\n",
    "from webdriver_manager.chrome import ChromeDriverManager\n",
    "from selenium.webdriver.common.keys import Keys\n",
    "from selenium.webdriver.chrome.options import Options\n",
    "from selenium.webdriver.support import expected_conditions as EC\n",
    "from selenium.webdriver.support.ui import WebDriverWait\n",
    "from selenium.webdriver.common.by import By\n",
    "from selenium.common.exceptions import TimeoutException\n",
    "from urllib.request import urlopen\n",
    "from selenium.common.exceptions import StaleElementReferenceException"
   ]
  },
  {
   "cell_type": "code",
   "execution_count": 6,
   "id": "6fa97027-004c-40d2-9c66-3db22ebc5177",
   "metadata": {},
   "outputs": [
    {
     "name": "stderr",
     "output_type": "stream",
     "text": [
      "\n",
      "\n",
      "====== WebDriver manager ======\n",
      "Current google-chrome version is 91.0.4472\n",
      "Get LATEST driver version for 91.0.4472\n",
      "Driver [C:\\Users\\yfird\\.wdm\\drivers\\chromedriver\\win32\\91.0.4472.101\\chromedriver.exe] found in cache\n"
     ]
    }
   ],
   "source": [
    "headers = {\"Accept-Language\": \"en-US, en;q=0.5\"}\n",
    "opts = Options()\n",
    "opts.headless = False\n",
    "driver = webdriver.Chrome(ChromeDriverManager().install(),options=opts)"
   ]
  },
  {
   "cell_type": "code",
   "execution_count": null,
   "id": "3ff36167-786d-4002-b32c-de0205652e9d",
   "metadata": {},
   "outputs": [
    {
     "name": "stdout",
     "output_type": "stream",
     "text": [
      "Apple- SmallSize- 20pcs\n",
      "https://mile12mart.com/wp-content/uploads/2020/06/small-apple-600x600.jpg\n",
      "Avocado- 12Pieces\n",
      "https://mile12mart.com/wp-content/uploads/2020/06/AVOCADO-600x600.jpg\n",
      "Coconut 12 pcs\n",
      "https://mile12mart.com/wp-content/uploads/2017/09/coconut-600x600.jpg\n",
      "Grape 25 pcs\n",
      "https://mile12mart.com/wp-content/uploads/2017/09/grape_mile12mart-600x600.jpg\n",
      "Grape 50 pcs\n",
      "https://mile12mart.com/wp-content/uploads/2017/09/grape-600x600.jpg\n",
      "Lemon- 12Pieces\n",
      "https://mile12mart.com/wp-content/uploads/2020/06/LEMON.jpg\n",
      "Lime- 1Paint\n",
      "https://mile12mart.com/wp-content/uploads/2020/06/lime-600x600.jpg\n",
      "Oranges 25pcsa\n",
      "https://mile12mart.com/wp-content/uploads/2017/09/orange_mile12mart-600x600.jpg\n",
      "Oranges 50pcs\n",
      "https://mile12mart.com/wp-content/uploads/2017/09/orange-600x600.jpg\n",
      "Pineapple 12pcs\n",
      "https://mile12mart.com/wp-content/uploads/2017/09/pineapple-600x600.jpg\n",
      "Red Apple- SmallSize- 20Pcs\n",
      "https://mile12mart.com/wp-content/uploads/2020/06/red-apple-600x600.jpg\n",
      "Red seedless grapes 1pc\n",
      "https://mile12mart.com/wp-content/uploads/2019/12/MILE203-600x600.jpg\n",
      "Beef\n",
      "https://mile12mart.com/wp-content/uploads/2021/04/mile12mart-beef-600x600.jpg\n",
      "Beef - 1KG\n",
      "https://mile12mart.com/wp-content/uploads/2020/06/Beef-loin-600x600.jpg\n",
      "Beef Brisket Bone – 1KG\n",
      "https://mile12mart.com/wp-content/uploads/2021/04/mile12mart-beef-brisket-bone-600x600.jpg\n",
      "Beef tozo – 1KG\n",
      "https://mile12mart.com/wp-content/uploads/2021/04/mile12mart-beef-brisket-bone-600x600.jpg\n",
      "Cow Heart- Okan\n",
      "https://mile12mart.com/wp-content/uploads/2021/04/milt12mart-cow-heart-600x600.jpg\n",
      "Cow Leg-Bokoto\n",
      "https://mile12mart.com/wp-content/uploads/2021/04/mile12mart-cow-leg-bokoto-600x600.jpg\n",
      "Cow Liver- edo\n",
      "https://mile12mart.com/wp-content/uploads/2021/04/mile12mart_cow_kidney_edo-600x600.jpg\n",
      "Cow Lungs\n",
      "https://mile12mart.com/wp-content/uploads/2021/04/mile12mart-cow-lungs-600x600.jpg\n",
      "Cow Skin- Pomo\n",
      "https://mile12mart.com/wp-content/uploads/2021/04/mile12mart-pomo-cow-skin-600x600.jpg\n",
      "Cow Tail\n",
      "https://mile12mart.com/wp-content/uploads/2021/04/mile12mart-cowtail-600x600.jpg\n",
      "Cow Tongue\n",
      "https://mile12mart.com/wp-content/uploads/2021/04/mile12mart-cow-tongue-600x600.png\n"
     ]
    }
   ],
   "source": [
    "page=1\n",
    "while page!=3:\n",
    "    urls=[\"https://mile12mart.com/product-category/fruits/\",\"https://mile12mart.com/product-category/meat/\",\"https://mile12mart.com/product-category/pepper/\",\"https://mile12mart.com/product-category/tubers/\",\"https://mile12mart.com/product-category/vegetables/\",\"https://mile12mart.com/product-category/grains/\"]\n",
    "    for url in urls:\n",
    "        attempt = 1\n",
    "        max_attempts=3\n",
    "        try:\n",
    "            driver.get(url)\n",
    "            #driver.find_element_by_tag_name('html').send_keys(Keys.END)\n",
    "        except TimeoutException as ex:\n",
    "            print(ex.Message)\n",
    "            driver.navigate().refresh()\n",
    "\n",
    "        driver.execute_script(\"window.scrollTo(0,document.body.scrollHeight)\")#scrolls through page to ensure pge loads before scraping\n",
    "        WebDriverWait(driver,5)\n",
    "        try:  \n",
    "            products= WebDriverWait(driver,20).until(EC.presence_of_all_elements_located((By.CSS_SELECTOR,\"div.iq-woo-product-inner\")))\n",
    "            for p in products:\n",
    "                if p is not None:\n",
    "                    file_name=p.find_element_by_tag_name('h5').text.replace('/','-').strip()\n",
    "                else:\n",
    "                    file_name=None\n",
    "                print (file_name)\n",
    "                if p is not None:\n",
    "                    #img = p.find_element_by_tag_name(\"img\")\n",
    "                    img= p.find_element_by_tag_name(\"img\")\n",
    "                    img_src=img.get_attribute('src')\n",
    "                else:\n",
    "                    img_src=None\n",
    "                print(img_src)\n",
    "                response = requests.get(img_src)\n",
    "                file = open(f'{file_name}.jpg', \"wb\")\n",
    "                file.write(response.content)\n",
    "                file.close()\n",
    "        except StaleElementReferenceException:\n",
    "            if attempt == max_attempts:\n",
    "                    raise\n",
    "            attempt += 1\n",
    "        page=page+1    \n",
    "\n"
   ]
  },
  {
   "cell_type": "code",
   "execution_count": null,
   "id": "c027ebbb-dfde-4154-b945-fb763d27c234",
   "metadata": {},
   "outputs": [],
   "source": []
  }
 ],
 "metadata": {
  "kernelspec": {
   "display_name": "Python 3",
   "language": "python",
   "name": "python3"
  },
  "language_info": {
   "codemirror_mode": {
    "name": "ipython",
    "version": 3
   },
   "file_extension": ".py",
   "mimetype": "text/x-python",
   "name": "python",
   "nbconvert_exporter": "python",
   "pygments_lexer": "ipython3",
   "version": "3.7.3"
  }
 },
 "nbformat": 4,
 "nbformat_minor": 5
}
