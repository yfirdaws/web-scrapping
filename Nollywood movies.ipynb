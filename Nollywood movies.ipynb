{
 "cells": [
  {
   "cell_type": "code",
   "execution_count": 37,
   "id": "56d9d4db-5ded-4386-9bf6-377b67f2b7b2",
   "metadata": {},
   "outputs": [],
   "source": [
    "import requests as r\n",
    "from bs4 import BeautifulSoup\n",
    "import pandas as pd\n",
    "import csv\n",
    "from time import sleep\n",
    "from random import randint\n",
    "import numpy as np\n",
    "from selenium import webdriver\n",
    "from webdriver_manager.chrome import ChromeDriverManager"
   ]
  },
  {
   "cell_type": "code",
   "execution_count": 57,
   "id": "b139cdcd-0e72-4ec0-ab13-3ff65d7135ea",
   "metadata": {},
   "outputs": [],
   "source": [
    "headers = dict()\n",
    "headers[\n",
    "    \"User-Agent\"\n",
    "] = \"Mozilla/5.0 (Windows NT 10.0; Win64; x64) AppleWebKit/537.36 (KHTML, like Gecko) Chrome/74.0.3729.169 Safari/537.36\"\n"
   ]
  },
  {
   "cell_type": "code",
   "execution_count": 58,
   "id": "a5d0a3ab-dca9-4fb9-9ac5-5405d2e0e736",
   "metadata": {},
   "outputs": [
    {
     "name": "stderr",
     "output_type": "stream",
     "text": [
      "\n",
      "\n",
      "====== WebDriver manager ======\n",
      "Current google-chrome version is 91.0.4472\n",
      "Get LATEST driver version for 91.0.4472\n",
      "Driver [C:\\Users\\yfird\\.wdm\\drivers\\chromedriver\\win32\\91.0.4472.101\\chromedriver.exe] found in cache\n"
     ]
    }
   ],
   "source": [
    "driver = webdriver.Chrome(ChromeDriverManager().install())"
   ]
  },
  {
   "cell_type": "code",
   "execution_count": 59,
   "id": "15f59ad5-8ca9-43f4-92bc-a25ac248fbc1",
   "metadata": {},
   "outputs": [],
   "source": [
    "years=np.arange(1992,2015)\n",
    "titles = []\n",
    "Director = []\n",
    "Cast = []\n",
    "Genre = []\n",
    "#Info = []\n",
    "#Link=[]\n"
   ]
  },
  {
   "cell_type": "code",
   "execution_count": 61,
   "id": "55378e03-a733-4ec0-9ac0-01aab082198a",
   "metadata": {
    "tags": []
   },
   "outputs": [
    {
     "name": "stdout",
     "output_type": "stream",
     "text": [
      "1992\n",
      "1993\n",
      "1994\n",
      "1995\n",
      "1996\n",
      "1997\n",
      "1998\n",
      "1999\n",
      "2000\n",
      "2001\n",
      "2002\n",
      "2003\n",
      "2004\n",
      "2005\n",
      "2006\n",
      "2007\n",
      "2008\n",
      "2009\n",
      "2010\n",
      "2011\n",
      "2012\n",
      "2013\n",
      "2014\n"
     ]
    },
    {
     "ename": "ValueError",
     "evalue": "arrays must all be same length",
     "output_type": "error",
     "traceback": [
      "\u001b[1;31m---------------------------------------------------------------------------\u001b[0m",
      "\u001b[1;31mValueError\u001b[0m                                Traceback (most recent call last)",
      "\u001b[1;32m<ipython-input-61-60abfd8d2bab>\u001b[0m in \u001b[0;36m<module>\u001b[1;34m\u001b[0m\n\u001b[0;32m     32\u001b[0m     \u001b[1;34m\"Cast\"\u001b[0m\u001b[1;33m:\u001b[0m \u001b[0mCast\u001b[0m\u001b[1;33m,\u001b[0m\u001b[1;33m\u001b[0m\u001b[1;33m\u001b[0m\u001b[0m\n\u001b[0;32m     33\u001b[0m     \u001b[1;34m\"Genre\"\u001b[0m\u001b[1;33m:\u001b[0m \u001b[0mGenre\u001b[0m\u001b[1;33m,\u001b[0m\u001b[1;33m\u001b[0m\u001b[1;33m\u001b[0m\u001b[0m\n\u001b[1;32m---> 34\u001b[1;33m     \u001b[1;34m\"Info\"\u001b[0m\u001b[1;33m:\u001b[0m \u001b[0mInfo\u001b[0m\u001b[1;33m\u001b[0m\u001b[1;33m\u001b[0m\u001b[0m\n\u001b[0m\u001b[0;32m     35\u001b[0m })           \n\u001b[0;32m     36\u001b[0m \u001b[1;33m\u001b[0m\u001b[0m\n",
      "\u001b[1;32m~\\Anaconda3\\lib\\site-packages\\pandas\\core\\frame.py\u001b[0m in \u001b[0;36m__init__\u001b[1;34m(self, data, index, columns, dtype, copy)\u001b[0m\n\u001b[0;32m    527\u001b[0m \u001b[1;33m\u001b[0m\u001b[0m\n\u001b[0;32m    528\u001b[0m         \u001b[1;32melif\u001b[0m \u001b[0misinstance\u001b[0m\u001b[1;33m(\u001b[0m\u001b[0mdata\u001b[0m\u001b[1;33m,\u001b[0m \u001b[0mdict\u001b[0m\u001b[1;33m)\u001b[0m\u001b[1;33m:\u001b[0m\u001b[1;33m\u001b[0m\u001b[1;33m\u001b[0m\u001b[0m\n\u001b[1;32m--> 529\u001b[1;33m             \u001b[0mmgr\u001b[0m \u001b[1;33m=\u001b[0m \u001b[0minit_dict\u001b[0m\u001b[1;33m(\u001b[0m\u001b[0mdata\u001b[0m\u001b[1;33m,\u001b[0m \u001b[0mindex\u001b[0m\u001b[1;33m,\u001b[0m \u001b[0mcolumns\u001b[0m\u001b[1;33m,\u001b[0m \u001b[0mdtype\u001b[0m\u001b[1;33m=\u001b[0m\u001b[0mdtype\u001b[0m\u001b[1;33m)\u001b[0m\u001b[1;33m\u001b[0m\u001b[1;33m\u001b[0m\u001b[0m\n\u001b[0m\u001b[0;32m    530\u001b[0m         \u001b[1;32melif\u001b[0m \u001b[0misinstance\u001b[0m\u001b[1;33m(\u001b[0m\u001b[0mdata\u001b[0m\u001b[1;33m,\u001b[0m \u001b[0mma\u001b[0m\u001b[1;33m.\u001b[0m\u001b[0mMaskedArray\u001b[0m\u001b[1;33m)\u001b[0m\u001b[1;33m:\u001b[0m\u001b[1;33m\u001b[0m\u001b[1;33m\u001b[0m\u001b[0m\n\u001b[0;32m    531\u001b[0m             \u001b[1;32mimport\u001b[0m \u001b[0mnumpy\u001b[0m\u001b[1;33m.\u001b[0m\u001b[0mma\u001b[0m\u001b[1;33m.\u001b[0m\u001b[0mmrecords\u001b[0m \u001b[1;32mas\u001b[0m \u001b[0mmrecords\u001b[0m\u001b[1;33m\u001b[0m\u001b[1;33m\u001b[0m\u001b[0m\n",
      "\u001b[1;32m~\\Anaconda3\\lib\\site-packages\\pandas\\core\\internals\\construction.py\u001b[0m in \u001b[0;36minit_dict\u001b[1;34m(data, index, columns, dtype)\u001b[0m\n\u001b[0;32m    285\u001b[0m             \u001b[0marr\u001b[0m \u001b[1;32mif\u001b[0m \u001b[1;32mnot\u001b[0m \u001b[0mis_datetime64tz_dtype\u001b[0m\u001b[1;33m(\u001b[0m\u001b[0marr\u001b[0m\u001b[1;33m)\u001b[0m \u001b[1;32melse\u001b[0m \u001b[0marr\u001b[0m\u001b[1;33m.\u001b[0m\u001b[0mcopy\u001b[0m\u001b[1;33m(\u001b[0m\u001b[1;33m)\u001b[0m \u001b[1;32mfor\u001b[0m \u001b[0marr\u001b[0m \u001b[1;32min\u001b[0m \u001b[0marrays\u001b[0m\u001b[1;33m\u001b[0m\u001b[1;33m\u001b[0m\u001b[0m\n\u001b[0;32m    286\u001b[0m         ]\n\u001b[1;32m--> 287\u001b[1;33m     \u001b[1;32mreturn\u001b[0m \u001b[0marrays_to_mgr\u001b[0m\u001b[1;33m(\u001b[0m\u001b[0marrays\u001b[0m\u001b[1;33m,\u001b[0m \u001b[0mdata_names\u001b[0m\u001b[1;33m,\u001b[0m \u001b[0mindex\u001b[0m\u001b[1;33m,\u001b[0m \u001b[0mcolumns\u001b[0m\u001b[1;33m,\u001b[0m \u001b[0mdtype\u001b[0m\u001b[1;33m=\u001b[0m\u001b[0mdtype\u001b[0m\u001b[1;33m)\u001b[0m\u001b[1;33m\u001b[0m\u001b[1;33m\u001b[0m\u001b[0m\n\u001b[0m\u001b[0;32m    288\u001b[0m \u001b[1;33m\u001b[0m\u001b[0m\n\u001b[0;32m    289\u001b[0m \u001b[1;33m\u001b[0m\u001b[0m\n",
      "\u001b[1;32m~\\Anaconda3\\lib\\site-packages\\pandas\\core\\internals\\construction.py\u001b[0m in \u001b[0;36marrays_to_mgr\u001b[1;34m(arrays, arr_names, index, columns, dtype, verify_integrity)\u001b[0m\n\u001b[0;32m     78\u001b[0m         \u001b[1;31m# figure out the index, if necessary\u001b[0m\u001b[1;33m\u001b[0m\u001b[1;33m\u001b[0m\u001b[1;33m\u001b[0m\u001b[0m\n\u001b[0;32m     79\u001b[0m         \u001b[1;32mif\u001b[0m \u001b[0mindex\u001b[0m \u001b[1;32mis\u001b[0m \u001b[1;32mNone\u001b[0m\u001b[1;33m:\u001b[0m\u001b[1;33m\u001b[0m\u001b[1;33m\u001b[0m\u001b[0m\n\u001b[1;32m---> 80\u001b[1;33m             \u001b[0mindex\u001b[0m \u001b[1;33m=\u001b[0m \u001b[0mextract_index\u001b[0m\u001b[1;33m(\u001b[0m\u001b[0marrays\u001b[0m\u001b[1;33m)\u001b[0m\u001b[1;33m\u001b[0m\u001b[1;33m\u001b[0m\u001b[0m\n\u001b[0m\u001b[0;32m     81\u001b[0m         \u001b[1;32melse\u001b[0m\u001b[1;33m:\u001b[0m\u001b[1;33m\u001b[0m\u001b[1;33m\u001b[0m\u001b[0m\n\u001b[0;32m     82\u001b[0m             \u001b[0mindex\u001b[0m \u001b[1;33m=\u001b[0m \u001b[0mensure_index\u001b[0m\u001b[1;33m(\u001b[0m\u001b[0mindex\u001b[0m\u001b[1;33m)\u001b[0m\u001b[1;33m\u001b[0m\u001b[1;33m\u001b[0m\u001b[0m\n",
      "\u001b[1;32m~\\Anaconda3\\lib\\site-packages\\pandas\\core\\internals\\construction.py\u001b[0m in \u001b[0;36mextract_index\u001b[1;34m(data)\u001b[0m\n\u001b[0;32m    399\u001b[0m             \u001b[0mlengths\u001b[0m \u001b[1;33m=\u001b[0m \u001b[0mlist\u001b[0m\u001b[1;33m(\u001b[0m\u001b[0mset\u001b[0m\u001b[1;33m(\u001b[0m\u001b[0mraw_lengths\u001b[0m\u001b[1;33m)\u001b[0m\u001b[1;33m)\u001b[0m\u001b[1;33m\u001b[0m\u001b[1;33m\u001b[0m\u001b[0m\n\u001b[0;32m    400\u001b[0m             \u001b[1;32mif\u001b[0m \u001b[0mlen\u001b[0m\u001b[1;33m(\u001b[0m\u001b[0mlengths\u001b[0m\u001b[1;33m)\u001b[0m \u001b[1;33m>\u001b[0m \u001b[1;36m1\u001b[0m\u001b[1;33m:\u001b[0m\u001b[1;33m\u001b[0m\u001b[1;33m\u001b[0m\u001b[0m\n\u001b[1;32m--> 401\u001b[1;33m                 \u001b[1;32mraise\u001b[0m \u001b[0mValueError\u001b[0m\u001b[1;33m(\u001b[0m\u001b[1;34m\"arrays must all be same length\"\u001b[0m\u001b[1;33m)\u001b[0m\u001b[1;33m\u001b[0m\u001b[1;33m\u001b[0m\u001b[0m\n\u001b[0m\u001b[0;32m    402\u001b[0m \u001b[1;33m\u001b[0m\u001b[0m\n\u001b[0;32m    403\u001b[0m             \u001b[1;32mif\u001b[0m \u001b[0mhave_dicts\u001b[0m\u001b[1;33m:\u001b[0m\u001b[1;33m\u001b[0m\u001b[1;33m\u001b[0m\u001b[0m\n",
      "\u001b[1;31mValueError\u001b[0m: arrays must all be same length"
     ]
    }
   ],
   "source": [
    "for y in years:\n",
    "    url=\"https://en.wikipedia.org/wiki/List_of_Nigerian_films_of_{}\".format(y)\n",
    "    #driver.maximize_window()\n",
    "    driver.get(url)\n",
    "    wiki_page_request= driver.page_source\n",
    "    soup = BeautifulSoup(wiki_page_request, 'lxml')\n",
    "    tables = soup.find_all(\"table\",class_='wikitable')\n",
    "    sleep(randint(2, 10))\n",
    "    print(y)\n",
    "    \n",
    "\n",
    "    for row in tables[0].tbody.find_all(\"tr\"):\n",
    "        cell=row.find_all('td')\n",
    "        if len(cell)==5:\n",
    "            titles.append(cell[0].text.strip())\n",
    "            #print (titles)\n",
    "            Director.append(cell[1].text.strip())\n",
    "            #print (Director)\n",
    "            Cast.append(cell[2].text.strip())\n",
    "             #print (Cast)\n",
    "            Genre.append(cell[3].text.strip())\n",
    "            #print Genre\n",
    "            Info.append(cell[4].text.strip())\n",
    "            #print info\n",
    "          \n",
    "    #Link.append(url)\n",
    "        \n",
    "movies=pd.DataFrame({\n",
    "    \n",
    "    \"Movie\": titles,\n",
    "    \"Director\": Director,\n",
    "    \"Cast\": Cast,\n",
    "    \"Genre\": Genre,\n",
    "    \"Info\": Info\n",
    "})           \n",
    "\n",
    "\n"
   ]
  },
  {
   "cell_type": "code",
   "execution_count": 55,
   "id": "0b301019-08d3-4ad4-b0fc-d468cf75844f",
   "metadata": {},
   "outputs": [],
   "source": [
    "\n",
    "         #\"Link\":Link})\n",
    "#print (movies.head())"
   ]
  },
  {
   "cell_type": "code",
   "execution_count": 35,
   "id": "0cf8a278-09b9-4f26-832e-2a12b7b1bdd6",
   "metadata": {},
   "outputs": [
    {
     "name": "stdout",
     "output_type": "stream",
     "text": [
      "Empty DataFrame\n",
      "Columns: [titles, Director, Cast, Genre, Info, Link]\n",
      "Index: []\n"
     ]
    }
   ],
   "source": [
    " print (movies.head())"
   ]
  },
  {
   "cell_type": "code",
   "execution_count": 306,
   "id": "777ff102-06ae-47df-9457-3a8a968245bd",
   "metadata": {
    "collapsed": true,
    "jupyter": {
     "outputs_hidden": true
    },
    "tags": []
   },
   "outputs": [
    {
     "name": "stdout",
     "output_type": "stream",
     "text": [
      "['https://en.wikipedia.org/wiki/List_of_Nigerian_films_of_1992', 'https://en.wikipedia.org/wiki/List_of_Nigerian_films_of_1992', 'https://en.wikipedia.org/wiki/List_of_Nigerian_films_of_1992', 'https://en.wikipedia.org/wiki/List_of_Nigerian_films_of_1992', 'https://en.wikipedia.org/wiki/List_of_Nigerian_films_of_1993', 'https://en.wikipedia.org/wiki/List_of_Nigerian_films_of_1993', 'https://en.wikipedia.org/wiki/List_of_Nigerian_films_of_1993', 'https://en.wikipedia.org/wiki/List_of_Nigerian_films_of_1993', 'https://en.wikipedia.org/wiki/List_of_Nigerian_films_of_1993', 'https://en.wikipedia.org/wiki/List_of_Nigerian_films_of_1993', 'https://en.wikipedia.org/wiki/List_of_Nigerian_films_of_1993', 'https://en.wikipedia.org/wiki/List_of_Nigerian_films_of_1993', 'https://en.wikipedia.org/wiki/List_of_Nigerian_films_of_1994', 'https://en.wikipedia.org/wiki/List_of_Nigerian_films_of_1994', 'https://en.wikipedia.org/wiki/List_of_Nigerian_films_of_1994', 'https://en.wikipedia.org/wiki/List_of_Nigerian_films_of_1994', 'https://en.wikipedia.org/wiki/List_of_Nigerian_films_of_1994', 'https://en.wikipedia.org/wiki/List_of_Nigerian_films_of_1995', 'https://en.wikipedia.org/wiki/List_of_Nigerian_films_of_1995', 'https://en.wikipedia.org/wiki/List_of_Nigerian_films_of_1995', 'https://en.wikipedia.org/wiki/List_of_Nigerian_films_of_1995', 'https://en.wikipedia.org/wiki/List_of_Nigerian_films_of_1995', 'https://en.wikipedia.org/wiki/List_of_Nigerian_films_of_1995', 'https://en.wikipedia.org/wiki/List_of_Nigerian_films_of_1995', 'https://en.wikipedia.org/wiki/List_of_Nigerian_films_of_1995', 'https://en.wikipedia.org/wiki/List_of_Nigerian_films_of_1995', 'https://en.wikipedia.org/wiki/List_of_Nigerian_films_of_1996', 'https://en.wikipedia.org/wiki/List_of_Nigerian_films_of_1996', 'https://en.wikipedia.org/wiki/List_of_Nigerian_films_of_1996', 'https://en.wikipedia.org/wiki/List_of_Nigerian_films_of_1996', 'https://en.wikipedia.org/wiki/List_of_Nigerian_films_of_1996', 'https://en.wikipedia.org/wiki/List_of_Nigerian_films_of_1996', 'https://en.wikipedia.org/wiki/List_of_Nigerian_films_of_1996', 'https://en.wikipedia.org/wiki/List_of_Nigerian_films_of_1996', 'https://en.wikipedia.org/wiki/List_of_Nigerian_films_of_1996', 'https://en.wikipedia.org/wiki/List_of_Nigerian_films_of_1996', 'https://en.wikipedia.org/wiki/List_of_Nigerian_films_of_1996', 'https://en.wikipedia.org/wiki/List_of_Nigerian_films_of_1996', 'https://en.wikipedia.org/wiki/List_of_Nigerian_films_of_1996', 'https://en.wikipedia.org/wiki/List_of_Nigerian_films_of_1997', 'https://en.wikipedia.org/wiki/List_of_Nigerian_films_of_1997', 'https://en.wikipedia.org/wiki/List_of_Nigerian_films_of_1997', 'https://en.wikipedia.org/wiki/List_of_Nigerian_films_of_1997', 'https://en.wikipedia.org/wiki/List_of_Nigerian_films_of_1997', 'https://en.wikipedia.org/wiki/List_of_Nigerian_films_of_1997', 'https://en.wikipedia.org/wiki/List_of_Nigerian_films_of_1997', 'https://en.wikipedia.org/wiki/List_of_Nigerian_films_of_1997', 'https://en.wikipedia.org/wiki/List_of_Nigerian_films_of_1997', 'https://en.wikipedia.org/wiki/List_of_Nigerian_films_of_1997', 'https://en.wikipedia.org/wiki/List_of_Nigerian_films_of_1997', 'https://en.wikipedia.org/wiki/List_of_Nigerian_films_of_1997', 'https://en.wikipedia.org/wiki/List_of_Nigerian_films_of_1997', 'https://en.wikipedia.org/wiki/List_of_Nigerian_films_of_1998', 'https://en.wikipedia.org/wiki/List_of_Nigerian_films_of_1998', 'https://en.wikipedia.org/wiki/List_of_Nigerian_films_of_1998', 'https://en.wikipedia.org/wiki/List_of_Nigerian_films_of_1998', 'https://en.wikipedia.org/wiki/List_of_Nigerian_films_of_1998', 'https://en.wikipedia.org/wiki/List_of_Nigerian_films_of_1998', 'https://en.wikipedia.org/wiki/List_of_Nigerian_films_of_1998', 'https://en.wikipedia.org/wiki/List_of_Nigerian_films_of_1998', 'https://en.wikipedia.org/wiki/List_of_Nigerian_films_of_1998', 'https://en.wikipedia.org/wiki/List_of_Nigerian_films_of_1998', 'https://en.wikipedia.org/wiki/List_of_Nigerian_films_of_1999', 'https://en.wikipedia.org/wiki/List_of_Nigerian_films_of_1999', 'https://en.wikipedia.org/wiki/List_of_Nigerian_films_of_1999', 'https://en.wikipedia.org/wiki/List_of_Nigerian_films_of_1999', 'https://en.wikipedia.org/wiki/List_of_Nigerian_films_of_1999', 'https://en.wikipedia.org/wiki/List_of_Nigerian_films_of_1999', 'https://en.wikipedia.org/wiki/List_of_Nigerian_films_of_1999', 'https://en.wikipedia.org/wiki/List_of_Nigerian_films_of_2000', 'https://en.wikipedia.org/wiki/List_of_Nigerian_films_of_2000', 'https://en.wikipedia.org/wiki/List_of_Nigerian_films_of_2000', 'https://en.wikipedia.org/wiki/List_of_Nigerian_films_of_2000', 'https://en.wikipedia.org/wiki/List_of_Nigerian_films_of_2000', 'https://en.wikipedia.org/wiki/List_of_Nigerian_films_of_2001', 'https://en.wikipedia.org/wiki/List_of_Nigerian_films_of_2001', 'https://en.wikipedia.org/wiki/List_of_Nigerian_films_of_2001', 'https://en.wikipedia.org/wiki/List_of_Nigerian_films_of_2001', 'https://en.wikipedia.org/wiki/List_of_Nigerian_films_of_2002', 'https://en.wikipedia.org/wiki/List_of_Nigerian_films_of_2002', 'https://en.wikipedia.org/wiki/List_of_Nigerian_films_of_2002', 'https://en.wikipedia.org/wiki/List_of_Nigerian_films_of_2002', 'https://en.wikipedia.org/wiki/List_of_Nigerian_films_of_2003', 'https://en.wikipedia.org/wiki/List_of_Nigerian_films_of_2003', 'https://en.wikipedia.org/wiki/List_of_Nigerian_films_of_2003', 'https://en.wikipedia.org/wiki/List_of_Nigerian_films_of_2003', 'https://en.wikipedia.org/wiki/List_of_Nigerian_films_of_2003', 'https://en.wikipedia.org/wiki/List_of_Nigerian_films_of_2003', 'https://en.wikipedia.org/wiki/List_of_Nigerian_films_of_2003', 'https://en.wikipedia.org/wiki/List_of_Nigerian_films_of_2003', 'https://en.wikipedia.org/wiki/List_of_Nigerian_films_of_2003', 'https://en.wikipedia.org/wiki/List_of_Nigerian_films_of_2004', 'https://en.wikipedia.org/wiki/List_of_Nigerian_films_of_2004', 'https://en.wikipedia.org/wiki/List_of_Nigerian_films_of_2004', 'https://en.wikipedia.org/wiki/List_of_Nigerian_films_of_2004', 'https://en.wikipedia.org/wiki/List_of_Nigerian_films_of_2004', 'https://en.wikipedia.org/wiki/List_of_Nigerian_films_of_2004', 'https://en.wikipedia.org/wiki/List_of_Nigerian_films_of_2004', 'https://en.wikipedia.org/wiki/List_of_Nigerian_films_of_2005', 'https://en.wikipedia.org/wiki/List_of_Nigerian_films_of_2005', 'https://en.wikipedia.org/wiki/List_of_Nigerian_films_of_2005', 'https://en.wikipedia.org/wiki/List_of_Nigerian_films_of_2006', 'https://en.wikipedia.org/wiki/List_of_Nigerian_films_of_2006', 'https://en.wikipedia.org/wiki/List_of_Nigerian_films_of_2006', 'https://en.wikipedia.org/wiki/List_of_Nigerian_films_of_2006', 'https://en.wikipedia.org/wiki/List_of_Nigerian_films_of_2006', 'https://en.wikipedia.org/wiki/List_of_Nigerian_films_of_2006', 'https://en.wikipedia.org/wiki/List_of_Nigerian_films_of_2006', 'https://en.wikipedia.org/wiki/List_of_Nigerian_films_of_2006', 'https://en.wikipedia.org/wiki/List_of_Nigerian_films_of_2006', 'https://en.wikipedia.org/wiki/List_of_Nigerian_films_of_2007', 'https://en.wikipedia.org/wiki/List_of_Nigerian_films_of_2007', 'https://en.wikipedia.org/wiki/List_of_Nigerian_films_of_2007', 'https://en.wikipedia.org/wiki/List_of_Nigerian_films_of_2007', 'https://en.wikipedia.org/wiki/List_of_Nigerian_films_of_2007', 'https://en.wikipedia.org/wiki/List_of_Nigerian_films_of_2007', 'https://en.wikipedia.org/wiki/List_of_Nigerian_films_of_2007', 'https://en.wikipedia.org/wiki/List_of_Nigerian_films_of_2007', 'https://en.wikipedia.org/wiki/List_of_Nigerian_films_of_2007', 'https://en.wikipedia.org/wiki/List_of_Nigerian_films_of_2008', 'https://en.wikipedia.org/wiki/List_of_Nigerian_films_of_2008', 'https://en.wikipedia.org/wiki/List_of_Nigerian_films_of_2008', 'https://en.wikipedia.org/wiki/List_of_Nigerian_films_of_2008', 'https://en.wikipedia.org/wiki/List_of_Nigerian_films_of_2008', 'https://en.wikipedia.org/wiki/List_of_Nigerian_films_of_2009', 'https://en.wikipedia.org/wiki/List_of_Nigerian_films_of_2009', 'https://en.wikipedia.org/wiki/List_of_Nigerian_films_of_2009', 'https://en.wikipedia.org/wiki/List_of_Nigerian_films_of_2009', 'https://en.wikipedia.org/wiki/List_of_Nigerian_films_of_2009', 'https://en.wikipedia.org/wiki/List_of_Nigerian_films_of_2009', 'https://en.wikipedia.org/wiki/List_of_Nigerian_films_of_2010', 'https://en.wikipedia.org/wiki/List_of_Nigerian_films_of_2010', 'https://en.wikipedia.org/wiki/List_of_Nigerian_films_of_2010', 'https://en.wikipedia.org/wiki/List_of_Nigerian_films_of_2010', 'https://en.wikipedia.org/wiki/List_of_Nigerian_films_of_2010', 'https://en.wikipedia.org/wiki/List_of_Nigerian_films_of_2010', 'https://en.wikipedia.org/wiki/List_of_Nigerian_films_of_2010', 'https://en.wikipedia.org/wiki/List_of_Nigerian_films_of_2010', 'https://en.wikipedia.org/wiki/List_of_Nigerian_films_of_2010', 'https://en.wikipedia.org/wiki/List_of_Nigerian_films_of_2010', 'https://en.wikipedia.org/wiki/List_of_Nigerian_films_of_2010', 'https://en.wikipedia.org/wiki/List_of_Nigerian_films_of_2010', 'https://en.wikipedia.org/wiki/List_of_Nigerian_films_of_2010', 'https://en.wikipedia.org/wiki/List_of_Nigerian_films_of_2011', 'https://en.wikipedia.org/wiki/List_of_Nigerian_films_of_2011', 'https://en.wikipedia.org/wiki/List_of_Nigerian_films_of_2011', 'https://en.wikipedia.org/wiki/List_of_Nigerian_films_of_2011', 'https://en.wikipedia.org/wiki/List_of_Nigerian_films_of_2011', 'https://en.wikipedia.org/wiki/List_of_Nigerian_films_of_2012', 'https://en.wikipedia.org/wiki/List_of_Nigerian_films_of_2012', 'https://en.wikipedia.org/wiki/List_of_Nigerian_films_of_2012', 'https://en.wikipedia.org/wiki/List_of_Nigerian_films_of_2012', 'https://en.wikipedia.org/wiki/List_of_Nigerian_films_of_2012', 'https://en.wikipedia.org/wiki/List_of_Nigerian_films_of_2012', 'https://en.wikipedia.org/wiki/List_of_Nigerian_films_of_2012', 'https://en.wikipedia.org/wiki/List_of_Nigerian_films_of_2012', 'https://en.wikipedia.org/wiki/List_of_Nigerian_films_of_2012', 'https://en.wikipedia.org/wiki/List_of_Nigerian_films_of_2012', 'https://en.wikipedia.org/wiki/List_of_Nigerian_films_of_2012', 'https://en.wikipedia.org/wiki/List_of_Nigerian_films_of_2012', 'https://en.wikipedia.org/wiki/List_of_Nigerian_films_of_2013', 'https://en.wikipedia.org/wiki/List_of_Nigerian_films_of_2013', 'https://en.wikipedia.org/wiki/List_of_Nigerian_films_of_2013', 'https://en.wikipedia.org/wiki/List_of_Nigerian_films_of_2013', 'https://en.wikipedia.org/wiki/List_of_Nigerian_films_of_2013', 'https://en.wikipedia.org/wiki/List_of_Nigerian_films_of_2013', 'https://en.wikipedia.org/wiki/List_of_Nigerian_films_of_2013', 'https://en.wikipedia.org/wiki/List_of_Nigerian_films_of_2013', 'https://en.wikipedia.org/wiki/List_of_Nigerian_films_of_2013', 'https://en.wikipedia.org/wiki/List_of_Nigerian_films_of_2013', 'https://en.wikipedia.org/wiki/List_of_Nigerian_films_of_2013', 'https://en.wikipedia.org/wiki/List_of_Nigerian_films_of_2013', 'https://en.wikipedia.org/wiki/List_of_Nigerian_films_of_2013', 'https://en.wikipedia.org/wiki/List_of_Nigerian_films_of_2013', 'https://en.wikipedia.org/wiki/List_of_Nigerian_films_of_2013', 'https://en.wikipedia.org/wiki/List_of_Nigerian_films_of_2013', 'https://en.wikipedia.org/wiki/List_of_Nigerian_films_of_2013', 'https://en.wikipedia.org/wiki/List_of_Nigerian_films_of_2013', 'https://en.wikipedia.org/wiki/List_of_Nigerian_films_of_2013', 'https://en.wikipedia.org/wiki/List_of_Nigerian_films_of_2013', 'https://en.wikipedia.org/wiki/List_of_Nigerian_films_of_2013', 'https://en.wikipedia.org/wiki/List_of_Nigerian_films_of_2014', 'https://en.wikipedia.org/wiki/List_of_Nigerian_films_of_2014', 'https://en.wikipedia.org/wiki/List_of_Nigerian_films_of_2014', 'https://en.wikipedia.org/wiki/List_of_Nigerian_films_of_2014', 'https://en.wikipedia.org/wiki/List_of_Nigerian_films_of_2014', 'https://en.wikipedia.org/wiki/List_of_Nigerian_films_of_2014', 'https://en.wikipedia.org/wiki/List_of_Nigerian_films_of_2014', 'https://en.wikipedia.org/wiki/List_of_Nigerian_films_of_2014', 'https://en.wikipedia.org/wiki/List_of_Nigerian_films_of_2014', 'https://en.wikipedia.org/wiki/List_of_Nigerian_films_of_2014', 'https://en.wikipedia.org/wiki/List_of_Nigerian_films_of_2014', 'https://en.wikipedia.org/wiki/List_of_Nigerian_films_of_2014', 'https://en.wikipedia.org/wiki/List_of_Nigerian_films_of_2014', 'https://en.wikipedia.org/wiki/List_of_Nigerian_films_of_2014']\n"
     ]
    }
   ],
   "source": [
    "print (Link)"
   ]
  },
  {
   "cell_type": "code",
   "execution_count": 22,
   "id": "1020c3ed-162a-4072-9982-3f3f680a2e08",
   "metadata": {
    "tags": []
   },
   "outputs": [
    {
     "ename": "AttributeError",
     "evalue": "'str' object has no attribute 'append'",
     "output_type": "error",
     "traceback": [
      "\u001b[1;31m---------------------------------------------------------------------------\u001b[0m",
      "\u001b[1;31mAttributeError\u001b[0m                            Traceback (most recent call last)",
      "\u001b[1;32m<ipython-input-22-ef891a2c46b9>\u001b[0m in \u001b[0;36m<module>\u001b[1;34m\u001b[0m\n\u001b[0;32m      1\u001b[0m \u001b[0minfo\u001b[0m\u001b[1;33m=\u001b[0m\u001b[0mcell\u001b[0m\u001b[1;33m[\u001b[0m\u001b[1;36m4\u001b[0m\u001b[1;33m]\u001b[0m\u001b[1;33m.\u001b[0m\u001b[0mtext\u001b[0m\u001b[1;33m\u001b[0m\u001b[1;33m\u001b[0m\u001b[0m\n\u001b[0;32m      2\u001b[0m \u001b[1;32mif\u001b[0m \u001b[1;32mnot\u001b[0m \u001b[0minfo\u001b[0m\u001b[1;33m.\u001b[0m\u001b[0mstrip\u001b[0m\u001b[1;33m(\u001b[0m\u001b[1;33m)\u001b[0m\u001b[1;33m:\u001b[0m\u001b[1;33m\u001b[0m\u001b[1;33m\u001b[0m\u001b[0m\n\u001b[1;32m----> 3\u001b[1;33m     \u001b[0mInfo\u001b[0m\u001b[1;33m.\u001b[0m\u001b[0mappend\u001b[0m\u001b[1;33m(\u001b[0m\u001b[1;34m\"Not available\"\u001b[0m\u001b[1;33m)\u001b[0m\u001b[1;33m\u001b[0m\u001b[1;33m\u001b[0m\u001b[0m\n\u001b[0m\u001b[0;32m      4\u001b[0m \u001b[1;32melse\u001b[0m\u001b[1;33m:\u001b[0m\u001b[1;33m\u001b[0m\u001b[1;33m\u001b[0m\u001b[0m\n\u001b[0;32m      5\u001b[0m     \u001b[0mInfo\u001b[0m\u001b[1;33m.\u001b[0m\u001b[0mappend\u001b[0m\u001b[1;33m(\u001b[0m\u001b[0minfo\u001b[0m\u001b[1;33m)\u001b[0m\u001b[1;33m\u001b[0m\u001b[1;33m\u001b[0m\u001b[0m\n",
      "\u001b[1;31mAttributeError\u001b[0m: 'str' object has no attribute 'append'"
     ]
    }
   ],
   "source": [
    "info=cell[4].text\n",
    "if not info.strip(): \n",
    "    Info.append(\"Not available\")\n",
    "else:\n",
    "    Info.append(info)\n",
    "\n",
    "print (Info)"
   ]
  },
  {
   "cell_type": "code",
   "execution_count": 32,
   "id": "d555e689-330c-45c1-a47c-3ac0df82c172",
   "metadata": {},
   "outputs": [
    {
     "data": {
      "text/plain": [
       "(1, 5)"
      ]
     },
     "execution_count": 32,
     "metadata": {},
     "output_type": "execute_result"
    }
   ],
   "source": [
    "movies.shape"
   ]
  },
  {
   "cell_type": "code",
   "execution_count": 16,
   "id": "2d06634d-f74c-459b-a14f-aaa81a9d8a12",
   "metadata": {},
   "outputs": [
    {
     "name": "stdout",
     "output_type": "stream",
     "text": [
      "<class 'pandas.core.frame.DataFrame'>\n",
      "RangeIndex: 0 entries\n",
      "Data columns (total 5 columns):\n",
      " #   Column    Non-Null Count  Dtype  \n",
      "---  ------    --------------  -----  \n",
      " 0   Movie     0 non-null      float64\n",
      " 1   Director  0 non-null      float64\n",
      " 2   Cast      0 non-null      float64\n",
      " 3   Genre     0 non-null      float64\n",
      " 4   Info      0 non-null      float64\n",
      "dtypes: float64(5)\n",
      "memory usage: 124.0 bytes\n"
     ]
    }
   ],
   "source": [
    "movies.info()"
   ]
  },
  {
   "cell_type": "code",
   "execution_count": 17,
   "id": "a2f9cecf-3b01-4293-b65d-253422d6beeb",
   "metadata": {},
   "outputs": [
    {
     "data": {
      "text/plain": [
       "Index(['Movie', 'Director', 'Cast', 'Genre', 'Info'], dtype='object')"
      ]
     },
     "execution_count": 17,
     "metadata": {},
     "output_type": "execute_result"
    }
   ],
   "source": [
    "movies.columns"
   ]
  },
  {
   "cell_type": "code",
   "execution_count": 33,
   "id": "ee164cf5-e207-40d0-9551-bf4baf6a3f7d",
   "metadata": {},
   "outputs": [
    {
     "data": {
      "text/html": [
       "<div>\n",
       "<style scoped>\n",
       "    .dataframe tbody tr th:only-of-type {\n",
       "        vertical-align: middle;\n",
       "    }\n",
       "\n",
       "    .dataframe tbody tr th {\n",
       "        vertical-align: top;\n",
       "    }\n",
       "\n",
       "    .dataframe thead th {\n",
       "        text-align: right;\n",
       "    }\n",
       "</style>\n",
       "<table border=\"1\" class=\"dataframe\">\n",
       "  <thead>\n",
       "    <tr style=\"text-align: right;\">\n",
       "      <th></th>\n",
       "      <th>Movie</th>\n",
       "      <th>Director</th>\n",
       "      <th>Cast</th>\n",
       "      <th>Genre</th>\n",
       "      <th>Info</th>\n",
       "    </tr>\n",
       "  </thead>\n",
       "  <tbody>\n",
       "    <tr>\n",
       "      <th>0</th>\n",
       "      <td>Owo Blow</td>\n",
       "      <td>Prince Leke Ajao\\nBimbo Akintola\\nAdewale Eles...</td>\n",
       "      <td></td>\n",
       "      <td></td>\n",
       "      <td></td>\n",
       "    </tr>\n",
       "  </tbody>\n",
       "</table>\n",
       "</div>"
      ],
      "text/plain": [
       "      Movie                                           Director Cast Genre Info\n",
       "0  Owo Blow  Prince Leke Ajao\\nBimbo Akintola\\nAdewale Eles...                "
      ]
     },
     "execution_count": 33,
     "metadata": {},
     "output_type": "execute_result"
    }
   ],
   "source": [
    "movies.tail()"
   ]
  },
  {
   "cell_type": "code",
   "execution_count": 168,
   "id": "5442cca2-b43f-4177-8844-2a8e3e427d46",
   "metadata": {},
   "outputs": [
    {
     "data": {
      "text/plain": [
       "bs4.element.ResultSet"
      ]
     },
     "execution_count": 168,
     "metadata": {},
     "output_type": "execute_result"
    }
   ],
   "source": [
    "#type(tables)"
   ]
  },
  {
   "cell_type": "code",
   "execution_count": 21,
   "id": "5e382895-41d2-4958-b77a-9d8cf0b5e6a0",
   "metadata": {},
   "outputs": [
    {
     "ename": "AttributeError",
     "evalue": "'str' object has no attribute 'append'",
     "output_type": "error",
     "traceback": [
      "\u001b[1;31m---------------------------------------------------------------------------\u001b[0m",
      "\u001b[1;31mAttributeError\u001b[0m                            Traceback (most recent call last)",
      "\u001b[1;32m<ipython-input-21-70a95d4036f1>\u001b[0m in \u001b[0;36m<module>\u001b[1;34m\u001b[0m\n\u001b[0;32m      4\u001b[0m \u001b[1;32melse\u001b[0m\u001b[1;33m:\u001b[0m\u001b[1;33m\u001b[0m\u001b[1;33m\u001b[0m\u001b[0m\n\u001b[0;32m      5\u001b[0m     \u001b[0mInfo\u001b[0m\u001b[1;33m=\u001b[0m\u001b[1;34m\"NaN\"\u001b[0m\u001b[1;33m\u001b[0m\u001b[1;33m\u001b[0m\u001b[0m\n\u001b[1;32m----> 6\u001b[1;33m \u001b[0mInfo\u001b[0m\u001b[1;33m.\u001b[0m\u001b[0mappend\u001b[0m\u001b[1;33m(\u001b[0m\u001b[0minfo\u001b[0m\u001b[1;33m)\u001b[0m\u001b[1;33m\u001b[0m\u001b[1;33m\u001b[0m\u001b[0m\n\u001b[0m\u001b[0;32m      7\u001b[0m \u001b[0mprint\u001b[0m \u001b[1;33m(\u001b[0m\u001b[0mInfo\u001b[0m\u001b[1;33m)\u001b[0m\u001b[1;33m\u001b[0m\u001b[1;33m\u001b[0m\u001b[0m\n",
      "\u001b[1;31mAttributeError\u001b[0m: 'str' object has no attribute 'append'"
     ]
    }
   ],
   "source": [
    "info=cell[4].text.strip()\n",
    "if info is not None:\n",
    "    Info=info\n",
    "else:\n",
    "    Info=\"NaN\"\n",
    "Info+(info)\n",
    "print (Info)"
   ]
  },
  {
   "cell_type": "code",
   "execution_count": 20,
   "id": "17e38b9a-b0b8-416a-90f6-2be6814ddd0e",
   "metadata": {},
   "outputs": [
    {
     "ename": "IndentationError",
     "evalue": "unindent does not match any outer indentation level (<tokenize>, line 4)",
     "output_type": "error",
     "traceback": [
      "\u001b[1;36m  File \u001b[1;32m\"<tokenize>\"\u001b[1;36m, line \u001b[1;32m4\u001b[0m\n\u001b[1;33m    csv_writer.writerow(row)\u001b[0m\n\u001b[1;37m    ^\u001b[0m\n\u001b[1;31mIndentationError\u001b[0m\u001b[1;31m:\u001b[0m unindent does not match any outer indentation level\n"
     ]
    }
   ],
   "source": [
    " for td in tr('td', recursive=False):\n",
    "        text = td(text=True)\n",
    "        row.append(''.join(text) if text else 'blank')\n",
    "    csv_writer.writerow(row)"
   ]
  },
  {
   "cell_type": "code",
   "execution_count": 216,
   "id": "8b6d7d97-08c3-4b3c-9c70-699234f0eb88",
   "metadata": {
    "collapsed": true,
    "jupyter": {
     "outputs_hidden": true
    },
    "tags": []
   },
   "outputs": [
    {
     "name": "stdout",
     "output_type": "stream",
     "text": [
      "[<table class=\"wikitable\" width=\"100%\">\n",
      "<tbody><tr>\n",
      "<th width=\"21%\">Title\n",
      "</th>\n",
      "<th width=\"16%\">Director\n",
      "</th>\n",
      "<th width=\"22%\">Cast\n",
      "</th>\n",
      "<th width=\"13%\">Genre\n",
      "</th>\n",
      "<th width=\"28%\">Notes\n",
      "</th></tr>\n",
      "<tr>\n",
      "<td><i><a href=\"/wiki/Being_Mrs_Elliot\" title=\"Being Mrs Elliot\">Being Mrs Elliot</a></i></td>\n",
      "<td><a href=\"/wiki/Omoni_Oboli\" title=\"Omoni Oboli\">Omoni Oboli</a></td>\n",
      "<td><a href=\"/wiki/Majid_Michel\" title=\"Majid Michel\">Majid Michel</a><br/><a href=\"/wiki/Omoni_Oboli\" title=\"Omoni Oboli\">Omoni Oboli</a><br/><a href=\"/wiki/Sylvia_Oluchy\" title=\"Sylvia Oluchy\">Sylvia Oluchy</a> <br/><a href=\"/wiki/Ayo_Makun\" title=\"Ayo Makun\">Ayo Makun</a>\n",
      "</td>\n",
      "<td>Romantic comedy</td>\n",
      "<td><sup class=\"reference\" id=\"cite_ref-1\"><a href=\"#cite_note-1\">[1]</a></sup>&lt;/ref&gt; It had its world premiere on 30 August 2014 at Silverbird Galleria, Victoria Island, <a href=\"/wiki/Lagos\" title=\"Lagos\">Lagos</a> and was released theatrically across Nigeria on 5 September.<sup class=\"reference\" id=\"cite_ref-2\"><a href=\"#cite_note-2\">[2]</a></sup><sup class=\"reference\" id=\"cite_ref-3\"><a href=\"#cite_note-3\">[3]</a></sup>\n",
      "</td></tr>\n",
      "<tr>\n",
      "<td><i><a href=\"/wiki/Render_to_Caesar\" title=\"Render to Caesar\">Render to Caesar</a></i></td>\n",
      "<td>Desmond Ovbiagele <br/> Onyekachi Ejim</td>\n",
      "<td><a href=\"/wiki/Gbenga_Akinnagbe\" title=\"Gbenga Akinnagbe\">Gbenga Akinnagbe</a><br/><a href=\"/wiki/Omoni_Oboli\" title=\"Omoni Oboli\">Omoni Oboli</a><br/>Wale Ojo <br/><a href=\"/wiki/Bimbo_Manuel\" title=\"Bimbo Manuel\">Bimbo Manuel</a><br/>Dede Mabiaku<br/><a href=\"/wiki/Kalu_Ikeagwu\" title=\"Kalu Ikeagwu\">Kalu Ikeagwu</a>\n",
      "</td>\n",
      "<td>Crime drama</td>\n",
      "<td>\n",
      "</td></tr>\n",
      "<tr>\n",
      "<td><i><a href=\"/wiki/Tunnel_(2014_film)\" title=\"Tunnel (2014 film)\">Tunnel</a></i></td>\n",
      "<td>Stanlee Ohikhuare</td>\n",
      "<td><a class=\"mw-redirect\" href=\"/wiki/Nse_Ikpe_Etim\" title=\"Nse Ikpe Etim\">Nse Ikpe Etim</a> <br/> <a href=\"/wiki/Femi_Jacobs\" title=\"Femi Jacobs\">Femi Jacobs</a><br/><a href=\"/wiki/Waje\" title=\"Waje\">Waje</a>\n",
      "</td>\n",
      "<td>Drama</td>\n",
      "<td>\n",
      "</td></tr>\n",
      "<tr>\n",
      "<td><i><a href=\"/wiki/Iyore\" title=\"Iyore\">Iyore</a></i></td>\n",
      "<td><a href=\"/wiki/Frank_Rajah_Arase\" title=\"Frank Rajah Arase\">Frank Rajah Arase</a></td>\n",
      "<td><a href=\"/wiki/Rita_Dominic\" title=\"Rita Dominic\">Rita Dominic</a> <br/> Bukky Wright<br/><a href=\"/wiki/Joseph_Benjamin_(actor)\" title=\"Joseph Benjamin (actor)\">Joseph Benjamin</a></td>\n",
      "<td>Drama</td>\n",
      "<td>10 nominations at <a href=\"/wiki/2014_Golden_Icons_Academy_Movie_Awards\" title=\"2014 Golden Icons Academy Movie Awards\">2014 Golden Icons Academy Movie Awards</a>\n",
      "</td></tr>\n",
      "<tr>\n",
      "<td><i><a href=\"/wiki/Make_a_Move_(film)\" title=\"Make a Move (film)\">Make a Move</a></i></td>\n",
      "<td>Niyi Akinmolayan</td>\n",
      "<td><a href=\"/wiki/Ivie_Okujaye\" title=\"Ivie Okujaye\">Ivie Okujaye</a> <br/> Tina Mba<br/><a href=\"/wiki/Beverly_Naya\" title=\"Beverly Naya\">Beverly Naya</a><br/>Wale Adebayo</td>\n",
      "<td>Dance / musical</td>\n",
      "<td>\n",
      "</td></tr>\n",
      "<tr>\n",
      "<td><i><a href=\"/wiki/Knocking_on_Heaven%27s_Door_(2014_film)\" title=\"Knocking on Heaven's Door (2014 film)\">Knocking on Heaven's Door</a></i></td>\n",
      "<td><a href=\"/wiki/Desmond_Elliot\" title=\"Desmond Elliot\">Desmond Elliot</a></td>\n",
      "<td><a href=\"/wiki/Majid_Michel\" title=\"Majid Michel\">Majid Michel</a> <br/> Adesuwa Etomi <br/>Blossom Chukwujekwu<br/><a href=\"/wiki/Ini_Edo\" title=\"Ini Edo\">Ini Edo</a>\n",
      "</td>\n",
      "<td>Romantic drama / musical</td>\n",
      "<td>\n",
      "</td></tr>\n",
      "<tr>\n",
      "<td><i><a href=\"/wiki/October_1_(film)\" title=\"October 1 (film)\">October 1</a></i></td>\n",
      "<td><a href=\"/wiki/Kunle_Afolayan\" title=\"Kunle Afolayan\">Kunle Afolayan</a></td>\n",
      "<td>Sadiq Daba <br/> Kehinde Bankole <br/>David Baile<br/><a href=\"/wiki/Deola_Sagoe\" title=\"Deola Sagoe\">Deola Sagoe</a>\n",
      "</td>\n",
      "<td>Dark psychological thriller</td>\n",
      "<td>\n",
      "</td></tr>\n",
      "<tr>\n",
      "<td><i><a href=\"/wiki/Brother%27s_Keeper_(2014_film)\" title=\"Brother's Keeper (2014 film)\">Brother's Keeper</a></i></td>\n",
      "<td>Ikechukwu Onyeka</td>\n",
      "<td><a href=\"/wiki/Majid_Michel\" title=\"Majid Michel\">Majid Michel</a> <br/> <a href=\"/wiki/Omoni_Oboli\" title=\"Omoni Oboli\">Omoni Oboli</a> <br/><a href=\"/wiki/Beverly_Naya\" title=\"Beverly Naya\">Beverly Naya</a><br/><a href=\"/wiki/Barbara_Soky\" title=\"Barbara Soky\">Barbara Soky</a>\n",
      "</td>\n",
      "<td>Thriller</td>\n",
      "<td>Nominations at <a href=\"/wiki/10th_Africa_Movie_Academy_Awards\" title=\"10th Africa Movie Academy Awards\">10th Africa Movie Academy Awards</a>\n",
      "</td></tr>\n",
      "<tr>\n",
      "<td><i><a href=\"/wiki/Dry_(film)\" title=\"Dry (film)\">Dry</a></i></td>\n",
      "<td><a class=\"mw-redirect\" href=\"/wiki/Stephanie_Okereke\" title=\"Stephanie Okereke\">Stephanie Okereke</a></td>\n",
      "<td><a class=\"mw-redirect\" href=\"/wiki/Stephanie_Okereke\" title=\"Stephanie Okereke\">Stephanie Okereke</a> <br/> <a href=\"/wiki/Liz_Benson\" title=\"Liz Benson\">Liz Benson</a> <br/><a href=\"/wiki/William_McNamara\" title=\"William McNamara\">William McNamara</a><br/><a href=\"/wiki/Darwin_Shaw\" title=\"Darwin Shaw\">Darwin Shaw</a>\n",
      "</td>\n",
      "<td>Drama</td>\n",
      "<td>\n",
      "</td></tr>\n",
      "<tr>\n",
      "<td><i><a href=\"/wiki/30_Days_in_Atlanta\" title=\"30 Days in Atlanta\">30 Days in Atlanta</a></i></td>\n",
      "<td>Robert Peters</td>\n",
      "<td><a href=\"/wiki/Ayo_Makun\" title=\"Ayo Makun\">Ayo Makun</a> <br/> <a href=\"/wiki/Vivica_A._Fox\" title=\"Vivica A. Fox\">Vivica A. Fox</a> <br/><a href=\"/wiki/Lynn_Whitfield\" title=\"Lynn Whitfield\">Lynn Whitfield</a><br/><a href=\"/wiki/Karlie_Redd\" title=\"Karlie Redd\">Karlie Redd</a>\n",
      "</td>\n",
      "<td>Comedy</td>\n",
      "<td><sup class=\"reference\" id=\"cite_ref-4\"><a href=\"#cite_note-4\">[4]</a></sup>\n",
      "</td></tr>\n",
      "<tr>\n",
      "<td><i><a class=\"mw-redirect\" href=\"/wiki/When_Love_Happens\" title=\"When Love Happens\">When Love Happens</a></i></td>\n",
      "<td>Seyi Babatope</td>\n",
      "<td><div class=\"plainlist\"><ul><li>Weruche Opia</li><li><a href=\"/wiki/OC_Ukeje\" title=\"OC Ukeje\">OC Ukeje</a></li><li><a href=\"/wiki/Beverly_Naya\" title=\"Beverly Naya\">Beverly Naya</a></li><li>Oreka Godis</li><li>Gideon Okeke</li><li>Bukky Wright</li><li><a href=\"/wiki/Desmond_Elliot\" title=\"Desmond Elliot\">Desmond Elliot</a></li><li>Wale Ojo</li></ul></div>\n",
      "</td>\n",
      "<td>Romantic comedy</td>\n",
      "<td>\n",
      "</td></tr>\n",
      "<tr>\n",
      "<td><i><a href=\"/wiki/A_Place_in_the_Stars\" title=\"A Place in the Stars\">A Place in the Stars</a></i></td>\n",
      "<td>Steve Gukas</td>\n",
      "<td><div class=\"plainlist\"><ul><li>Gideon Okeke</li><li><a href=\"/wiki/Segun_Arinze\" title=\"Segun Arinze\">Segun Arinze</a></li><li>Matilda Obaseki</li><li>Yemi Blaq</li><li>Femi Branch</li><li>Dejumo Lewis</li></ul></div>\n",
      "</td>\n",
      "<td>Thriller</td>\n",
      "<td>\n",
      "</td></tr>\n",
      "<tr>\n",
      "<td><i><a href=\"/wiki/Champagne_(2014_film)\" title=\"Champagne (2014 film)\">Champagne</a></i></td>\n",
      "<td>Emem Isong</td>\n",
      "<td><div class=\"plainlist\"><ul><li><a href=\"/wiki/Majid_Michel\" title=\"Majid Michel\">Majid Michel</a></li><li><a href=\"/wiki/Alexx_Ekubo\" title=\"Alexx Ekubo\">Alexx Ekubo</a></li><li>Rosemary Zimu</li><li><a href=\"/wiki/Susan_Peters_(Nigerian_actress)\" title=\"Susan Peters (Nigerian actress)\">Susan Peters</a></li><li>Tana Adelana</li></ul></div>\n",
      "</td>\n",
      "<td>Romantic thriller</td>\n",
      "<td><sup class=\"reference\" id=\"cite_ref-5\"><a href=\"#cite_note-5\">[5]</a></sup><sup class=\"reference\" id=\"cite_ref-6\"><a href=\"#cite_note-6\">[6]</a></sup>\n",
      "</td></tr>\n",
      "</tbody></table>]\n"
     ]
    }
   ],
   "source": [
    "print(tables)"
   ]
  },
  {
   "cell_type": "code",
   "execution_count": 170,
   "id": "5dba211d-cd54-4233-a1af-77da3885bfe0",
   "metadata": {},
   "outputs": [
    {
     "name": "stdout",
     "output_type": "stream",
     "text": [
      "Agba Man\n"
     ]
    }
   ],
   "source": [
    "print (cell[0].text.strip())"
   ]
  },
  {
   "cell_type": "code",
   "execution_count": 19,
   "id": "f89486a4-9708-4675-a55a-d90f4d0db284",
   "metadata": {},
   "outputs": [],
   "source": [
    "movies.to_csv('Nollywood__movies.csv', index=False)"
   ]
  },
  {
   "cell_type": "code",
   "execution_count": 318,
   "id": "a59c674d-8fee-4e0f-a205-95ea9786fd37",
   "metadata": {},
   "outputs": [
    {
     "name": "stdout",
     "output_type": "stream",
     "text": [
      "              Title                          Director  \\\n",
      "0  Being Mrs Elliot                       Omoni Oboli   \n",
      "1  Render to Caesar  Desmond Ovbiagele Onyekachi Ejim   \n",
      "2            Tunnel                 Stanlee Ohikhuare   \n",
      "3             Iyore                 Frank Rajah Arase   \n",
      "4       Make a Move                  Niyi Akinmolayan   \n",
      "\n",
      "                                                Cast            Genre  \\\n",
      "0     Majid MichelOmoni OboliSylvia Oluchy Ayo Makun  Romantic comedy   \n",
      "1  Gbenga AkinnagbeOmoni OboliWale Ojo Bimbo Manu...      Crime drama   \n",
      "2                      Nse Ikpe Etim Femi JacobsWaje            Drama   \n",
      "3           Rita Dominic Bukky WrightJoseph Benjamin            Drama   \n",
      "4      Ivie Okujaye Tina MbaBeverly NayaWale Adebayo  Dance / musical   \n",
      "\n",
      "                                               Notes  \n",
      "0  [1]</ref> It had its world premiere on 30 Augu...  \n",
      "1                                                NaN  \n",
      "2                                                NaN  \n",
      "3  10 nominations at 2014 Golden Icons Academy Mo...  \n",
      "4                                                NaN  \n"
     ]
    }
   ],
   "source": [
    "df=pd.read_html(str(tables))\n",
    "# convert list to dataframe\n",
    "df=pd.DataFrame(df[0])\n",
    "print(df.head())"
   ]
  },
  {
   "cell_type": "code",
   "execution_count": 303,
   "id": "3bdea058-8b8a-4243-bcfa-e03e434a896f",
   "metadata": {},
   "outputs": [
    {
     "data": {
      "text/plain": [
       "(3, 7)"
      ]
     },
     "execution_count": 303,
     "metadata": {},
     "output_type": "execute_result"
    }
   ],
   "source": [
    "df.shape"
   ]
  },
  {
   "cell_type": "code",
   "execution_count": 239,
   "id": "7a9f1dd9-37c5-4da3-9627-ea5d74adbece",
   "metadata": {
    "collapsed": true,
    "jupyter": {
     "outputs_hidden": true
    },
    "tags": []
   },
   "outputs": [
    {
     "name": "stdout",
     "output_type": "stream",
     "text": [
      "Romantic thriller\n"
     ]
    }
   ],
   "source": [
    "print (cell[3].text.strip())"
   ]
  },
  {
   "cell_type": "code",
   "execution_count": 229,
   "id": "9f96639a-4245-46f2-a2f3-3289dcc20346",
   "metadata": {},
   "outputs": [
    {
     "data": {
      "text/html": [
       "<div>\n",
       "<style scoped>\n",
       "    .dataframe tbody tr th:only-of-type {\n",
       "        vertical-align: middle;\n",
       "    }\n",
       "\n",
       "    .dataframe tbody tr th {\n",
       "        vertical-align: top;\n",
       "    }\n",
       "\n",
       "    .dataframe thead th {\n",
       "        text-align: right;\n",
       "    }\n",
       "</style>\n",
       "<table border=\"1\" class=\"dataframe\">\n",
       "  <thead>\n",
       "    <tr style=\"text-align: right;\">\n",
       "      <th></th>\n",
       "      <th>Movie</th>\n",
       "      <th>Director</th>\n",
       "      <th>Cast</th>\n",
       "      <th>Genre</th>\n",
       "      <th>Info</th>\n",
       "    </tr>\n",
       "  </thead>\n",
       "  <tbody>\n",
       "  </tbody>\n",
       "</table>\n",
       "</div>"
      ],
      "text/plain": [
       "Empty DataFrame\n",
       "Columns: [Movie, Director, Cast, Genre, Info]\n",
       "Index: []"
      ]
     },
     "execution_count": 229,
     "metadata": {},
     "output_type": "execute_result"
    }
   ],
   "source": []
  },
  {
   "cell_type": "code",
   "execution_count": 221,
   "id": "5596ee8a-42b8-4bc6-87f6-9ee12eac1559",
   "metadata": {
    "collapsed": true,
    "jupyter": {
     "outputs_hidden": true
    },
    "tags": []
   },
   "outputs": [
    {
     "name": "stdout",
     "output_type": "stream",
     "text": [
      "\n",
      "Title\n",
      "\n",
      "Director\n",
      "\n",
      "Cast\n",
      "\n",
      "Genre\n",
      "\n",
      "Notes\n",
      "\n",
      "\n",
      "Being Mrs Elliot\n",
      "Omoni Oboli\n",
      "Majid MichelOmoni OboliSylvia Oluchy Ayo Makun\n",
      "\n",
      "Romantic comedy\n",
      "[1]</ref> It had its world premiere on 30 August 2014 at Silverbird Galleria, Victoria Island, Lagos and was released theatrically across Nigeria on 5 September.[2][3]\n",
      "\n",
      "\n",
      "Render to Caesar\n",
      "Desmond Ovbiagele  Onyekachi Ejim\n",
      "Gbenga AkinnagbeOmoni OboliWale Ojo Bimbo ManuelDede MabiakuKalu Ikeagwu\n",
      "\n",
      "Crime drama\n",
      "\n",
      "\n",
      "\n",
      "Tunnel\n",
      "Stanlee Ohikhuare\n",
      "Nse Ikpe Etim  Femi JacobsWaje\n",
      "\n",
      "Drama\n",
      "\n",
      "\n",
      "\n",
      "Iyore\n",
      "Frank Rajah Arase\n",
      "Rita Dominic  Bukky WrightJoseph Benjamin\n",
      "Drama\n",
      "10 nominations at 2014 Golden Icons Academy Movie Awards\n",
      "\n",
      "\n",
      "Make a Move\n",
      "Niyi Akinmolayan\n",
      "Ivie Okujaye  Tina MbaBeverly NayaWale Adebayo\n",
      "Dance / musical\n",
      "\n",
      "\n",
      "\n",
      "Knocking on Heaven's Door\n",
      "Desmond Elliot\n",
      "Majid Michel  Adesuwa Etomi Blossom ChukwujekwuIni Edo\n",
      "\n",
      "Romantic drama / musical\n",
      "\n",
      "\n",
      "\n",
      "October 1\n",
      "Kunle Afolayan\n",
      "Sadiq Daba  Kehinde Bankole David BaileDeola Sagoe\n",
      "\n",
      "Dark psychological thriller\n",
      "\n",
      "\n",
      "\n",
      "Brother's Keeper\n",
      "Ikechukwu Onyeka\n",
      "Majid Michel  Omoni Oboli Beverly NayaBarbara Soky\n",
      "\n",
      "Thriller\n",
      "Nominations at 10th Africa Movie Academy Awards\n",
      "\n",
      "\n",
      "Dry\n",
      "Stephanie Okereke\n",
      "Stephanie Okereke  Liz Benson William McNamaraDarwin Shaw\n",
      "\n",
      "Drama\n",
      "\n",
      "\n",
      "\n",
      "30 Days in Atlanta\n",
      "Robert Peters\n",
      "Ayo Makun  Vivica A. Fox Lynn WhitfieldKarlie Redd\n",
      "\n",
      "Comedy\n",
      "[4]\n",
      "\n",
      "\n",
      "When Love Happens\n",
      "Seyi Babatope\n",
      "Weruche OpiaOC UkejeBeverly NayaOreka GodisGideon OkekeBukky WrightDesmond ElliotWale Ojo\n",
      "\n",
      "Romantic comedy\n",
      "\n",
      "\n",
      "\n",
      "A Place in the Stars\n",
      "Steve Gukas\n",
      "Gideon OkekeSegun ArinzeMatilda ObasekiYemi BlaqFemi BranchDejumo Lewis\n",
      "\n",
      "Thriller\n",
      "\n",
      "\n",
      "\n",
      "Champagne\n",
      "Emem Isong\n",
      "Majid MichelAlexx EkuboRosemary ZimuSusan PetersTana Adelana\n",
      "\n",
      "Romantic thriller\n",
      "[5][6]\n",
      "\n"
     ]
    }
   ],
   "source": [
    "for tag in tables[0].find_all('tr'):\n",
    "    print (tag.text)"
   ]
  },
  {
   "cell_type": "code",
   "execution_count": null,
   "id": "00a9308e-ab3a-4023-a217-f2ccbec81805",
   "metadata": {},
   "outputs": [],
   "source": []
  },
  {
   "cell_type": "code",
   "execution_count": null,
   "id": "0d105a76-f3e9-4344-ac70-4c1ba130c751",
   "metadata": {},
   "outputs": [],
   "source": []
  },
  {
   "cell_type": "code",
   "execution_count": null,
   "id": "cb94d4f7-6380-4cfc-93dd-00ef3e73fa6d",
   "metadata": {},
   "outputs": [],
   "source": []
  }
 ],
 "metadata": {
  "kernelspec": {
   "display_name": "Python 3",
   "language": "python",
   "name": "python3"
  },
  "language_info": {
   "codemirror_mode": {
    "name": "ipython",
    "version": 3
   },
   "file_extension": ".py",
   "mimetype": "text/x-python",
   "name": "python",
   "nbconvert_exporter": "python",
   "pygments_lexer": "ipython3",
   "version": "3.7.3"
  }
 },
 "nbformat": 4,
 "nbformat_minor": 5
}
