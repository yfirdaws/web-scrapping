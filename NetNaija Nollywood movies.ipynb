{
 "cells": [
  {
   "cell_type": "code",
   "execution_count": 1,
   "id": "72fa4dfe-a9f2-4927-86b0-1ce67a35653a",
   "metadata": {},
   "outputs": [],
   "source": [
    "#s=div class=\"content-main\" or artcle  class=\"post-body\n",
    "#Title=h1 class=\"page-h1 or in main page .find (div class=\"info).h2.text\n",
    "#Info artcle class=\"post-body\" find(p)\n",
    "#cast:blockquote class=\"quote-content\" find (p)\n",
    "#Producer::blockquote class=\"quote-content\" find (p)[1]\n",
    "#Director::blockquote class=\"quote-content\" find (p)[2]\n",
    "#company::blockquote class=\"quote-content\" find (p)[3]\n",
    "#Year::blockquote class=\"quote-content\" find (p)[4]\n",
    "#web page https://www.thenetnaija.com/videos/nollywood/13981-royal-clash-2021\n",
    "#base url=https://www.thenetnaija.com/videos/nollywood\n",
    "#base url+s.find('a', href=True)['href']\n",
    "#url=\"https://www.thenetnaija.com/videos/nollywood/page/{}\".format(page)"
   ]
  },
  {
   "cell_type": "code",
   "execution_count": null,
   "id": "b85693b5-cec5-4501-9ecb-7d17153c3744",
   "metadata": {},
   "outputs": [],
   "source": [
    "  # for cell in row.findAll('td'):\n",
    "       # text = cell.text.replace('&nbsp;', '')\n",
    "        #list_of_cells.append(text)\n",
    "    #list_of_rows.append(list_of_cells)\n",
    "\n",
    "#outfile = open(\"./inmates.csv\", \"wb\")\n",
    "#writer = csv.writer(outfile)\n",
    "#writer.writerow([\"Last\", \"First\", \"Middle\", \"Gender\", \"Race\", \"Age\", \"City\", \"State\"])\n",
    "#writer.writerows(list_of_rows)"
   ]
  },
  {
   "cell_type": "code",
   "execution_count": null,
   "id": "648886bf-a892-4e9a-ac11-5eaa0540d3bc",
   "metadata": {},
   "outputs": [],
   "source": [
    "#open base url\n",
    "#for each div, open webpage, scrape, close,the go back"
   ]
  },
  {
   "cell_type": "code",
   "execution_count": 2,
   "id": "15dc5cd3-be0d-44ee-9d7f-b85a0c21b165",
   "metadata": {},
   "outputs": [],
   "source": [
    "# div class=\"file-one shadow\" \n",
    "#for loop\n",
    "#scrap h2.text\n",
    "append\n",
    "#open link base url +....... in new tab??\n",
    "#s2=.find_all div \n",
    "#for ...........\n",
    "#scrap info,cast,producer,company,director,year\n",
    "#append to soething\n",
    "#close\n",
    "#scraper moe on to next element and repeat\n",
    "\n"
   ]
  },
  {
   "cell_type": "code",
   "execution_count": null,
   "id": "495e549b-151d-4f4c-b6e6-dba8d101f812",
   "metadata": {},
   "outputs": [],
   "source": [
    "  from selenium import webdriver\n",
    "  from selenium.webdriver.support.ui import WebDriverWait\n",
    "  from selenium.webdriver.common.by import By\n",
    "  from selenium.webdriver.support import expected_conditions as EC\n",
    "  import time\n",
    "\n",
    "  chrome_options = webdriver.ChromeOptions() \n",
    "  chrome_options.add_argument(\"start-maximized\")\n",
    "  driver = webdriver.Chrome(options=chrome_options, executable_path=r'C:\\WebDrivers\\chromedriver.exe')\n",
    "\n",
    "  driver.get(\"https://www.medline.com/catalog/category-products.jsp?itemId=Z05-CA02_03&N=111079+4294770643&iclp=Z05-CA02_03\")\n",
    "  my_hrefs = [my_elem.get_attribute(\"href\") for my_elem in WebDriverWait(driver, 5).until(EC.visibility_of_all_elements_located((By.XPATH, \"//div[contains(@class, 'resultGalleryViewRow')]//div[@class='medGridProdTitle']//a\")))]\n",
    "  windows_before  = driver.current_window_handle # Store the parent_window_handle for future use\n",
    "  for my_href in my_hrefs:\n",
    "      driver.execute_script(\"window.open('\" + my_href +\"');\")\n",
    "      WebDriverWait(driver, 10).until(EC.number_of_windows_to_be(2)) # Induce  WebDriverWait for the number_of_windows_to_be 2\n",
    "      windows_after = driver.window_handles\n",
    "      new_window = [x for x in windows_after if x != windows_before][0] # Identify the newly opened window\n",
    "      driver.switch_to.window(new_window) # switch_to the new window\n",
    "      time.sleep(3) # perform your webscraping here\n",
    "      print(driver.title) # print the page title or your perform your webscraping\n",
    "      driver.close() # close the window\n",
    "      driver.switch_to.window(windows_before) # switch_to the parent_window_handle\n",
    "  driver.quit() #quit your program"
   ]
  },
  {
   "cell_type": "code",
   "execution_count": null,
   "id": "ab101edc-8295-4e24-9b7b-29a5d2ff8eec",
   "metadata": {},
   "outputs": [],
   "source": [
    "Considering all the tabs are already opened, perhaps just use python to automate the key presses to move to the next tab (CMD + Option + left/right arrows). See here for how to do key presses in Python."
   ]
  },
  {
   "cell_type": "code",
   "execution_count": null,
   "id": "35a3437d-8d1f-4828-9dce-36a5c02e7e75",
   "metadata": {},
   "outputs": [],
   "source": [
    "from bs4 import BeautifulSoup as soup\n",
    "d = soup(requests.get('https://www.medline.com/catalog/category-products.jsp?itemId=Z05-CA02_03&N=111079+4294770643&iclp=Z05-CA02_03').text, 'html.parser')\n",
    "def get_p(_d):\n",
    "  return [{'img':i.img['src'], 'link':i.a['href'], 'title':i.find('div', {'class':'medGridProdTitle'}).text, } for i in _d.find_all('div', {'class':'product'})]\n",
    "\n",
    "r = [get_p(d)]+[get_p(soup(requests.get(f'https://www.medline.com{i[\"href\"]}').text, 'html.parser')) for i in d.find('div', {'class':'pagination'}).find_all('a')]"
   ]
  },
  {
   "cell_type": "code",
   "execution_count": null,
   "id": "5fb78c14-77f5-4803-8b0a-5a8b35b2b3d7",
   "metadata": {},
   "outputs": [],
   "source": [
    " from selenium import webdriver\n",
    "  from selenium.webdriver.chrome.options import Options\n",
    "  from selenium.webdriver.support.ui import WebDriverWait\n",
    "  from selenium.webdriver.common.by import By\n",
    "  from selenium.webdriver.support import expected_conditions as EC\n",
    "\n",
    "  hrefs = []\n",
    "  options = Options()\n",
    "  options.add_argument(\"start-maximized\")\n",
    "  options.add_argument(\"disable-infobars\")\n",
    "  options.add_argument(\"--disable-extensions\")\n",
    "  options.add_argument(\"--disable-gpu\")\n",
    "  options.add_argument(\"--no-sandbox\")\n",
    "  driver = webdriver.Chrome(chrome_options=options, executable_path=r'C:\\WebDrivers\\ChromeDriver\\chromedriver_win32\\chromedriver.exe')\n",
    "  driver.get('http://www.scilly.gov.uk/planning-development/planning-applications')\n",
    "  windows_before  = driver.current_window_handle # Store the parent_window_handle for future use\n",
    "  elements = WebDriverWait(driver, 20).until(EC.visibility_of_all_elements_located((By.CSS_SELECTOR, \"td.views-field.views-field-title>a\"))) # Induce WebDriverWait for the visibility of the desired elements\n",
    "  for element in elements:\n",
    "      hrefs.append(element.get_attribute(\"href\")) # Collect the required href attributes and store in a list\n",
    "  for href in hrefs:\n",
    "      driver.execute_script(\"window.open('\" + href +\"');\") # Open the hrefs one by one through execute_script method in a new tab\n",
    "      WebDriverWait(driver, 10).until(EC.number_of_windows_to_be(2)) # Induce  WebDriverWait for the number_of_windows_to_be 2\n",
    "      windows_after = driver.window_handles\n",
    "      new_window = [x for x in windows_after if x != windows_before][0] # Identify the newly opened window\n",
    "      # driver.switch_to_window(new_window) <!---deprecated>\n",
    "      driver.switch_to.window(new_window) # switch_to the new window\n",
    "      # perform your webscraping here\n",
    "      print(driver.title) # print the page title or your perform your webscraping\n",
    "      driver.close() # close the window\n",
    "      # driver.switch_to_window(windows_before) <!---deprecated>\n",
    "      driver.switch_to.window(windows_before) # switch_to the parent_window_handle\n",
    "  driver.quit() #Quit your program"
   ]
  },
  {
   "cell_type": "code",
   "execution_count": null,
   "id": "4738f1f3-ae63-4534-9669-0c0a80ee97bd",
   "metadata": {},
   "outputs": [],
   "source": [
    "import selenium\n",
    "from selenium.webdriver.common.keys import Keys\n",
    "from selenium import Webdriver\n",
    "import time\n",
    "\n",
    "url = \"url\"\n",
    "browser = Webdriver.Chrome() #or whatever driver you use\n",
    "browser.find_element_by_class_name(\"views-field views-field-title\").click()\n",
    "# or use this browser.find_element_by_xpath(\"xpath\")\n",
    "#Note you will need to change the class name to click a different item in the table\n",
    "    time.sleep(5) # not the best way to do this but its simple. Just to make sure things load\n",
    "#it is here that you will be able to scrape the new url I will not post that as you can scrape what you want. \n",
    "# When you are done scraping you can return to the previous page with this\n",
    "driver.execute_script(\"window.history.go(-1)\")"
   ]
  },
  {
   "cell_type": "code",
   "execution_count": null,
   "id": "f59da286-aeef-4b8d-9613-0233fa428843",
   "metadata": {},
   "outputs": [],
   "source": [
    "  driver = new ChromeDriver();\n",
    "    driver.manage().window().maximize();\n",
    "            \n",
    "    String baseUrl = \"http://www.google.co.uk/\";\n",
    "    driver.get(baseUrl);\n",
    "    driver.findElement(By.cssSelector(\"body\")).sendKeys(Keys.CONTROL +\"t\");\n",
    "\n",
    "    ArrayList<String> tabs = new ArrayList<String> (driver.getWindowHandles());\n",
    "    driver.switchTo().window(tabs.get(1)); //switches to new tab\n",
    "    driver.get(\"https://www.facebook.com\");\n",
    "    \n",
    "    driver.switchTo().window(tabs.get(0)); // switch back to main screen        \n",
    "    driver.get(\"https://www.news.google.com\");"
   ]
  },
  {
   "cell_type": "code",
   "execution_count": null,
   "id": "4b337adc-f4e2-436a-9ec2-564bc79d996a",
   "metadata": {},
   "outputs": [],
   "source": [
    " WebDriver driver = new ChromeDriver();\n",
    "    driver.get(\"http://yahoo.com\");  \n",
    "    ((JavascriptExecutor)driver).executeScript(\"window.open()\");\n",
    "    ArrayList<String> tabs = new ArrayList<String>(driver.getWindowHandles());\n",
    "    driver.switchTo().window(tabs.get(1));\n",
    "    driver.get(\"http://google.com\");"
   ]
  }
 ],
 "metadata": {
  "kernelspec": {
   "display_name": "Python 3",
   "language": "python",
   "name": "python3"
  },
  "language_info": {
   "codemirror_mode": {
    "name": "ipython",
    "version": 3
   },
   "file_extension": ".py",
   "mimetype": "text/x-python",
   "name": "python",
   "nbconvert_exporter": "python",
   "pygments_lexer": "ipython3",
   "version": "3.7.3"
  }
 },
 "nbformat": 4,
 "nbformat_minor": 5
}
