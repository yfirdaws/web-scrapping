{
 "cells": [
  {
   "cell_type": "code",
   "execution_count": 1,
   "id": "43f68fcf-43d7-436a-98ad-13bcd770ad0c",
   "metadata": {},
   "outputs": [],
   "source": [
    "import pandas as pd\n",
    "import numpy as np\n",
    "import matplotlib.pyplot as plt\n",
    "import seaborn as sns\n",
    "%matplotlib inline\n",
    "import re\n",
    "import time\n",
    "from datetime import datetime\n",
    "import matplotlib.dates as mdates\n",
    "import matplotlib.ticker as ticker\n",
    "from urllib.request import urlopen\n",
    "from bs4 import BeautifulSoup\n",
    "import requests"
   ]
  },
  {
   "cell_type": "code",
   "execution_count": 15,
   "id": "a0d17c06-1586-4a77-8a91-38318a51a0c4",
   "metadata": {},
   "outputs": [],
   "source": [
    "no_pages = 6\n",
    "\n",
    "def get_data(pageNo):  \n",
    "    headers = {\"User-Agent\":\"Mozilla/5.0 (Windows NT 10.0; Win64; x64; rv:66.0) Gecko/20100101 Firefox/66.0\", \"Accept-Encoding\":\"gzip, deflate\", \"Accept\":\"text/html,application/xhtml+xml,application/xml;q=0.9,*/*;q=0.8\", \"DNT\":\"1\",\"Connection\":\"close\", \"Upgrade-Insecure-Requests\":\"1\"}\n",
    "\n",
    "    r = requests.get('https://www.amazon.in/gp/bestsellers/books/ref=zg_bs_pg_'+str(pageNo)+'?ie=UTF8&pg='+str(pageNo), headers=headers)#, proxies=proxies)\n",
    "    content = r.content\n",
    "    soup = BeautifulSoup(content)\n",
    "    #print(soup)\n",
    "\n",
    "    alls = []\n",
    "    for d in soup.findAll('div', attrs={'class':'a-section a-spacing-none aok-relative'}):\n",
    "        #print(d)\n",
    "        name = d.find('span', attrs={'class':'zg-text-center-align'})\n",
    "        n = name.find_all('img', alt=True)\n",
    "        #print(n[0]['alt'])\n",
    "        author = d.find('a', attrs={'class':'a-size-small a-link-child'})\n",
    "        rating = d.find('span', attrs={'class':'a-icon-alt'})\n",
    "        users_rated = d.find('a', attrs={'class':'a-size-small a-link-normal'})\n",
    "        price = d.find('span', attrs={'class':'p13n-sc-price'})\n",
    "\n",
    "        all1=[]\n",
    "\n",
    "        if name is not None:\n",
    "            #print(n[0]['alt'])\n",
    "            all1.append(n[0]['alt'])\n",
    "        else:\n",
    "            all1.append(\"unknown-product\")\n",
    "\n",
    "        if author is not None:\n",
    "            #print(author.text)\n",
    "            all1.append(author.text)\n",
    "        elif author is None:\n",
    "            author = d.find('span', attrs={'class':'a-size-small a-color-base'})\n",
    "            if author is not None:\n",
    "                all1.append(author.text)\n",
    "            else:    \n",
    "                all1.append('0')\n",
    "\n",
    "        if rating is not None:\n",
    "            #print(rating.text)\n",
    "            all1.append(rating.text)\n",
    "        else:\n",
    "            all1.append('-1')\n",
    "\n",
    "        if users_rated is not None:\n",
    "            #print(price.text)\n",
    "            all1.append(users_rated.text)\n",
    "        else:\n",
    "            all1.append('0')     \n",
    "\n",
    "        if price is not None:\n",
    "            #print(price.text)\n",
    "            all1.append(price.text)\n",
    "        else:\n",
    "            all1.append('0')\n",
    "        alls.append(all1)    \n",
    "    return alls"
   ]
  },
  {
   "cell_type": "code",
   "execution_count": 16,
   "id": "a16f3dbb-961f-4f46-9f52-8c5845803394",
   "metadata": {},
   "outputs": [],
   "source": [
    "results = []\n",
    "for i in range(1, no_pages+1):\n",
    "    results.append(get_data(i))\n",
    "flatten = lambda l: [item for sublist in l for item in sublist]\n",
    "df = pd.DataFrame(flatten(results),columns=['Book Name','Author','Rating','Customers_Rated', 'Price'])\n",
    "df.to_csv('amazon_products.csv', index=False, encoding='utf-8')"
   ]
  },
  {
   "cell_type": "code",
   "execution_count": 17,
   "id": "2ecd1213-a3c6-4f11-8342-fa311ebe64ab",
   "metadata": {},
   "outputs": [
    {
     "data": {
      "text/plain": [
       "(100, 5)"
      ]
     },
     "execution_count": 17,
     "metadata": {},
     "output_type": "execute_result"
    }
   ],
   "source": [
    "df.shape"
   ]
  },
  {
   "cell_type": "code",
   "execution_count": 19,
   "id": "0a75674e-d652-4fb4-b76d-d4088903aadc",
   "metadata": {},
   "outputs": [
    {
     "data": {
      "text/plain": [
       "0    4.5\n",
       "1    4.6\n",
       "2    4.6\n",
       "3    4.4\n",
       "4    4.4\n",
       "Name: Rating, dtype: object"
      ]
     },
     "execution_count": 19,
     "metadata": {},
     "output_type": "execute_result"
    }
   ],
   "source": [
    "df['Rating'] = df['Rating'].apply(lambda x: x.split()[0])\n",
    "df['Rating'].head()"
   ]
  },
  {
   "cell_type": "code",
   "execution_count": 18,
   "id": "3e53962c-ab10-4e47-9f44-2f6cfe5bd8a4",
   "metadata": {},
   "outputs": [
    {
     "data": {
      "text/html": [
       "<div>\n",
       "<style scoped>\n",
       "    .dataframe tbody tr th:only-of-type {\n",
       "        vertical-align: middle;\n",
       "    }\n",
       "\n",
       "    .dataframe tbody tr th {\n",
       "        vertical-align: top;\n",
       "    }\n",
       "\n",
       "    .dataframe thead th {\n",
       "        text-align: right;\n",
       "    }\n",
       "</style>\n",
       "<table border=\"1\" class=\"dataframe\">\n",
       "  <thead>\n",
       "    <tr style=\"text-align: right;\">\n",
       "      <th></th>\n",
       "      <th>Book Name</th>\n",
       "      <th>Author</th>\n",
       "      <th>Rating</th>\n",
       "      <th>Customers_Rated</th>\n",
       "      <th>Price</th>\n",
       "    </tr>\n",
       "  </thead>\n",
       "  <tbody>\n",
       "    <tr>\n",
       "      <th>0</th>\n",
       "      <td>My First Library: Boxset of 10 Board Books for...</td>\n",
       "      <td>Wonder House Books</td>\n",
       "      <td>4.5 out of 5 stars</td>\n",
       "      <td>27,035</td>\n",
       "      <td>₹399.00</td>\n",
       "    </tr>\n",
       "    <tr>\n",
       "      <th>1</th>\n",
       "      <td>Ikigai: The Japanese secret to a long and happ...</td>\n",
       "      <td>Héctor García</td>\n",
       "      <td>4.6 out of 5 stars</td>\n",
       "      <td>16,704</td>\n",
       "      <td>₹299.00</td>\n",
       "    </tr>\n",
       "    <tr>\n",
       "      <th>2</th>\n",
       "      <td>The Psychology of Money</td>\n",
       "      <td>Morgan Housel</td>\n",
       "      <td>4.6 out of 5 stars</td>\n",
       "      <td>11,681</td>\n",
       "      <td>₹295.00</td>\n",
       "    </tr>\n",
       "    <tr>\n",
       "      <th>3</th>\n",
       "      <td>My First Book of Pencil Control : Practice Pat...</td>\n",
       "      <td>Wonder House Books</td>\n",
       "      <td>4.4 out of 5 stars</td>\n",
       "      <td>6,688</td>\n",
       "      <td>₹89.00</td>\n",
       "    </tr>\n",
       "    <tr>\n",
       "      <th>4</th>\n",
       "      <td>Word Power Made Easy</td>\n",
       "      <td>Norman Lewis</td>\n",
       "      <td>4.4 out of 5 stars</td>\n",
       "      <td>22,773</td>\n",
       "      <td>₹90.00</td>\n",
       "    </tr>\n",
       "    <tr>\n",
       "      <th>...</th>\n",
       "      <td>...</td>\n",
       "      <td>...</td>\n",
       "      <td>...</td>\n",
       "      <td>...</td>\n",
       "      <td>...</td>\n",
       "    </tr>\n",
       "    <tr>\n",
       "      <th>56</th>\n",
       "      <td>Peppa Pig: Little Library</td>\n",
       "      <td>Peppa Pig</td>\n",
       "      <td>4.3 out of 5 stars</td>\n",
       "      <td>14,124</td>\n",
       "      <td>₹198.00</td>\n",
       "    </tr>\n",
       "    <tr>\n",
       "      <th>57</th>\n",
       "      <td>Capital Letters ABC: Write and practice Capita...</td>\n",
       "      <td>Wonder House Books</td>\n",
       "      <td>4.3 out of 5 stars</td>\n",
       "      <td>1,231</td>\n",
       "      <td>₹42.00</td>\n",
       "    </tr>\n",
       "    <tr>\n",
       "      <th>58</th>\n",
       "      <td>Amazon Brand - Solimo Board Books for Kids (Se...</td>\n",
       "      <td>Solimo</td>\n",
       "      <td>4.5 out of 5 stars</td>\n",
       "      <td>4,445</td>\n",
       "      <td>₹480.00</td>\n",
       "    </tr>\n",
       "    <tr>\n",
       "      <th>59</th>\n",
       "      <td>Mahatma Gandhi Autobiography: The Story Of My ...</td>\n",
       "      <td>Mahatma Gandhi</td>\n",
       "      <td>4.5 out of 5 stars</td>\n",
       "      <td>3,330</td>\n",
       "      <td>₹99.00</td>\n",
       "    </tr>\n",
       "    <tr>\n",
       "      <th>60</th>\n",
       "      <td>Think &amp; Grow Rich</td>\n",
       "      <td>Napoleon Hill</td>\n",
       "      <td>4.5 out of 5 stars</td>\n",
       "      <td>50,673</td>\n",
       "      <td>₹97.00</td>\n",
       "    </tr>\n",
       "  </tbody>\n",
       "</table>\n",
       "<p>61 rows × 5 columns</p>\n",
       "</div>"
      ],
      "text/plain": [
       "                                            Book Name              Author  \\\n",
       "0   My First Library: Boxset of 10 Board Books for...  Wonder House Books   \n",
       "1   Ikigai: The Japanese secret to a long and happ...       Héctor García   \n",
       "2                             The Psychology of Money       Morgan Housel   \n",
       "3   My First Book of Pencil Control : Practice Pat...  Wonder House Books   \n",
       "4                                Word Power Made Easy        Norman Lewis   \n",
       "..                                                ...                 ...   \n",
       "56                          Peppa Pig: Little Library           Peppa Pig   \n",
       "57  Capital Letters ABC: Write and practice Capita...  Wonder House Books   \n",
       "58  Amazon Brand - Solimo Board Books for Kids (Se...              Solimo   \n",
       "59  Mahatma Gandhi Autobiography: The Story Of My ...      Mahatma Gandhi   \n",
       "60                                  Think & Grow Rich       Napoleon Hill   \n",
       "\n",
       "                Rating Customers_Rated    Price  \n",
       "0   4.5 out of 5 stars          27,035  ₹399.00  \n",
       "1   4.6 out of 5 stars          16,704  ₹299.00  \n",
       "2   4.6 out of 5 stars          11,681  ₹295.00  \n",
       "3   4.4 out of 5 stars           6,688   ₹89.00  \n",
       "4   4.4 out of 5 stars          22,773   ₹90.00  \n",
       "..                 ...             ...      ...  \n",
       "56  4.3 out of 5 stars          14,124  ₹198.00  \n",
       "57  4.3 out of 5 stars           1,231   ₹42.00  \n",
       "58  4.5 out of 5 stars           4,445  ₹480.00  \n",
       "59  4.5 out of 5 stars           3,330   ₹99.00  \n",
       "60  4.5 out of 5 stars          50,673   ₹97.00  \n",
       "\n",
       "[61 rows x 5 columns]"
      ]
     },
     "execution_count": 18,
     "metadata": {},
     "output_type": "execute_result"
    }
   ],
   "source": [
    "df.head(61)"
   ]
  },
  {
   "cell_type": "code",
   "execution_count": 26,
   "id": "d82d1d6c-e527-4dfe-8905-dfa2b5f9a317",
   "metadata": {},
   "outputs": [],
   "source": [
    "df['Rating'] = pd.to_numeric(df['Rating'])"
   ]
  },
  {
   "cell_type": "code",
   "execution_count": 27,
   "id": "3314b1a5-b69c-4830-8d13-b1e2577afeba",
   "metadata": {},
   "outputs": [],
   "source": [
    "df[\"Price\"] = df[\"Price\"].str.replace('₹', '')"
   ]
  },
  {
   "cell_type": "code",
   "execution_count": 28,
   "id": "c137f309-39bf-4dff-8b4e-7bdbe6f90b93",
   "metadata": {},
   "outputs": [],
   "source": [
    "df[\"Price\"] = df[\"Price\"].str.replace(',', '')"
   ]
  },
  {
   "cell_type": "code",
   "execution_count": 29,
   "id": "50f44e82-0aad-4560-9cd0-03be6b73ed1d",
   "metadata": {},
   "outputs": [
    {
     "data": {
      "text/plain": [
       "0    399\n",
       "1    299\n",
       "2    295\n",
       "3     89\n",
       "4     90\n",
       "Name: Price, dtype: object"
      ]
     },
     "execution_count": 29,
     "metadata": {},
     "output_type": "execute_result"
    }
   ],
   "source": [
    "df[\"Price\"].head()"
   ]
  },
  {
   "cell_type": "code",
   "execution_count": 30,
   "id": "c1666fc4-c6ed-4a9d-a6df-f5b0b4b09be4",
   "metadata": {},
   "outputs": [],
   "source": [
    "df['Price'] = df['Price'].apply(lambda x: x.split('.')[0])"
   ]
  },
  {
   "cell_type": "code",
   "execution_count": 31,
   "id": "e4aeb848-10f6-44ce-a50f-d99f038620b6",
   "metadata": {},
   "outputs": [],
   "source": [
    "df['Price'] = df['Price'].astype(int)"
   ]
  },
  {
   "cell_type": "code",
   "execution_count": 32,
   "id": "dd8a1536-d60d-4e74-a799-628f0b398ab2",
   "metadata": {},
   "outputs": [],
   "source": [
    "df[\"Customers_Rated\"] = df[\"Customers_Rated\"].str.replace(',', '')"
   ]
  },
  {
   "cell_type": "code",
   "execution_count": 33,
   "id": "b365a540-27ad-45cb-831f-949b85847943",
   "metadata": {},
   "outputs": [],
   "source": [
    "df['Customers_Rated'] = pd.to_numeric(df['Customers_Rated'], errors='ignore')"
   ]
  },
  {
   "cell_type": "code",
   "execution_count": 34,
   "id": "7564a04d-1637-4379-9892-56e7a301fa4b",
   "metadata": {},
   "outputs": [
    {
     "data": {
      "text/html": [
       "<div>\n",
       "<style scoped>\n",
       "    .dataframe tbody tr th:only-of-type {\n",
       "        vertical-align: middle;\n",
       "    }\n",
       "\n",
       "    .dataframe tbody tr th {\n",
       "        vertical-align: top;\n",
       "    }\n",
       "\n",
       "    .dataframe thead th {\n",
       "        text-align: right;\n",
       "    }\n",
       "</style>\n",
       "<table border=\"1\" class=\"dataframe\">\n",
       "  <thead>\n",
       "    <tr style=\"text-align: right;\">\n",
       "      <th></th>\n",
       "      <th>Book Name</th>\n",
       "      <th>Author</th>\n",
       "      <th>Rating</th>\n",
       "      <th>Customers_Rated</th>\n",
       "      <th>Price</th>\n",
       "    </tr>\n",
       "  </thead>\n",
       "  <tbody>\n",
       "    <tr>\n",
       "      <th>0</th>\n",
       "      <td>My First Library: Boxset of 10 Board Books for...</td>\n",
       "      <td>Wonder House Books</td>\n",
       "      <td>4.5</td>\n",
       "      <td>27035</td>\n",
       "      <td>399</td>\n",
       "    </tr>\n",
       "    <tr>\n",
       "      <th>1</th>\n",
       "      <td>Ikigai: The Japanese secret to a long and happ...</td>\n",
       "      <td>Héctor García</td>\n",
       "      <td>4.6</td>\n",
       "      <td>16704</td>\n",
       "      <td>299</td>\n",
       "    </tr>\n",
       "    <tr>\n",
       "      <th>2</th>\n",
       "      <td>The Psychology of Money</td>\n",
       "      <td>Morgan Housel</td>\n",
       "      <td>4.6</td>\n",
       "      <td>11681</td>\n",
       "      <td>295</td>\n",
       "    </tr>\n",
       "    <tr>\n",
       "      <th>3</th>\n",
       "      <td>My First Book of Pencil Control : Practice Pat...</td>\n",
       "      <td>Wonder House Books</td>\n",
       "      <td>4.4</td>\n",
       "      <td>6688</td>\n",
       "      <td>89</td>\n",
       "    </tr>\n",
       "    <tr>\n",
       "      <th>4</th>\n",
       "      <td>Word Power Made Easy</td>\n",
       "      <td>Norman Lewis</td>\n",
       "      <td>4.4</td>\n",
       "      <td>22773</td>\n",
       "      <td>90</td>\n",
       "    </tr>\n",
       "  </tbody>\n",
       "</table>\n",
       "</div>"
      ],
      "text/plain": [
       "                                           Book Name              Author  \\\n",
       "0  My First Library: Boxset of 10 Board Books for...  Wonder House Books   \n",
       "1  Ikigai: The Japanese secret to a long and happ...       Héctor García   \n",
       "2                            The Psychology of Money       Morgan Housel   \n",
       "3  My First Book of Pencil Control : Practice Pat...  Wonder House Books   \n",
       "4                               Word Power Made Easy        Norman Lewis   \n",
       "\n",
       "   Rating  Customers_Rated  Price  \n",
       "0     4.5            27035    399  \n",
       "1     4.6            16704    299  \n",
       "2     4.6            11681    295  \n",
       "3     4.4             6688     89  \n",
       "4     4.4            22773     90  "
      ]
     },
     "execution_count": 34,
     "metadata": {},
     "output_type": "execute_result"
    }
   ],
   "source": [
    "df.head()"
   ]
  },
  {
   "cell_type": "code",
   "execution_count": 35,
   "id": "8521226b-e6bd-44b7-93fc-27acc7edaaff",
   "metadata": {},
   "outputs": [
    {
     "data": {
      "text/plain": [
       "Book Name           object\n",
       "Author              object\n",
       "Rating             float64\n",
       "Customers_Rated      int64\n",
       "Price                int32\n",
       "dtype: object"
      ]
     },
     "execution_count": 35,
     "metadata": {},
     "output_type": "execute_result"
    }
   ],
   "source": [
    "df.dtypes"
   ]
  },
  {
   "cell_type": "code",
   "execution_count": null,
   "id": "35c19ccd-aad7-47d4-ab22-7f53ba1a7f52",
   "metadata": {},
   "outputs": [],
   "source": []
  }
 ],
 "metadata": {
  "kernelspec": {
   "display_name": "Python 3",
   "language": "python",
   "name": "python3"
  },
  "language_info": {
   "codemirror_mode": {
    "name": "ipython",
    "version": 3
   },
   "file_extension": ".py",
   "mimetype": "text/x-python",
   "name": "python",
   "nbconvert_exporter": "python",
   "pygments_lexer": "ipython3",
   "version": "3.7.3"
  }
 },
 "nbformat": 4,
 "nbformat_minor": 5
}
