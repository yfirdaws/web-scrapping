{
 "cells": [
  {
   "cell_type": "code",
   "execution_count": 1,
   "id": "213e0329-e718-45ae-99b3-ca32bb556ae0",
   "metadata": {},
   "outputs": [],
   "source": [
    "import requests\n",
    "from requests import get\n",
    "from bs4 import BeautifulSoup\n",
    "import pandas as pd\n",
    "import numpy as np\n",
    "from selenium import webdriver\n",
    "from webdriver_manager.chrome import ChromeDriverManager"
   ]
  },
  {
   "cell_type": "code",
   "execution_count": 2,
   "id": "f69e8674-942b-42d0-9270-baaa8bdfb9db",
   "metadata": {},
   "outputs": [
    {
     "name": "stderr",
     "output_type": "stream",
     "text": [
      "\n",
      "\n",
      "====== WebDriver manager ======\n",
      "Current google-chrome version is 91.0.4472\n",
      "Get LATEST driver version for 91.0.4472\n",
      "Driver [C:\\Users\\yfird\\.wdm\\drivers\\chromedriver\\win32\\91.0.4472.101\\chromedriver.exe] found in cache\n"
     ]
    }
   ],
   "source": [
    "url = \"https://www.jumia.com.ng/catalog/?q=microphone\"\n",
    "headers = {\"Accept-Language\": \"en-US, en;q=0.5\"}\n",
    "driver = webdriver.Chrome(ChromeDriverManager().install())\n",
    "results = requests.get(url, headers=headers)"
   ]
  },
  {
   "cell_type": "code",
   "execution_count": 3,
   "id": "3a3dd0e5-ab89-439c-94dc-f4386820ff8c",
   "metadata": {},
   "outputs": [
    {
     "name": "stdout",
     "output_type": "stream",
     "text": [
      "https://www.jumia.com.ng/catalog/?q=microphone&page=1#catalog-listing\n",
      "https://www.jumia.com.ng/catalog/?q=microphone&page=2#catalog-listing\n",
      "https://www.jumia.com.ng/catalog/?q=microphone&page=3#catalog-listing\n",
      "https://www.jumia.com.ng/catalog/?q=microphone&page=4#catalog-listing\n",
      "https://www.jumia.com.ng/catalog/?q=microphone&page=5#catalog-listing\n",
      "https://www.jumia.com.ng/catalog/?q=microphone&page=6#catalog-listing\n",
      "https://www.jumia.com.ng/catalog/?q=microphone&page=7#catalog-listing\n",
      "https://www.jumia.com.ng/catalog/?q=microphone&page=8#catalog-listing\n",
      "https://www.jumia.com.ng/catalog/?q=microphone&page=9#catalog-listing\n",
      "https://www.jumia.com.ng/catalog/?q=microphone&page=10#catalog-listing\n",
      "https://www.jumia.com.ng/catalog/?q=microphone&page=11#catalog-listing\n",
      "https://www.jumia.com.ng/catalog/?q=microphone&page=12#catalog-listing\n",
      "https://www.jumia.com.ng/catalog/?q=microphone&page=13#catalog-listing\n",
      "https://www.jumia.com.ng/catalog/?q=microphone&page=14#catalog-listing\n",
      "https://www.jumia.com.ng/catalog/?q=microphone&page=15#catalog-listing\n",
      "https://www.jumia.com.ng/catalog/?q=microphone&page=16#catalog-listing\n",
      "https://www.jumia.com.ng/catalog/?q=microphone&page=17#catalog-listing\n",
      "https://www.jumia.com.ng/catalog/?q=microphone&page=18#catalog-listing\n",
      "https://www.jumia.com.ng/catalog/?q=microphone&page=19#catalog-listing\n",
      "https://www.jumia.com.ng/catalog/?q=microphone&page=20#catalog-listing\n",
      "https://www.jumia.com.ng/catalog/?q=microphone&page=21#catalog-listing\n",
      "https://www.jumia.com.ng/catalog/?q=microphone&page=22#catalog-listing\n",
      "https://www.jumia.com.ng/catalog/?q=microphone&page=23#catalog-listing\n",
      "https://www.jumia.com.ng/catalog/?q=microphone&page=24#catalog-listing\n",
      "https://www.jumia.com.ng/catalog/?q=microphone&page=25#catalog-listing\n",
      "https://www.jumia.com.ng/catalog/?q=microphone&page=26#catalog-listing\n",
      "https://www.jumia.com.ng/catalog/?q=microphone&page=27#catalog-listing\n",
      "https://www.jumia.com.ng/catalog/?q=microphone&page=28#catalog-listing\n",
      "https://www.jumia.com.ng/catalog/?q=microphone&page=29#catalog-listing\n",
      "https://www.jumia.com.ng/catalog/?q=microphone&page=30#catalog-listing\n",
      "https://www.jumia.com.ng/catalog/?q=microphone&page=31#catalog-listing\n",
      "https://www.jumia.com.ng/catalog/?q=microphone&page=32#catalog-listing\n",
      "https://www.jumia.com.ng/catalog/?q=microphone&page=33#catalog-listing\n",
      "https://www.jumia.com.ng/catalog/?q=microphone&page=34#catalog-listing\n",
      "https://www.jumia.com.ng/catalog/?q=microphone&page=35#catalog-listing\n",
      "https://www.jumia.com.ng/catalog/?q=microphone&page=36#catalog-listing\n",
      "https://www.jumia.com.ng/catalog/?q=microphone&page=37#catalog-listing\n",
      "https://www.jumia.com.ng/catalog/?q=microphone&page=38#catalog-listing\n",
      "https://www.jumia.com.ng/catalog/?q=microphone&page=39#catalog-listing\n",
      "https://www.jumia.com.ng/catalog/?q=microphone&page=40#catalog-listing\n",
      "https://www.jumia.com.ng/catalog/?q=microphone&page=41#catalog-listing\n",
      "https://www.jumia.com.ng/catalog/?q=microphone&page=42#catalog-listing\n",
      "https://www.jumia.com.ng/catalog/?q=microphone&page=43#catalog-listing\n",
      "https://www.jumia.com.ng/catalog/?q=microphone&page=44#catalog-listing\n",
      "https://www.jumia.com.ng/catalog/?q=microphone&page=45#catalog-listing\n",
      "https://www.jumia.com.ng/catalog/?q=microphone&page=46#catalog-listing\n",
      "https://www.jumia.com.ng/catalog/?q=microphone&page=47#catalog-listing\n",
      "https://www.jumia.com.ng/catalog/?q=microphone&page=48#catalog-listing\n",
      "https://www.jumia.com.ng/catalog/?q=microphone&page=49#catalog-listing\n"
     ]
    }
   ],
   "source": [
    "page=1\n",
    "while page !=50:\n",
    "    url=f\"https://www.jumia.com.ng/catalog/?q=microphone&page={page}#catalog-listing\"\n",
    "    print(url)\n",
    "    page=page +1"
   ]
  },
  {
   "cell_type": "code",
   "execution_count": 6,
   "id": "3b7dab43-32cb-40d0-91ee-16ca1e867f77",
   "metadata": {},
   "outputs": [],
   "source": [
    "page=1\n",
    "Name=[]\n",
    "Price=[]\n",
    "Rating=[]\n",
    "No_of_rating=[]\n",
    "while page !=30:\n",
    "    url=f\"https://www.jumia.com.ng/catalog/?q=microphone&page={page}#catalog-listing\"\n",
    "    driver.get(url)\n",
    "    results = driver.page_source\n",
    "    soup = BeautifulSoup(results, \"html.parser\")\n",
    "\n",
    "    products=soup.find_all('div', class_=\"info\")\n",
    "    for item in products:\n",
    "        name=item.h3.text\n",
    "        Name.append(name)\n",
    "        #price\n",
    "        price=item.find('div',class_='prc')\n",
    "        if price is not None:\n",
    "             price= price       \n",
    "        else:\n",
    "             price = 'No price'\n",
    "               \n",
    "        Price.append(price)\n",
    "        #Rating\n",
    "       # rating=item.find('div',class_=\"rev\")\n",
    "        #for r in rating:\n",
    "             #if rating is not None:\n",
    "                     #rating = rating\n",
    "        #else:\n",
    "                #rating = 'No Rating'\n",
    "        #Rating.append(rating)\n",
    "        #no of rating\n",
    "        #num=item.find('div',class_='in')\n",
    "        #No_of_rating.append(num)\n",
    "\n",
    "        \n",
    "    page=page +1\n",
    "\n"
   ]
  },
  {
   "cell_type": "code",
   "execution_count": 81,
   "id": "6aeb7313-51a8-4c0e-8cb6-912ef5bf6ea3",
   "metadata": {},
   "outputs": [],
   "source": [
    "microphone=pd.DataFrame({\n",
    "    'Name':Name,\n",
    "    'Price':Price,\n",
    "    #'Rating':Rating,\n",
    "    #'Num_ratings':No_of_rating\n",
    "})"
   ]
  },
  {
   "cell_type": "code",
   "execution_count": 82,
   "id": "7c1bda71-0094-4b71-95fb-122a78c5feb2",
   "metadata": {},
   "outputs": [
    {
     "data": {
      "text/html": [
       "<div>\n",
       "<style scoped>\n",
       "    .dataframe tbody tr th:only-of-type {\n",
       "        vertical-align: middle;\n",
       "    }\n",
       "\n",
       "    .dataframe tbody tr th {\n",
       "        vertical-align: top;\n",
       "    }\n",
       "\n",
       "    .dataframe thead th {\n",
       "        text-align: right;\n",
       "    }\n",
       "</style>\n",
       "<table border=\"1\" class=\"dataframe\">\n",
       "  <thead>\n",
       "    <tr style=\"text-align: right;\">\n",
       "      <th></th>\n",
       "      <th>Name</th>\n",
       "      <th>Price</th>\n",
       "    </tr>\n",
       "  </thead>\n",
       "  <tbody>\n",
       "    <tr>\n",
       "      <th>0</th>\n",
       "      <td>Microphone BM 800 Condenser Microphone Audio M...</td>\n",
       "      <td>[₦ 10,850]</td>\n",
       "    </tr>\n",
       "    <tr>\n",
       "      <th>1</th>\n",
       "      <td>Video Microphone Kit With Mini Microphone Tripod</td>\n",
       "      <td>[₦ 6,200]</td>\n",
       "    </tr>\n",
       "    <tr>\n",
       "      <th>2</th>\n",
       "      <td>BM800 Professional Suspension Microphone Kit S...</td>\n",
       "      <td>[₦ 17,450]</td>\n",
       "    </tr>\n",
       "    <tr>\n",
       "      <th>3</th>\n",
       "      <td>Ahuja Wireless Tie Microphone And Clip</td>\n",
       "      <td>[₦ 4,050]</td>\n",
       "    </tr>\n",
       "    <tr>\n",
       "      <th>4</th>\n",
       "      <td>Ahuja Wireless Tie Microphone And Clip</td>\n",
       "      <td>[₦ 4,100]</td>\n",
       "    </tr>\n",
       "  </tbody>\n",
       "</table>\n",
       "</div>"
      ],
      "text/plain": [
       "                                                Name       Price\n",
       "0  Microphone BM 800 Condenser Microphone Audio M...  [₦ 10,850]\n",
       "1   Video Microphone Kit With Mini Microphone Tripod   [₦ 6,200]\n",
       "2  BM800 Professional Suspension Microphone Kit S...  [₦ 17,450]\n",
       "3             Ahuja Wireless Tie Microphone And Clip   [₦ 4,050]\n",
       "4             Ahuja Wireless Tie Microphone And Clip   [₦ 4,100]"
      ]
     },
     "execution_count": 82,
     "metadata": {},
     "output_type": "execute_result"
    }
   ],
   "source": [
    "microphone.head()"
   ]
  },
  {
   "cell_type": "code",
   "execution_count": 83,
   "id": "7f583830-7633-41bf-b80b-b295c3ed5b4e",
   "metadata": {},
   "outputs": [
    {
     "data": {
      "text/html": [
       "<div>\n",
       "<style scoped>\n",
       "    .dataframe tbody tr th:only-of-type {\n",
       "        vertical-align: middle;\n",
       "    }\n",
       "\n",
       "    .dataframe tbody tr th {\n",
       "        vertical-align: top;\n",
       "    }\n",
       "\n",
       "    .dataframe thead th {\n",
       "        text-align: right;\n",
       "    }\n",
       "</style>\n",
       "<table border=\"1\" class=\"dataframe\">\n",
       "  <thead>\n",
       "    <tr style=\"text-align: right;\">\n",
       "      <th></th>\n",
       "      <th>Name</th>\n",
       "      <th>Price</th>\n",
       "    </tr>\n",
       "  </thead>\n",
       "  <tbody>\n",
       "    <tr>\n",
       "      <th>1387</th>\n",
       "      <td></td>\n",
       "      <td>[]</td>\n",
       "    </tr>\n",
       "    <tr>\n",
       "      <th>1388</th>\n",
       "      <td></td>\n",
       "      <td>[]</td>\n",
       "    </tr>\n",
       "    <tr>\n",
       "      <th>1389</th>\n",
       "      <td></td>\n",
       "      <td>[]</td>\n",
       "    </tr>\n",
       "    <tr>\n",
       "      <th>1390</th>\n",
       "      <td></td>\n",
       "      <td>[]</td>\n",
       "    </tr>\n",
       "    <tr>\n",
       "      <th>1391</th>\n",
       "      <td></td>\n",
       "      <td>[]</td>\n",
       "    </tr>\n",
       "  </tbody>\n",
       "</table>\n",
       "</div>"
      ],
      "text/plain": [
       "     Name Price\n",
       "1387         []\n",
       "1388         []\n",
       "1389         []\n",
       "1390         []\n",
       "1391         []"
      ]
     },
     "execution_count": 83,
     "metadata": {},
     "output_type": "execute_result"
    }
   ],
   "source": [
    "microphone.tail()"
   ]
  },
  {
   "cell_type": "code",
   "execution_count": 84,
   "id": "cc36c4fc-ad25-4418-903f-94f95c51c2c9",
   "metadata": {},
   "outputs": [
    {
     "data": {
      "text/plain": [
       "1382     [₦ 5,800]\n",
       "1383    [₦ 10,599]\n",
       "1384            []\n",
       "1385            []\n",
       "1386            []\n",
       "1387            []\n",
       "1388            []\n",
       "1389            []\n",
       "1390            []\n",
       "1391            []\n",
       "Name: Price, dtype: object"
      ]
     },
     "execution_count": 84,
     "metadata": {},
     "output_type": "execute_result"
    }
   ],
   "source": [
    "microphone['Price'].tail(10)"
   ]
  },
  {
   "cell_type": "code",
   "execution_count": 85,
   "id": "9e87ad32-f7de-47df-b75a-ca76481faa29",
   "metadata": {},
   "outputs": [
    {
     "data": {
      "text/plain": [
       "(1392, 2)"
      ]
     },
     "execution_count": 85,
     "metadata": {},
     "output_type": "execute_result"
    }
   ],
   "source": [
    "microphone.shape"
   ]
  },
  {
   "cell_type": "code",
   "execution_count": 86,
   "id": "d4583bae-35ca-4c34-af78-58956103cdc8",
   "metadata": {},
   "outputs": [
    {
     "data": {
      "text/html": [
       "<div>\n",
       "<style scoped>\n",
       "    .dataframe tbody tr th:only-of-type {\n",
       "        vertical-align: middle;\n",
       "    }\n",
       "\n",
       "    .dataframe tbody tr th {\n",
       "        vertical-align: top;\n",
       "    }\n",
       "\n",
       "    .dataframe thead th {\n",
       "        text-align: right;\n",
       "    }\n",
       "</style>\n",
       "<table border=\"1\" class=\"dataframe\">\n",
       "  <thead>\n",
       "    <tr style=\"text-align: right;\">\n",
       "      <th></th>\n",
       "      <th>Name</th>\n",
       "      <th>Price</th>\n",
       "    </tr>\n",
       "  </thead>\n",
       "  <tbody>\n",
       "    <tr>\n",
       "      <th>1387</th>\n",
       "      <td></td>\n",
       "      <td>[]</td>\n",
       "    </tr>\n",
       "    <tr>\n",
       "      <th>1388</th>\n",
       "      <td></td>\n",
       "      <td>[]</td>\n",
       "    </tr>\n",
       "    <tr>\n",
       "      <th>1389</th>\n",
       "      <td></td>\n",
       "      <td>[]</td>\n",
       "    </tr>\n",
       "    <tr>\n",
       "      <th>1390</th>\n",
       "      <td></td>\n",
       "      <td>[]</td>\n",
       "    </tr>\n",
       "    <tr>\n",
       "      <th>1391</th>\n",
       "      <td></td>\n",
       "      <td>[]</td>\n",
       "    </tr>\n",
       "  </tbody>\n",
       "</table>\n",
       "</div>"
      ],
      "text/plain": [
       "     Name Price\n",
       "1387         []\n",
       "1388         []\n",
       "1389         []\n",
       "1390         []\n",
       "1391         []"
      ]
     },
     "execution_count": 86,
     "metadata": {},
     "output_type": "execute_result"
    }
   ],
   "source": [
    "microphone.tail()"
   ]
  },
  {
   "cell_type": "code",
   "execution_count": 88,
   "id": "b9abc5a7-f4a8-4cae-8cca-eafe8b465f7f",
   "metadata": {},
   "outputs": [],
   "source": [
    "microphone.to_csv('Jumia_microphone.csv', index=False)"
   ]
  },
  {
   "cell_type": "code",
   "execution_count": 91,
   "id": "d4f7544c-6540-4728-b24c-4f818a0bec8d",
   "metadata": {},
   "outputs": [
    {
     "data": {
      "text/html": [
       "<div>\n",
       "<style scoped>\n",
       "    .dataframe tbody tr th:only-of-type {\n",
       "        vertical-align: middle;\n",
       "    }\n",
       "\n",
       "    .dataframe tbody tr th {\n",
       "        vertical-align: top;\n",
       "    }\n",
       "\n",
       "    .dataframe thead th {\n",
       "        text-align: right;\n",
       "    }\n",
       "</style>\n",
       "<table border=\"1\" class=\"dataframe\">\n",
       "  <thead>\n",
       "    <tr style=\"text-align: right;\">\n",
       "      <th></th>\n",
       "      <th>Name</th>\n",
       "      <th>Price</th>\n",
       "    </tr>\n",
       "  </thead>\n",
       "  <tbody>\n",
       "    <tr>\n",
       "      <th>0</th>\n",
       "      <td>Microphone BM 800 Condenser Microphone Audio M...</td>\n",
       "      <td>NaN</td>\n",
       "    </tr>\n",
       "    <tr>\n",
       "      <th>1</th>\n",
       "      <td>Video Microphone Kit With Mini Microphone Tripod</td>\n",
       "      <td>NaN</td>\n",
       "    </tr>\n",
       "    <tr>\n",
       "      <th>2</th>\n",
       "      <td>BM800 Professional Suspension Microphone Kit S...</td>\n",
       "      <td>NaN</td>\n",
       "    </tr>\n",
       "    <tr>\n",
       "      <th>3</th>\n",
       "      <td>Ahuja Wireless Tie Microphone And Clip</td>\n",
       "      <td>NaN</td>\n",
       "    </tr>\n",
       "    <tr>\n",
       "      <th>4</th>\n",
       "      <td>Ahuja Wireless Tie Microphone And Clip</td>\n",
       "      <td>NaN</td>\n",
       "    </tr>\n",
       "  </tbody>\n",
       "</table>\n",
       "</div>"
      ],
      "text/plain": [
       "                                                Name  Price\n",
       "0  Microphone BM 800 Condenser Microphone Audio M...    NaN\n",
       "1   Video Microphone Kit With Mini Microphone Tripod    NaN\n",
       "2  BM800 Professional Suspension Microphone Kit S...    NaN\n",
       "3             Ahuja Wireless Tie Microphone And Clip    NaN\n",
       "4             Ahuja Wireless Tie Microphone And Clip    NaN"
      ]
     },
     "execution_count": 91,
     "metadata": {},
     "output_type": "execute_result"
    }
   ],
   "source": [
    "microphone.head()"
   ]
  },
  {
   "cell_type": "code",
   "execution_count": null,
   "id": "67b618c3-a8d3-42c9-a97f-b502b517104b",
   "metadata": {},
   "outputs": [],
   "source": []
  }
 ],
 "metadata": {
  "kernelspec": {
   "display_name": "Python 3",
   "language": "python",
   "name": "python3"
  },
  "language_info": {
   "codemirror_mode": {
    "name": "ipython",
    "version": 3
   },
   "file_extension": ".py",
   "mimetype": "text/x-python",
   "name": "python",
   "nbconvert_exporter": "python",
   "pygments_lexer": "ipython3",
   "version": "3.7.3"
  }
 },
 "nbformat": 4,
 "nbformat_minor": 5
}
