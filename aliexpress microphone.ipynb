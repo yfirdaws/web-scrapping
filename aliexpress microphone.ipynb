{
 "cells": [
  {
   "cell_type": "code",
   "execution_count": 26,
   "id": "203f39b0-5d9a-49f0-a6e8-f0edd016b77f",
   "metadata": {},
   "outputs": [],
   "source": [
    "import requests\n",
    "from requests import get\n",
    "from bs4 import BeautifulSoup\n",
    "import pandas as pd\n",
    "import numpy as np\n"
   ]
  },
  {
   "cell_type": "code",
   "execution_count": 27,
   "id": "61d3cb55-d5cc-434f-8e6b-8356ba46366c",
   "metadata": {},
   "outputs": [],
   "source": [
    "#url='https://www.amazon.com/s?k=Microphone+for+Podcast&ref=nb_sb_noss'\n",
    "headers = {\"Accept-Language\": \"en-US, en;q=0.5\"}\n",
    "#results = requests.get(url, headers=headers)"
   ]
  },
  {
   "cell_type": "code",
   "execution_count": 49,
   "id": "7e935219-9359-4927-bf87-9a1b3f08e096",
   "metadata": {},
   "outputs": [
    {
     "name": "stdout",
     "output_type": "stream",
     "text": [
      "https://www.aliexpress.com/wholesale?trafficChannel=ppc&d=y&CatId=0&SearchText=microphone&ltype=premium&SortType=default&page=1\n",
      "https://www.aliexpress.com/wholesale?trafficChannel=ppc&d=y&CatId=0&SearchText=microphone&ltype=premium&SortType=default&page=2\n",
      "https://www.aliexpress.com/wholesale?trafficChannel=ppc&d=y&CatId=0&SearchText=microphone&ltype=premium&SortType=default&page=3\n",
      "https://www.aliexpress.com/wholesale?trafficChannel=ppc&d=y&CatId=0&SearchText=microphone&ltype=premium&SortType=default&page=4\n",
      "https://www.aliexpress.com/wholesale?trafficChannel=ppc&d=y&CatId=0&SearchText=microphone&ltype=premium&SortType=default&page=5\n",
      "https://www.aliexpress.com/wholesale?trafficChannel=ppc&d=y&CatId=0&SearchText=microphone&ltype=premium&SortType=default&page=6\n",
      "https://www.aliexpress.com/wholesale?trafficChannel=ppc&d=y&CatId=0&SearchText=microphone&ltype=premium&SortType=default&page=7\n",
      "https://www.aliexpress.com/wholesale?trafficChannel=ppc&d=y&CatId=0&SearchText=microphone&ltype=premium&SortType=default&page=8\n",
      "https://www.aliexpress.com/wholesale?trafficChannel=ppc&d=y&CatId=0&SearchText=microphone&ltype=premium&SortType=default&page=9\n",
      "https://www.aliexpress.com/wholesale?trafficChannel=ppc&d=y&CatId=0&SearchText=microphone&ltype=premium&SortType=default&page=10\n",
      "https://www.aliexpress.com/wholesale?trafficChannel=ppc&d=y&CatId=0&SearchText=microphone&ltype=premium&SortType=default&page=11\n",
      "https://www.aliexpress.com/wholesale?trafficChannel=ppc&d=y&CatId=0&SearchText=microphone&ltype=premium&SortType=default&page=12\n",
      "https://www.aliexpress.com/wholesale?trafficChannel=ppc&d=y&CatId=0&SearchText=microphone&ltype=premium&SortType=default&page=13\n",
      "https://www.aliexpress.com/wholesale?trafficChannel=ppc&d=y&CatId=0&SearchText=microphone&ltype=premium&SortType=default&page=14\n",
      "https://www.aliexpress.com/wholesale?trafficChannel=ppc&d=y&CatId=0&SearchText=microphone&ltype=premium&SortType=default&page=15\n",
      "https://www.aliexpress.com/wholesale?trafficChannel=ppc&d=y&CatId=0&SearchText=microphone&ltype=premium&SortType=default&page=16\n",
      "https://www.aliexpress.com/wholesale?trafficChannel=ppc&d=y&CatId=0&SearchText=microphone&ltype=premium&SortType=default&page=17\n",
      "https://www.aliexpress.com/wholesale?trafficChannel=ppc&d=y&CatId=0&SearchText=microphone&ltype=premium&SortType=default&page=18\n",
      "https://www.aliexpress.com/wholesale?trafficChannel=ppc&d=y&CatId=0&SearchText=microphone&ltype=premium&SortType=default&page=19\n",
      "https://www.aliexpress.com/wholesale?trafficChannel=ppc&d=y&CatId=0&SearchText=microphone&ltype=premium&SortType=default&page=20\n",
      "https://www.aliexpress.com/wholesale?trafficChannel=ppc&d=y&CatId=0&SearchText=microphone&ltype=premium&SortType=default&page=21\n",
      "https://www.aliexpress.com/wholesale?trafficChannel=ppc&d=y&CatId=0&SearchText=microphone&ltype=premium&SortType=default&page=22\n",
      "https://www.aliexpress.com/wholesale?trafficChannel=ppc&d=y&CatId=0&SearchText=microphone&ltype=premium&SortType=default&page=23\n",
      "https://www.aliexpress.com/wholesale?trafficChannel=ppc&d=y&CatId=0&SearchText=microphone&ltype=premium&SortType=default&page=24\n",
      "https://www.aliexpress.com/wholesale?trafficChannel=ppc&d=y&CatId=0&SearchText=microphone&ltype=premium&SortType=default&page=25\n",
      "https://www.aliexpress.com/wholesale?trafficChannel=ppc&d=y&CatId=0&SearchText=microphone&ltype=premium&SortType=default&page=26\n",
      "https://www.aliexpress.com/wholesale?trafficChannel=ppc&d=y&CatId=0&SearchText=microphone&ltype=premium&SortType=default&page=27\n",
      "https://www.aliexpress.com/wholesale?trafficChannel=ppc&d=y&CatId=0&SearchText=microphone&ltype=premium&SortType=default&page=28\n",
      "https://www.aliexpress.com/wholesale?trafficChannel=ppc&d=y&CatId=0&SearchText=microphone&ltype=premium&SortType=default&page=29\n",
      "https://www.aliexpress.com/wholesale?trafficChannel=ppc&d=y&CatId=0&SearchText=microphone&ltype=premium&SortType=default&page=30\n",
      "https://www.aliexpress.com/wholesale?trafficChannel=ppc&d=y&CatId=0&SearchText=microphone&ltype=premium&SortType=default&page=31\n",
      "https://www.aliexpress.com/wholesale?trafficChannel=ppc&d=y&CatId=0&SearchText=microphone&ltype=premium&SortType=default&page=32\n",
      "https://www.aliexpress.com/wholesale?trafficChannel=ppc&d=y&CatId=0&SearchText=microphone&ltype=premium&SortType=default&page=33\n",
      "https://www.aliexpress.com/wholesale?trafficChannel=ppc&d=y&CatId=0&SearchText=microphone&ltype=premium&SortType=default&page=34\n",
      "https://www.aliexpress.com/wholesale?trafficChannel=ppc&d=y&CatId=0&SearchText=microphone&ltype=premium&SortType=default&page=35\n",
      "https://www.aliexpress.com/wholesale?trafficChannel=ppc&d=y&CatId=0&SearchText=microphone&ltype=premium&SortType=default&page=36\n",
      "https://www.aliexpress.com/wholesale?trafficChannel=ppc&d=y&CatId=0&SearchText=microphone&ltype=premium&SortType=default&page=37\n",
      "https://www.aliexpress.com/wholesale?trafficChannel=ppc&d=y&CatId=0&SearchText=microphone&ltype=premium&SortType=default&page=38\n",
      "https://www.aliexpress.com/wholesale?trafficChannel=ppc&d=y&CatId=0&SearchText=microphone&ltype=premium&SortType=default&page=39\n",
      "https://www.aliexpress.com/wholesale?trafficChannel=ppc&d=y&CatId=0&SearchText=microphone&ltype=premium&SortType=default&page=40\n",
      "https://www.aliexpress.com/wholesale?trafficChannel=ppc&d=y&CatId=0&SearchText=microphone&ltype=premium&SortType=default&page=41\n",
      "https://www.aliexpress.com/wholesale?trafficChannel=ppc&d=y&CatId=0&SearchText=microphone&ltype=premium&SortType=default&page=42\n",
      "https://www.aliexpress.com/wholesale?trafficChannel=ppc&d=y&CatId=0&SearchText=microphone&ltype=premium&SortType=default&page=43\n",
      "https://www.aliexpress.com/wholesale?trafficChannel=ppc&d=y&CatId=0&SearchText=microphone&ltype=premium&SortType=default&page=44\n",
      "https://www.aliexpress.com/wholesale?trafficChannel=ppc&d=y&CatId=0&SearchText=microphone&ltype=premium&SortType=default&page=45\n",
      "https://www.aliexpress.com/wholesale?trafficChannel=ppc&d=y&CatId=0&SearchText=microphone&ltype=premium&SortType=default&page=46\n",
      "https://www.aliexpress.com/wholesale?trafficChannel=ppc&d=y&CatId=0&SearchText=microphone&ltype=premium&SortType=default&page=47\n",
      "https://www.aliexpress.com/wholesale?trafficChannel=ppc&d=y&CatId=0&SearchText=microphone&ltype=premium&SortType=default&page=48\n",
      "https://www.aliexpress.com/wholesale?trafficChannel=ppc&d=y&CatId=0&SearchText=microphone&ltype=premium&SortType=default&page=49\n"
     ]
    }
   ],
   "source": [
    "page=1\n",
    "while page !=50:\n",
    "    url=f\"https://www.aliexpress.com/wholesale?trafficChannel=ppc&d=y&CatId=0&SearchText=microphone&ltype=premium&SortType=default&page={page}\"\n",
    "    print(url)\n",
    "    page=page +1"
   ]
  },
  {
   "cell_type": "code",
   "execution_count": 57,
   "id": "1166f8d5-f7b7-4d3f-976e-4388c8cd307d",
   "metadata": {},
   "outputs": [],
   "source": [
    "page=1\n",
    "Name=[]\n",
    "Price=[]\n",
    "Rating=[]\n",
    "No_sold=[]\n",
    "Store=[]\n",
    "while page !=60:\n",
    "    url=f\"https://www.aliexpress.com/wholesale?trafficChannel=ppc&d=y&CatId=0&SearchText=microphone&ltype=premium&SortType=default&page={page}\"\n",
    "    results = requests.get(url, headers=headers)\n",
    "    soup = BeautifulSoup(results.content, \"html.parser\")\n",
    "\n",
    "    products=soup.find_all('div', class_=\"_1OUGS\")\n",
    "    for item in products:\n",
    "        links = soup.find('a', class_='awV9E')\n",
    "        for link in links:\n",
    "            name= links.get('title').text\n",
    "        Name.append(name)\n",
    "        #price\n",
    "        price=item.find('div',class_='_12A8D')\n",
    "        for p in price:\n",
    "             if result is not None:\n",
    "        price = result.text\n",
    "    else:\n",
    "        price = 'No price'\n",
    "        Price.append(price)\n",
    "        #Rating\n",
    "        rating=item.find('span',class_=\"_1hEhM\").text\n",
    "        Rating.append(rating)\n",
    "        #no of good sold\n",
    "        num=item.find('div',class_='_2i3yA').text\n",
    "        No_sold.append(num)\n",
    "        #store\n",
    "        store=item.find('a',class_='_2lsU7').text\n",
    "        Store.append(store)\n",
    "         if None in (name, price, rating,num,store):\n",
    "        continue\n",
    "    \n",
    "    page=page +1\n"
   ]
  },
  {
   "cell_type": "code",
   "execution_count": 61,
   "id": "6f59b653-059a-428f-98a4-8d916c6c9dac",
   "metadata": {},
   "outputs": [
    {
     "ename": "AttributeError",
     "evalue": "'NoneType' object has no attribute 'prettify'",
     "output_type": "error",
     "traceback": [
      "\u001b[1;31m---------------------------------------------------------------------------\u001b[0m",
      "\u001b[1;31mAttributeError\u001b[0m                            Traceback (most recent call last)",
      "\u001b[1;32m<ipython-input-61-7a17bb37421f>\u001b[0m in \u001b[0;36m<module>\u001b[1;34m\u001b[0m\n\u001b[0;32m      1\u001b[0m \u001b[0mprice\u001b[0m\u001b[1;33m=\u001b[0m\u001b[0msoup\u001b[0m\u001b[1;33m.\u001b[0m\u001b[0mfind\u001b[0m\u001b[1;33m(\u001b[0m\u001b[1;34m'div'\u001b[0m\u001b[1;33m,\u001b[0m\u001b[0mclass_\u001b[0m\u001b[1;33m=\u001b[0m\u001b[1;34m'_12A8D'\u001b[0m\u001b[1;33m)\u001b[0m\u001b[1;33m\u001b[0m\u001b[1;33m\u001b[0m\u001b[0m\n\u001b[1;32m----> 2\u001b[1;33m \u001b[0mprint\u001b[0m\u001b[1;33m(\u001b[0m\u001b[0mprice\u001b[0m\u001b[1;33m.\u001b[0m\u001b[0mprettify\u001b[0m\u001b[1;33m(\u001b[0m\u001b[1;33m)\u001b[0m\u001b[1;33m)\u001b[0m\u001b[1;33m\u001b[0m\u001b[1;33m\u001b[0m\u001b[0m\n\u001b[0m",
      "\u001b[1;31mAttributeError\u001b[0m: 'NoneType' object has no attribute 'prettify'"
     ]
    }
   ],
   "source": []
  },
  {
   "cell_type": "code",
   "execution_count": 62,
   "id": "62905bd9-02df-4547-9bcc-d312cbc20719",
   "metadata": {},
   "outputs": [],
   "source": [
    "df=pd.DataFrame({\n",
    "    'Name':Name,\n",
    "    'Price':Price,\n",
    "    'Rating':Rating,\n",
    "    'No_sold':No_sold\n",
    "})"
   ]
  },
  {
   "cell_type": "code",
   "execution_count": 63,
   "id": "46320528-337a-4950-bba2-ac1544cb6e61",
   "metadata": {},
   "outputs": [
    {
     "data": {
      "text/html": [
       "<div>\n",
       "<style scoped>\n",
       "    .dataframe tbody tr th:only-of-type {\n",
       "        vertical-align: middle;\n",
       "    }\n",
       "\n",
       "    .dataframe tbody tr th {\n",
       "        vertical-align: top;\n",
       "    }\n",
       "\n",
       "    .dataframe thead th {\n",
       "        text-align: right;\n",
       "    }\n",
       "</style>\n",
       "<table border=\"1\" class=\"dataframe\">\n",
       "  <thead>\n",
       "    <tr style=\"text-align: right;\">\n",
       "      <th></th>\n",
       "      <th>Name</th>\n",
       "      <th>Price</th>\n",
       "      <th>Rating</th>\n",
       "      <th>No_sold</th>\n",
       "    </tr>\n",
       "  </thead>\n",
       "  <tbody>\n",
       "  </tbody>\n",
       "</table>\n",
       "</div>"
      ],
      "text/plain": [
       "Empty DataFrame\n",
       "Columns: [Name, Price, Rating, No_sold]\n",
       "Index: []"
      ]
     },
     "execution_count": 63,
     "metadata": {},
     "output_type": "execute_result"
    }
   ],
   "source": [
    "df.head()"
   ]
  },
  {
   "cell_type": "code",
   "execution_count": 64,
   "id": "077281a3-ae84-4075-a6ee-19e19e008b28",
   "metadata": {},
   "outputs": [],
   "source": [
    "df.to_csv('Aliexpress_microphone.csv', index=False, encoding='utf-8')"
   ]
  },
  {
   "cell_type": "code",
   "execution_count": null,
   "id": "6a5e730c-da23-4f31-b42b-cae1890494d3",
   "metadata": {},
   "outputs": [],
   "source": [
    "  "
   ]
  }
 ],
 "metadata": {
  "kernelspec": {
   "display_name": "Python 3",
   "language": "python",
   "name": "python3"
  },
  "language_info": {
   "codemirror_mode": {
    "name": "ipython",
    "version": 3
   },
   "file_extension": ".py",
   "mimetype": "text/x-python",
   "name": "python",
   "nbconvert_exporter": "python",
   "pygments_lexer": "ipython3",
   "version": "3.7.3"
  }
 },
 "nbformat": 4,
 "nbformat_minor": 5
}
